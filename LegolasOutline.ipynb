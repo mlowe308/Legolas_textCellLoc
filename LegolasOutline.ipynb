{
 "cells": [
  {
   "cell_type": "markdown",
   "id": "a5e32ee6",
   "metadata": {},
   "source": [
    "# Legolas Outline\n",
    "\n",
    "Use this code to answer the challenges."
   ]
  },
  {
   "cell_type": "code",
   "execution_count": 1,
   "id": "81121651",
   "metadata": {},
   "outputs": [],
   "source": [
    "import utils\n",
    "from core import *"
   ]
  },
  {
   "cell_type": "code",
   "execution_count": null,
   "id": "8cf1dbbb",
   "metadata": {},
   "outputs": [],
   "source": [
    "# this is how you reset the rpyc server when facing the port already in use\n",
    "# need to change to actual host name\n",
    "host_1 = \"192.168.0.6\"\n",
    "host_2 = \"192.168.0.7\"\n",
    "\n",
    "utils.restart_server(host=host_1)\n",
    "utils.restart_server(host=host_2)"
   ]
  },
  {
   "cell_type": "code",
   "execution_count": 2,
   "id": "f7c1a4ef",
   "metadata": {},
   "outputs": [],
   "source": [
    "stage, depo_device, pH_device, conn1, conn2, config = load_from_config(\"config1.yaml\")"
   ]
  },
  {
   "cell_type": "code",
   "execution_count": null,
   "id": "25ba1a33",
   "metadata": {},
   "outputs": [],
   "source": [
    "# it is ok if this fails, just move on to the next code block\n",
    "sanity_check(stage=stage, pH_device=pH_device, depo_device=depo_device)"
   ]
  },
  {
   "cell_type": "code",
   "execution_count": 4,
   "id": "8e64d969",
   "metadata": {},
   "outputs": [
    {
     "name": "stdout",
     "output_type": "stream",
     "text": [
      "/dev/ttyACM0 ttyACM0 USB VID:PID=2341:0043 SER=9553034393435130E032 LOCATION=1-1.3:1.0\n",
      "/dev/ttyAMA0 ttyAMA0 fe201000.serial\n"
     ]
    }
   ],
   "source": [
    "# find the usb port if problem occur\n",
    "list_ports = conn1.modules['serial.tools.list_ports']\n",
    "\n",
    "ports=list_ports.comports()\n",
    "for port, desc, hwid in sorted(ports):\n",
    "    print(port, desc, hwid)"
   ]
  },
  {
   "cell_type": "code",
   "execution_count": 5,
   "id": "af6f243a",
   "metadata": {},
   "outputs": [],
   "source": [
    "# Go to Home Position\n",
    "reset(stage=stage, pH_device=pH_device, depo_device=depo_device)\n",
    "# stage.home()"
   ]
  },
  {
   "cell_type": "markdown",
   "id": "5c8f8ff3",
   "metadata": {},
   "source": [
    "## (1) Measurement Uncertainty\n",
    "\n",
    "**(a)** Write a script to create a sample with an equal amount of acid and base (Total volume should be 2 ml and each deposition sequence should not exceed 0.6 mL for LEGOLAS to function properly)\n",
    "\n",
    "**(b)** Write a script to follow these operations in a loop with 10 measurements:\n",
    "-  Dip the pH sensor in the DI water well\n",
    "-  Dip the pH sensor into the sample from (a), measure pH and record.\n",
    "\n",
    "**(c)** Plot the results from (b). \n",
    "\n",
    "What is the mean and variance of these measurements? Please include this information as markdown text in the Jupyter notebook.\n"
   ]
  },
  {
   "cell_type": "code",
   "execution_count": null,
   "id": "96d0beb9",
   "metadata": {},
   "outputs": [],
   "source": []
  },
  {
   "cell_type": "markdown",
   "id": "c6800637",
   "metadata": {},
   "source": [
    "## (2) The Henderson Hasselbach Equation\n",
    "\n",
    "The HH equation is given as:\n",
    "$pH = pK - log(\\frac{[Acid]}{[Base]})$\n",
    "\n",
    "The output gives the pH of the sample, pK is a constant, and [Acid] and [Base] are the **concentrations** of acid and base.  For these experiments we will work with the percentage of acid in the sample to create samples varying in composition from a percentage of acid of 10% through 80%.  \n",
    "\n",
    "**(a)** Write code that will create 8 samples of mixture amounts: acid [10%, 20%, ... 80%]\n",
    "\n",
    "**(b)** After each sample is made, have the system dip the pH sensor in the DI water well, and then measure the pH of the sample.  Plot the measured pH as a function of the [acid]/[base] **ratio**.  \n",
    "\n",
    "**(c)** Run the code created during steps (a) and (b) (this should be one for loop accomplishing both tasks together).  Then plot the results.  \n",
    "\n",
    "**(d)** We will now fit the HH equation to the data.  Write a function that takes in the [acid]/[base] ratio **x** and returns the **pH**, following this equation:\n",
    "-  Func(x, pK) = pK - log(x), where x = [acid]/[base]\n",
    "\n",
    "**(e)** Follow the example for the scipy function \"curve_fit\" to fit this function to the data you have measured: \n",
    "\n",
    "https://docs.scipy.org/doc/scipy/reference/generated/scipy.optimize.curve_fit.html\n",
    "\n",
    "(use default method and no optional parameters)\n",
    "\n",
    "**(f)** What is the pK value discovered?\n"
   ]
  },
  {
   "cell_type": "code",
   "execution_count": null,
   "id": "e4a11731",
   "metadata": {},
   "outputs": [],
   "source": []
  },
  {
   "cell_type": "markdown",
   "id": "b99b2149",
   "metadata": {},
   "source": [
    "## (3) Gaussian Process \n",
    "\n",
    "**(a)** Fit the data with Gaussian process regression using an RBF kernel.  Optimize the hyperparameters and plot the results.  Output the GP hyperparameters: kernel length scale, kernel variance, noise variance.\n",
    "\n",
    "**(b)** Do the same, but this time with the data for x = [10%,...,60%]\n",
    "\n",
    "**(c)** Bad assumptions:\n",
    "-  In (a) and (b) we optimized to find the best values for the hyperparameters. Let’s see what happens when we pick a poor value. Here we again will use the partial data used in (b). Using the following lines of code, fix the kernel length scale to first a value of 0.1 and then 10. For each case, optimize the rest of the parameters and plot the results. What is the impact of fixing a small or large value for the length scale?(m.rbf.lengthscale = 0.1, m.rbf.lengthscale.fix())\n",
    "- Now let’s see what happens when we make a poor assumption for the kernel. Again use the partial data from (b). Let’s set the kernel to the standard periodic: StdPeriodic(1)\n",
    "- This imposes the assumption that the pH function is periodic. Optimize all the hyperparameters and plot the result."
   ]
  },
  {
   "cell_type": "code",
   "execution_count": null,
   "id": "0f99a930",
   "metadata": {},
   "outputs": [],
   "source": []
  },
  {
   "cell_type": "markdown",
   "id": "5ec3d25e",
   "metadata": {},
   "source": [
    "## (4) Active Learning: Optimizing \n",
    "\n",
    "In this section we will combine the GP of (3a) with active learning.\n",
    "\n",
    "**(a)** We would like to find the value of x where pH = 4.75\n",
    "Define an acquisition function and discuss with the TA or a professor. For this challenge combine exploitation and exploration.\n",
    "\n",
    "**(b)** Combine the acquisition function with the GP of (3a). Hint: use the demo code from the active learning lecture. Allow active learning to select any 5% increment value of the acid percentage (5% through 95%). Have active learning make 8 samples in sequence, following the GP and active learning loop. What result do you get?\n",
    "\n"
   ]
  },
  {
   "cell_type": "code",
   "execution_count": null,
   "id": "50b2d456",
   "metadata": {},
   "outputs": [],
   "source": []
  }
 ],
 "metadata": {
  "kernelspec": {
   "display_name": "Python 3 (ipykernel)",
   "language": "python",
   "name": "python3"
  },
  "language_info": {
   "codemirror_mode": {
    "name": "ipython",
    "version": 3
   },
   "file_extension": ".py",
   "mimetype": "text/x-python",
   "name": "python",
   "nbconvert_exporter": "python",
   "pygments_lexer": "ipython3",
   "version": "3.7.6 (default, Jan  8 2020, 20:23:39) [MSC v.1916 64 bit (AMD64)]"
  },
  "vscode": {
   "interpreter": {
    "hash": "0095c6ec66f02ae1bc8a134f6078f14ee669be44a5c4ac33d7f267434e255fcc"
   }
  }
 },
 "nbformat": 4,
 "nbformat_minor": 5
}
