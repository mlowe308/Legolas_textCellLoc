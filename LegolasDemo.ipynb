{
 "cells": [
  {
   "cell_type": "markdown",
   "id": "d1f56319",
   "metadata": {},
   "source": [
    "# Legolas Demo Code\n",
    "\n",
    "Use this code to test your calibration values and as a reference for solving the challenges"
   ]
  },
  {
   "cell_type": "code",
   "execution_count": null,
   "id": "be239c73",
   "metadata": {},
   "outputs": [],
   "source": [
    "# Edit stage.home() by reporting x_start, y_start. See #added in core.py.\n",
    "# Edit pH by reading voltage. Edit core.py. In Jupyter, convert voltage to pH. Print voltage, pH."
   ]
  },
  {
   "cell_type": "code",
   "execution_count": 1,
   "id": "4ec84ee4",
   "metadata": {},
   "outputs": [
    {
     "name": "stdout",
     "output_type": "stream",
     "text": [
      "Requirement already satisfied: GPy in c:\\users\\mlowe\\appdata\\local\\anaconda3\\lib\\site-packages (1.13.1)\n",
      "Requirement already satisfied: numpy>=1.7 in c:\\users\\mlowe\\appdata\\local\\anaconda3\\lib\\site-packages (from GPy) (1.26.4)\n",
      "Requirement already satisfied: six in c:\\users\\mlowe\\appdata\\local\\anaconda3\\lib\\site-packages (from GPy) (1.16.0)\n",
      "Requirement already satisfied: paramz>=0.9.6 in c:\\users\\mlowe\\appdata\\local\\anaconda3\\lib\\site-packages (from GPy) (0.9.6)\n",
      "Requirement already satisfied: cython>=0.29 in c:\\users\\mlowe\\appdata\\local\\anaconda3\\lib\\site-packages (from GPy) (3.0.10)\n",
      "Requirement already satisfied: scipy<1.12.0,>=1.3.0 in c:\\users\\mlowe\\appdata\\local\\anaconda3\\lib\\site-packages (from GPy) (1.11.4)\n",
      "Requirement already satisfied: decorator>=4.0.10 in c:\\users\\mlowe\\appdata\\local\\anaconda3\\lib\\site-packages (from paramz>=0.9.6->GPy) (5.1.1)\n",
      "Requirement already satisfied: GPyOpt in c:\\users\\mlowe\\appdata\\local\\anaconda3\\lib\\site-packages (1.2.6)\n",
      "Requirement already satisfied: numpy>=1.7 in c:\\users\\mlowe\\appdata\\local\\anaconda3\\lib\\site-packages (from GPyOpt) (1.26.4)\n",
      "Requirement already satisfied: scipy>=0.16 in c:\\users\\mlowe\\appdata\\local\\anaconda3\\lib\\site-packages (from GPyOpt) (1.11.4)\n",
      "Requirement already satisfied: GPy>=1.8 in c:\\users\\mlowe\\appdata\\local\\anaconda3\\lib\\site-packages (from GPyOpt) (1.13.1)\n",
      "Requirement already satisfied: six in c:\\users\\mlowe\\appdata\\local\\anaconda3\\lib\\site-packages (from GPy>=1.8->GPyOpt) (1.16.0)\n",
      "Requirement already satisfied: paramz>=0.9.6 in c:\\users\\mlowe\\appdata\\local\\anaconda3\\lib\\site-packages (from GPy>=1.8->GPyOpt) (0.9.6)\n",
      "Requirement already satisfied: cython>=0.29 in c:\\users\\mlowe\\appdata\\local\\anaconda3\\lib\\site-packages (from GPy>=1.8->GPyOpt) (3.0.10)\n",
      "Requirement already satisfied: decorator>=4.0.10 in c:\\users\\mlowe\\appdata\\local\\anaconda3\\lib\\site-packages (from paramz>=0.9.6->GPy>=1.8->GPyOpt) (5.1.1)\n"
     ]
    }
   ],
   "source": [
    "#Can't install here. Do pip install in Anaconda prompt\n",
    "!pip install GPy\n",
    "# GPFlow, GPyTorch\n",
    "!pip install GPyOpt"
   ]
  },
  {
   "cell_type": "code",
   "execution_count": 1,
   "id": "f4e5d4fb",
   "metadata": {},
   "outputs": [],
   "source": [
    "from core import *\n",
    "import utils\n",
    "import time as time\n",
    "from pathlib import Path\n",
    "\n",
    "# import time is in core\n",
    "# import Path is in core"
   ]
  },
  {
   "cell_type": "code",
   "execution_count": 2,
   "id": "77cd6f4e",
   "metadata": {},
   "outputs": [
    {
     "name": "stdout",
     "output_type": "stream",
     "text": [
      "kill server at PID:2355\n",
      "restarting the rpyc server at host: 192.168.1.11\n",
      "rpyc server start successfully\n",
      "kill server at PID:1136\n",
      "restarting the rpyc server at host: 192.168.1.14\n",
      "rpyc server start successfully\n"
     ]
    }
   ],
   "source": [
    "# this is how you reset the rpyc server when facing the port already in use\n",
    "# need to change to actual host name\n",
    "host_1 = \"192.168.1.11\"\n",
    "host_2 = \"192.168.1.14\"\n",
    "\n",
    "utils.restart_server(host=host_1)\n",
    "utils.restart_server(host=host_2)"
   ]
  },
  {
   "cell_type": "code",
   "execution_count": null,
   "id": "a1355635",
   "metadata": {
    "scrolled": true
   },
   "outputs": [],
   "source": [
    "!dir ."
   ]
  },
  {
   "cell_type": "code",
   "execution_count": 45,
   "id": "4caab904",
   "metadata": {},
   "outputs": [
    {
     "name": "stdout",
     "output_type": "stream",
     "text": [
      "gets to #6.\n",
      "gets to #7\n",
      "gets to #8\n",
      "gets to #11. long timeout\n",
      "gets to #17. finishes connect_pi1\n",
      "gets to #18a\n",
      "gets to #18b. Right after conn=rpyc.classic.connect\n",
      "gets to #13. long timeout\n",
      "gets to #15. long timeout at 120 sec\n",
      "gets to #14. long timeout at 120 sec\n",
      "gets to #16. med timeout at 110 sec (reproducible)\n",
      "gets to #12. short timeout (reproducible)\n",
      "gets to #9. short timeout\n",
      "gets to #18. Finishes connect_pi2\n",
      "gets to #10 in load_from_config\n",
      "gets to #5 in load_from_config\n"
     ]
    }
   ],
   "source": [
    "stage, depo_device, pH_device, conn1, conn2, config = load_from_config(\"config.yaml\")"
   ]
  },
  {
   "cell_type": "code",
   "execution_count": null,
   "id": "034fc2c3",
   "metadata": {
    "scrolled": true
   },
   "outputs": [],
   "source": [
    "# it is ok if this fails, just move on to the next code block\n",
    "# sanity_check(stage=stage, pH_device=pH_device, depo_device=depo_device)"
   ]
  },
  {
   "cell_type": "code",
   "execution_count": null,
   "id": "c3cf9fa3",
   "metadata": {},
   "outputs": [],
   "source": [
    "# find the usb port if problem occur\n",
    "list_ports = conn1.modules['serial.tools.list_ports']\n",
    "\n",
    "ports=list_ports.comports()\n",
    "for port, desc, hwid in sorted(ports):\n",
    "    print(port, desc, hwid)"
   ]
  },
  {
   "cell_type": "code",
   "execution_count": 25,
   "id": "8d1239aa-132b-4cfb-a987-f4325352412d",
   "metadata": {
    "scrolled": true
   },
   "outputs": [],
   "source": [
    "# Go to Home Position\n",
    "x_start, y_start = stage.home()            #added\n",
    "#print('home x_start, y_start (motor coords):', x_start, y_start)     #added"
   ]
  },
  {
   "cell_type": "markdown",
   "id": "da037954",
   "metadata": {},
   "source": [
    "## Test Device Functionality"
   ]
  },
  {
   "cell_type": "code",
   "execution_count": null,
   "id": "be762347",
   "metadata": {
    "scrolled": true
   },
   "outputs": [],
   "source": [
    "# Go to Home Position and do other things. Be careful with this command.\n",
    "reset(stage=stage, pH_device=pH_device, depo_device=depo_device)\n",
    "# stage.home()"
   ]
  },
  {
   "cell_type": "code",
   "execution_count": null,
   "id": "55e2ed0a",
   "metadata": {},
   "outputs": [],
   "source": [
    "# Drop pH meter and raise it up (don't run if pH path is obstructed)\n",
    "pH_device.to_zpos(\"full_down\")\n",
    "pH_device.to_zpos(\"full_up\")"
   ]
  },
  {
   "cell_type": "code",
   "execution_count": null,
   "id": "93ad65a8",
   "metadata": {},
   "outputs": [],
   "source": [
    "# pH meter and raise it up (don't run if pH path is obstructed)\n",
    "pH_device.to_zpos(\"full_up\")"
   ]
  },
  {
   "cell_type": "code",
   "execution_count": null,
   "id": "3f683bdf",
   "metadata": {},
   "outputs": [],
   "source": [
    "# Drop pH meter and raise it up (don't run if pH path is obstructed)\n",
    "pH_device.to_zpos(\"full_down\")"
   ]
  },
  {
   "cell_type": "code",
   "execution_count": null,
   "id": "38626d5a",
   "metadata": {},
   "outputs": [],
   "source": [
    "# Drop deposition device and raise it up (don't run if syringe path is obstructed)\n",
    "depo_device.to_zpos(\"full_down\")\n",
    "depo_device.to_zpos(\"full_up\")"
   ]
  },
  {
   "cell_type": "markdown",
   "id": "3d6648b2",
   "metadata": {},
   "source": [
    "## Test Cell Mapping and Accuracy\n",
    "Use this code to see if pH device is aligning with the cell map properly\n",
    "\n",
    "If calibrated properly with the pH sensor, \"stage\" and \"pH_device\" will move the cart to the same spot"
   ]
  },
  {
   "cell_type": "code",
   "execution_count": null,
   "id": "9e28e0e2",
   "metadata": {},
   "outputs": [],
   "source": [
    "stage.home()"
   ]
  },
  {
   "cell_type": "code",
   "execution_count": 29,
   "id": "f3c86d12",
   "metadata": {},
   "outputs": [],
   "source": [
    "stage.move_to_cell(3,1)"
   ]
  },
  {
   "cell_type": "code",
   "execution_count": null,
   "id": "6eae7e6d",
   "metadata": {},
   "outputs": [],
   "source": [
    "stage.get_XYloc()"
   ]
  },
  {
   "cell_type": "code",
   "execution_count": 30,
   "id": "231ad7b0",
   "metadata": {},
   "outputs": [],
   "source": [
    "pH_device.to_zpos(\"full_down\")"
   ]
  },
  {
   "cell_type": "code",
   "execution_count": 31,
   "id": "77c86cc8",
   "metadata": {},
   "outputs": [],
   "source": [
    "pH_device.to_zpos(\"full_up\")"
   ]
  },
  {
   "cell_type": "code",
   "execution_count": 49,
   "id": "996c1d0f",
   "metadata": {},
   "outputs": [],
   "source": [
    "# Test positioning of pH sensor in specified row\n",
    "row=3\n",
    "stage.home()\n",
    "\n",
    "for i in range(6):\n",
    "    stage.move_to_cell(row,i)\n",
    "    pH_device.to_zpos(\"full_down\")\n",
    "    #time.sleep(2)\n",
    "    pH_device.to_zpos(\"full_up\")\n",
    "    #time.sleep(2)"
   ]
  },
  {
   "cell_type": "code",
   "execution_count": null,
   "id": "2b972586",
   "metadata": {},
   "outputs": [],
   "source": [
    "# Test positioning of pipet\n",
    "depo_device.move_to_cell(0,0)\n",
    "depo_device.to_zpos(\"full_down\")\n",
    "depo_device.to_zpos(\"full_up\")"
   ]
  },
  {
   "cell_type": "code",
   "execution_count": 35,
   "id": "97b2c1d8",
   "metadata": {},
   "outputs": [],
   "source": [
    "stage.move_to_loc(\"clean\")\n",
    "depo_device.to_zpos(\"full_down\")\n",
    "depo_device.to_zpos(\"full_up\")\n"
   ]
  },
  {
   "cell_type": "markdown",
   "id": "1495dad2",
   "metadata": {},
   "source": [
    "## Test pH device"
   ]
  },
  {
   "cell_type": "code",
   "execution_count": null,
   "id": "5cd72797",
   "metadata": {},
   "outputs": [],
   "source": [
    "# this is the pH meter object\n",
    "pH_device"
   ]
  },
  {
   "cell_type": "code",
   "execution_count": 21,
   "id": "d2a5623b",
   "metadata": {},
   "outputs": [],
   "source": [
    "pH_device.move_to_cell(row=3, col=0)"
   ]
  },
  {
   "cell_type": "code",
   "execution_count": 22,
   "id": "246a7844",
   "metadata": {},
   "outputs": [],
   "source": [
    "# Check vertical motion of pH sensor\n",
    "pH_device.to_zpos(\"full_down\")"
   ]
  },
  {
   "cell_type": "code",
   "execution_count": 23,
   "id": "96034d70",
   "metadata": {},
   "outputs": [],
   "source": [
    "pH_device.to_zpos(\"full_up\")"
   ]
  },
  {
   "cell_type": "code",
   "execution_count": null,
   "id": "4fb38c54",
   "metadata": {},
   "outputs": [],
   "source": [
    "# Cleaning locations in wells\n",
    "pH_device.move_to_cell(row=3, col=2)\n",
    "pH_device.to_zpos(\"full_down\")\n",
    "pH_device.to_zpos(\"full_up\")"
   ]
  },
  {
   "cell_type": "code",
   "execution_count": 50,
   "id": "e77b230f-8cbe-475c-ab0e-cc073dbc7811",
   "metadata": {},
   "outputs": [],
   "source": [
    "def clean():\n",
    "    pH_device.move_to_loc(\"clean\")\n",
    "    pH_device.to_zpos(\"full_down\")\n",
    "    pH_device.to_zpos(\"full_up\")\n",
    "\n",
    "clean()"
   ]
  },
  {
   "cell_type": "code",
   "execution_count": 43,
   "id": "6cb8e259-20d0-46fa-9e82-8df15b8d5d60",
   "metadata": {},
   "outputs": [
    {
     "name": "stdout",
     "output_type": "stream",
     "text": [
      "slope: 6.250000000000007, intercept: -10.687500000000023\n"
     ]
    },
    {
     "data": {
      "text/plain": [
       "<function matplotlib.pyplot.show(close=None, block=None)>"
      ]
     },
     "execution_count": 43,
     "metadata": {},
     "output_type": "execute_result"
    },
    {
     "data": {
      "image/png": "[encoded data removed]",
      "text/plain": [
       "<Figure size 640x480 with 1 Axes>"
      ]
     },
     "metadata": {},
     "output_type": "display_data"
    }
   ],
   "source": [
    "#calibration of the pH sensor\n",
    "#stage.home()\n",
    "\n",
    "#pH_device.move_to_loc(\"clean\")\n",
    "#pH_device.to_zpos(\"full_down\")\n",
    "#pH_device.to_zpos(\"full_up\")\n",
    "\n",
    "#pH_device.move_to_cell(row=0, col=0)\n",
    "#pH_device.to_zpos(\"full_down\")\n",
    "#m4 = pH_device.pH_measure(30)\n",
    "#pH_device.to_zpos(\"full_up\")\n",
    "#time.sleep(5)\n",
    "\n",
    "#pH_device.move_to_loc(\"blot\")\n",
    "#pH_device.to_zpos(\"full_down\")\n",
    "#time.sleep(1)\n",
    "#pH_device.to_zpos(\"full_up\")\n",
    "\n",
    "#pH_device.move_to_cell(row=0, col=1)\n",
    "#pH_device.to_zpos(\"full_down\")\n",
    "#m7 = pH_device.pH_measure(30)\n",
    "#pH_device.to_zpos(\"full_up\")\n",
    "\n",
    "m4=2.35\n",
    "m7=2.83\n",
    "\n",
    "y = [4,7]\n",
    "x = [m4,m7]\n",
    "\n",
    "line = np.polyfit(x,y,1)\n",
    "print(f'slope: {line[0]}, intercept: {line[1]}')\n",
    "trend = np.poly1d(line)\n",
    "plt.plot(x,y, 'ro', x, trend(x), '-k')\n",
    "plt.show()\n",
    "\n",
    "#print(f'pH = {line[0]*m4_2+line[1]}')  #test measurement pH"
   ]
  },
  {
   "cell_type": "code",
   "execution_count": null,
   "id": "e57cd6f6",
   "metadata": {},
   "outputs": [],
   "source": [
    "#Here, test this. Starting from Miller's LEGOLASGP.py\n",
    "def measure(j,i):\n",
    "    pH_device.move_to_cell(row=j, col=i)\n",
    "    pH_device.to_zpos(\"full_down\")\n",
    "    k = pH_device.pH_measure(30)\n",
    "    pH_device.to_zpos(\"full_up\")\n",
    "    return k                                #returns voltage\n",
    "\n",
    "def clean():\n",
    "    pH_device.move_to_loc(\"clean\")\n",
    "    pH_device.to_zpos(\"full_down\")\n",
    "    pH_device.to_zpos(\"full_up\")\n",
    "\n",
    "def blot():\n",
    "    pH_device.move_to_loc(\"blot\")\n",
    "    pH_device.to_zpos(\"full_down\")\n",
    "    time.sleep(1)\n",
    "    pH_device.to_zpos(\"full_up\")\n",
    "\n",
    "\n",
    "y = [7, 4, 7, 4, 7, 4]                       \n",
    "x = []\n",
    "\n",
    "for i in range(2):\n",
    "    stage.home()\n",
    "    clean()\n",
    "    blot()\n",
    "    if i==0:\n",
    "        m7 = measure(3,0)                    #obtains voltage value\n",
    "    if i==1:\n",
    "        m4 = measure(3,1)    \n",
    "\n",
    "for i in range(2,8): \n",
    "    if i % 2 == 0:\n",
    "        m7 = measure(3,0)                    \n",
    "        x.append(m7)\n",
    "    else:\n",
    "        m4 = measure(3,1)                    \n",
    "        x.append(m4)\n",
    "\n",
    "#PLOTTING FIT\n",
    "\n",
    "line = np.polyfit(x,y,1)\n",
    "print(f'slope: {line[0]}, intercept: {line[1]}')\n",
    "trend = np.poly1d(line)\n",
    "plt.plot(x,y, 'ro', x, trend(x), '-k')\n",
    "plt.show()                                     \n"
   ]
  },
  {
   "cell_type": "code",
   "execution_count": null,
   "id": "0e5e8741",
   "metadata": {},
   "outputs": [],
   "source": [
    "voltage = pH_device.pH_measure(40)\n",
    "\n",
    "# Added 6/19/24\n",
    "pH = 16.746*voltage-40.188\n",
    "print(\"voltage, pH:\", voltage, pH)"
   ]
  },
  {
   "cell_type": "code",
   "execution_count": 41,
   "id": "0b82dd8e-d57f-4c34-964d-ae6b9acd9e11",
   "metadata": {},
   "outputs": [
    {
     "name": "stdout",
     "output_type": "stream",
     "text": [
      "voltage for pH is Measured as: 2.37\n"
     ]
    }
   ],
   "source": [
    "voltage = pH_device.pH_measure(10)\n",
    "#Adjust trimpot\n",
    "#pH 7: initial 2.15 V; clock .5 turn 2.18 V; clock 1 turn 2.17 V; clock 1.5 turn 2.15 V\n",
    "#pH 7: initial 0 turn 2.18 V; cc 1 turn 2.28V; cc 2 turn 2.25V; cc 3turn 2.26V; cc 4turn 2.41 V; cc 5 turn 2.35V, cc 6turn 2.35 V; cc 7turn 2.43V\n",
    "#pH 7: cc 9turn 2.51V\n",
    "#pH 4: cc 9turn 2.02V; cc 10turn 2.15V cc 11turn 2.26V\n",
    "#pH 7: cc 11turn 2.83V\n",
    "#pH 4: cc 11turn 2.33V - 2.37V"
   ]
  },
  {
   "cell_type": "code",
   "execution_count": 38,
   "id": "ee1e07d8",
   "metadata": {
    "scrolled": true
   },
   "outputs": [
    {
     "ename": "TypeError",
     "evalue": "unsupported operand type(s) for -: 'int' and 'NoneType'",
     "output_type": "error",
     "traceback": [
      "\u001b[1;31m---------------------------------------------------------------------------\u001b[0m",
      "\u001b[1;31mTypeError\u001b[0m                                 Traceback (most recent call last)",
      "Cell \u001b[1;32mIn[38], line 6\u001b[0m\n\u001b[0;32m      4\u001b[0m col\u001b[38;5;241m=\u001b[39m\u001b[38;5;241m0\u001b[39m\n\u001b[0;32m      5\u001b[0m \u001b[38;5;28;01mfor\u001b[39;00m index \u001b[38;5;129;01min\u001b[39;00m \u001b[38;5;28mrange\u001b[39m(\u001b[38;5;241m6\u001b[39m):\n\u001b[1;32m----> 6\u001b[0m     pH_device\u001b[38;5;241m.\u001b[39mmove_to_cell(row, col)\n\u001b[0;32m      7\u001b[0m     pHmeas \u001b[38;5;241m=\u001b[39m pH_device\u001b[38;5;241m.\u001b[39mpH_measure(\u001b[38;5;241m20\u001b[39m)\n\u001b[0;32m      8\u001b[0m     \u001b[38;5;28mprint\u001b[39m(\u001b[38;5;124mf\u001b[39m\u001b[38;5;124m\"\u001b[39m\u001b[38;5;124mrow \u001b[39m\u001b[38;5;132;01m{\u001b[39;00mrow\u001b[38;5;132;01m}\u001b[39;00m\u001b[38;5;124m col \u001b[39m\u001b[38;5;132;01m{\u001b[39;00mcol\u001b[38;5;132;01m}\u001b[39;00m\u001b[38;5;124m pH \u001b[39m\u001b[38;5;132;01m{\u001b[39;00mpHmeas\u001b[38;5;132;01m}\u001b[39;00m\u001b[38;5;124m\"\u001b[39m)\n",
      "File \u001b[1;32m~\\OneDrive - Loyola University Maryland\\Documents\\Legolas\\core.py:416\u001b[0m, in \u001b[0;36mDeviceOnStage.move_to_cell\u001b[1;34m(self, row, col)\u001b[0m\n\u001b[0;32m    415\u001b[0m \u001b[38;5;28;01mdef\u001b[39;00m \u001b[38;5;21mmove_to_cell\u001b[39m(\u001b[38;5;28mself\u001b[39m, row, col):\n\u001b[1;32m--> 416\u001b[0m     \u001b[38;5;28mself\u001b[39m\u001b[38;5;241m.\u001b[39mstage\u001b[38;5;241m.\u001b[39mmove_to_cell(row, col, \u001b[38;5;28mself\u001b[39m\u001b[38;5;241m.\u001b[39mx_offset, \u001b[38;5;28mself\u001b[39m\u001b[38;5;241m.\u001b[39my_offset)\n",
      "File \u001b[1;32m~\\OneDrive - Loyola University Maryland\\Documents\\Legolas\\core.py:382\u001b[0m, in \u001b[0;36mStage.move_to_cell\u001b[1;34m(self, row, col, device_x_offset, device_y_offset)\u001b[0m\n\u001b[0;32m    380\u001b[0m \u001b[38;5;28;01mdef\u001b[39;00m \u001b[38;5;21mmove_to_cell\u001b[39m(\u001b[38;5;28mself\u001b[39m, row, col, device_x_offset\u001b[38;5;241m=\u001b[39m\u001b[38;5;241m0\u001b[39m, device_y_offset\u001b[38;5;241m=\u001b[39m\u001b[38;5;241m0\u001b[39m):\n\u001b[0;32m    381\u001b[0m     positionX, positionY \u001b[38;5;241m=\u001b[39m \u001b[38;5;28mself\u001b[39m\u001b[38;5;241m.\u001b[39mcell_loc_map[row, col]\n\u001b[1;32m--> 382\u001b[0m     \u001b[38;5;28mself\u001b[39m\u001b[38;5;241m.\u001b[39mmove_to_deg(positionX, positionY, device_x_offset, device_y_offset)\n",
      "File \u001b[1;32m~\\OneDrive - Loyola University Maryland\\Documents\\Legolas\\core.py:376\u001b[0m, in \u001b[0;36mStage.move_to_deg\u001b[1;34m(self, x_degree, y_degree, device_x_offset, device_y_offset)\u001b[0m\n\u001b[0;32m    375\u001b[0m \u001b[38;5;28;01mdef\u001b[39;00m \u001b[38;5;21mmove_to_deg\u001b[39m(\u001b[38;5;28mself\u001b[39m, x_degree, y_degree, device_x_offset\u001b[38;5;241m=\u001b[39m\u001b[38;5;241m0\u001b[39m, device_y_offset\u001b[38;5;241m=\u001b[39m\u001b[38;5;241m0\u001b[39m):\n\u001b[1;32m--> 376\u001b[0m     originX_offset, originY_offset \u001b[38;5;241m=\u001b[39m \u001b[38;5;28mself\u001b[39m\u001b[38;5;241m.\u001b[39mget_XYloc()\n\u001b[0;32m    377\u001b[0m     \u001b[38;5;28mself\u001b[39m\u001b[38;5;241m.\u001b[39mmove_by_deg(x_degree \u001b[38;5;241m-\u001b[39m originX_offset , y_degree \u001b[38;5;241m-\u001b[39m originY_offset, device_x_offset, device_y_offset)\n",
      "File \u001b[1;32m~\\OneDrive - Loyola University Maryland\\Documents\\Legolas\\core.py:394\u001b[0m, in \u001b[0;36mStage.get_XYloc\u001b[1;34m(self)\u001b[0m\n\u001b[0;32m    393\u001b[0m \u001b[38;5;28;01mdef\u001b[39;00m \u001b[38;5;21mget_XYloc\u001b[39m(\u001b[38;5;28mself\u001b[39m):\n\u001b[1;32m--> 394\u001b[0m     \u001b[38;5;28mself\u001b[39m\u001b[38;5;241m.\u001b[39mx_loc \u001b[38;5;241m=\u001b[39m \u001b[38;5;28mself\u001b[39m\u001b[38;5;241m.\u001b[39mmotor_X\u001b[38;5;241m.\u001b[39mget_position() \u001b[38;5;241m-\u001b[39m \u001b[38;5;28mself\u001b[39m\u001b[38;5;241m.\u001b[39mx_start\n\u001b[0;32m    395\u001b[0m     \u001b[38;5;28mself\u001b[39m\u001b[38;5;241m.\u001b[39my_loc \u001b[38;5;241m=\u001b[39m \u001b[38;5;28mself\u001b[39m\u001b[38;5;241m.\u001b[39mmotor_Y\u001b[38;5;241m.\u001b[39mget_position() \u001b[38;5;241m-\u001b[39m \u001b[38;5;28mself\u001b[39m\u001b[38;5;241m.\u001b[39my_start\n\u001b[0;32m    396\u001b[0m     \u001b[38;5;28;01mreturn\u001b[39;00m \u001b[38;5;28mself\u001b[39m\u001b[38;5;241m.\u001b[39mx_loc, \u001b[38;5;28mself\u001b[39m\u001b[38;5;241m.\u001b[39my_loc\n",
      "\u001b[1;31mTypeError\u001b[0m: unsupported operand type(s) for -: 'int' and 'NoneType'"
     ]
    }
   ],
   "source": [
    "# Repeated measurements of standard.\n",
    "# Clean first.\n",
    "row=3\n",
    "col=0\n",
    "for index in range(6):\n",
    "    pH_device.move_to_cell(row, col)\n",
    "    pHmeas = pH_device.pH_measure(20)\n",
    "    print(f\"row {row} col {col} pH {pHmeas}\")     "
   ]
  },
  {
   "cell_type": "code",
   "execution_count": null,
   "id": "79adaf93",
   "metadata": {},
   "outputs": [],
   "source": [
    "stage.home()"
   ]
  },
  {
   "cell_type": "markdown",
   "id": "61981977",
   "metadata": {},
   "source": [
    "## Test depo_device (syringe) functionality"
   ]
  },
  {
   "cell_type": "code",
   "execution_count": null,
   "id": "4cd707bc",
   "metadata": {},
   "outputs": [],
   "source": [
    "# this is the syringe\n",
    "depo_device"
   ]
  },
  {
   "cell_type": "code",
   "execution_count": null,
   "id": "0eb240c9",
   "metadata": {},
   "outputs": [],
   "source": [
    "stage.home()"
   ]
  },
  {
   "cell_type": "code",
   "execution_count": null,
   "id": "9f0d2e56",
   "metadata": {},
   "outputs": [],
   "source": [
    "depo_device.move_to_cell(0,0)\n",
    "depo_device.to_zpos(\"full_down\")\n",
    "#depo_device.to_zpos(\"full_up\")"
   ]
  },
  {
   "cell_type": "code",
   "execution_count": null,
   "id": "424c7837",
   "metadata": {},
   "outputs": [],
   "source": [
    "#depo_device.move_to_cell(0,0)\n",
    "#depo_device.to_zpos(\"full_down\")\n",
    "depo_device.to_zpos(\"full_up\")"
   ]
  },
  {
   "cell_type": "code",
   "execution_count": null,
   "id": "c90d840e",
   "metadata": {},
   "outputs": [],
   "source": [
    "#depo_device.move_to_cell(0,0)\n",
    "#depo_device.to_zpos(\"full_down\")\n",
    "#depo_device.to_zpos(\"full_up\")\n",
    "for i in range(2):\n",
    "    depo_device.move_to_cell(0,i)\n",
    "    depo_device.to_zpos(\"full_down\")\n",
    "    depo_device.to_zpos(\"full_up\")"
   ]
  },
  {
   "cell_type": "code",
   "execution_count": null,
   "id": "2533cf97",
   "metadata": {},
   "outputs": [],
   "source": [
    "# go to acid (or base or clean) well and test range of motion\n",
    "depo_device.move_to_loc(\"clean\")\n",
    "depo_device.to_zpos(\"full_down\")\n",
    "depo_device.to_zpos(\"full_up\")"
   ]
  },
  {
   "cell_type": "code",
   "execution_count": null,
   "id": "ee9244f7",
   "metadata": {},
   "outputs": [],
   "source": [
    "# acquire 0.6 mL from the acid reservoir\n",
    "depo_device.acquire(0.3, location=\"acid\")"
   ]
  },
  {
   "cell_type": "code",
   "execution_count": null,
   "id": "f9ca64f1",
   "metadata": {
    "scrolled": true
   },
   "outputs": [],
   "source": [
    "# deposit the 0.6 mL into the 0,0 sample well\n",
    "# calib is lost at this step. Regain by going home first.\n",
    "stage.home()\n",
    "depo_device.deposition(0.6, row=0, col=4)"
   ]
  },
  {
   "cell_type": "markdown",
   "id": "c5e3ff76",
   "metadata": {},
   "source": [
    "## Example Loops\n",
    "\n",
    "Use these loops as a reference for ways to construct your autonomous experiments and the functions needed"
   ]
  },
  {
   "cell_type": "code",
   "execution_count": null,
   "id": "3974a3aa",
   "metadata": {},
   "outputs": [],
   "source": [
    "depo_device.acquire(0.6, location=\"acid\")   #run this line first before deposition\n",
    "stage.home()\n",
    "depo_device.deposition(0.1, row=0, col=1)\n",
    "depo_device.deposition(0.2, row=0, col=2)\n",
    "depo_device.deposition(0.3, row=0, col=3)"
   ]
  },
  {
   "cell_type": "code",
   "execution_count": null,
   "id": "e3fef33c",
   "metadata": {},
   "outputs": [],
   "source": [
    "pH_device.to_zpos(\"full_down\")"
   ]
  },
  {
   "cell_type": "code",
   "execution_count": null,
   "id": "ca3a5a26",
   "metadata": {
    "scrolled": true
   },
   "outputs": [],
   "source": [
    "#for row in range(4):\n",
    "for row in range(1):\n",
    "    stage.home()\n",
    "    for col in range(3,5):  #6 for full row\n",
    "        depo_device.acquire(0.6, location=\"acid\")\n",
    "        depo_device.deposition(0.6, row=row, col=col)\n",
    "        \n",
    "        \"\"\"\n",
    "        if col==0:\n",
    "            colleft=0\n",
    "        else: \n",
    "            colleft=col-1\n",
    "        pH_device.move_to_cell(row=row, col=colleft)\n",
    "        \"\"\"\n",
    "        pH_device.move_to_cell(row=row, col=col)\n",
    "        #pH = pH_device.pH_measure(stable_time=1)\n",
    "        pH=10\n",
    "        print(f\"row {row} col {col} pH {pH}\")"
   ]
  },
  {
   "cell_type": "code",
   "execution_count": null,
   "id": "499615ff",
   "metadata": {},
   "outputs": [],
   "source": [
    "def pHcorrection(pHmeas, p1, p2):\n",
    "# correct pH values. pHmeas is the measured pH with no correction.\n",
    "# p1 variable is the measured value of the pH4 standard\n",
    "# p2 variable is the measured value of the pH7 standard  \n",
    "  y1=4\n",
    "  y2=7\n",
    "  m = (y1-y2)/(p1-p2)            #slope\n",
    "  b = y1 - m*p1                #y-intercept\n",
    "  pHcorrected = m*pHmeas + b\n",
    "  print ('p1, p2, slope, b, pHmeas, pHcorr: ', p1, p2, m, b, pHmeas, pHcorrected)\n",
    "\n",
    "  return pHcorrected\n",
    "\n",
    "test = pHcorrection(4.6, 4.95, 7.09)\n",
    "print('test=', test)\n"
   ]
  },
  {
   "cell_type": "code",
   "execution_count": null,
   "id": "a6d00f1a",
   "metadata": {
    "scrolled": true
   },
   "outputs": [],
   "source": [
    "# 7/21/23 Loop through pH measurement. Clean first. Clean after each measurement.\n",
    "\n",
    "# Run previous cell (def pHcorrection) first to correct pH measurement.\n",
    "\n",
    "for row in range(1):\n",
    "    stage.home()\n",
    "    pH_device.move_to_cell(3,3)   #clean first\n",
    "    pH_device.to_zpos(\"full_down\")\n",
    "    pH_device.to_zpos(\"full_up\")\n",
    "    pH_device.to_zpos(\"full_down\")\n",
    "    pH_device.to_zpos(\"full_up\")\n",
    "    \n",
    "    for col in range(0,6):  #6 for full row\n",
    "    #for col in range(4,-1,-1):\n",
    "        pH_device.move_to_cell(row=row, col=col)\n",
    "        pHmeas = pH_device.pH_measure(stable_time=20)\n",
    "        pHmeas = pH_device.pH_measure(stable_time=20)\n",
    "        pHmeas = pH_device.pH_measure(stable_time=20)\n",
    "        pHcorrected = pHcorrection(pHmeas, 4.95, 7.09)\n",
    "        print(f\"row {row} col {col} pHcorrected {pHcorrected}\")\n",
    "        pH_device.move_to_cell(3,3)  #contains water. Clean after measurement.\n",
    "        pH_device.to_zpos(\"full_down\")\n",
    "        pH_device.to_zpos(\"full_up\")\n",
    "        pH_device.to_zpos(\"full_down\")\n",
    "        pH_device.to_zpos(\"full_up\")\n",
    "        "
   ]
  },
  {
   "cell_type": "code",
   "execution_count": null,
   "id": "3ff9cde2",
   "metadata": {},
   "outputs": [],
   "source": [
    "pH_device.move_to_cell(row=1, col=1)\n",
    "pHmeas = pH_device.pH_measure(stable_time=20)\n",
    "pHcorrected = pHcorrection(pHmeas, 5.09, 5.57)\n",
    "print(f\"row {row} col {col} pHcorrected {pHcorrected}\")\n",
    "pH_device.move_to_cell(3,3)  #contains water. Clean after measurement.\n",
    "pH_device.to_zpos(\"full_down\")\n",
    "pH_device.to_zpos(\"full_up\")\n",
    "pH_device.to_zpos(\"full_down\")\n",
    "pH_device.to_zpos(\"full_up\")"
   ]
  },
  {
   "cell_type": "code",
   "execution_count": null,
   "id": "91e44176",
   "metadata": {},
   "outputs": [],
   "source": [
    "pH_device.move_to_cell(3,3)  #contains water. Clean after measurement.\n",
    "pH_device.to_zpos(\"full_down\")\n",
    "pH_device.to_zpos(\"full_up\")\n",
    "pH_device.to_zpos(\"full_down\")\n",
    "pH_device.to_zpos(\"full_up\")"
   ]
  },
  {
   "cell_type": "code",
   "execution_count": null,
   "id": "a471fc04",
   "metadata": {},
   "outputs": [],
   "source": [
    "# Recheck pH4, pH7 standards.\n",
    "pH_device.move_to_cell(row=1, col=3)\n",
    "pH_device.pH_measure(20)\n",
    "\n",
    "pH_device.move_to_cell(3,5)  #contains water. Clean after measurement.\n",
    "pH_device.to_zpos(\"full_down\")\n",
    "pH_device.to_zpos(\"full_up\")\n",
    "pH_device.to_zpos(\"full_down\")\n",
    "pH_device.to_zpos(\"full_up\")"
   ]
  },
  {
   "cell_type": "code",
   "execution_count": null,
   "id": "a0ccea3c",
   "metadata": {},
   "outputs": [],
   "source": [
    "stage.home()"
   ]
  },
  {
   "cell_type": "code",
   "execution_count": null,
   "id": "ce47fde2",
   "metadata": {},
   "outputs": [],
   "source": [
    "#pH_device.pH_positions"
   ]
  },
  {
   "cell_type": "code",
   "execution_count": null,
   "id": "5c523840",
   "metadata": {},
   "outputs": [],
   "source": [
    "#pH_device.motor_pH.get_position()"
   ]
  },
  {
   "cell_type": "code",
   "execution_count": null,
   "id": "ee5e70d4",
   "metadata": {},
   "outputs": [],
   "source": [
    "stage.home()\n",
    "row = 1\n",
    "for col in range(6):\n",
    "    depo_device.acquire(0.6, location=\"acid\")\n",
    "    depo_device.deposition(0.6, row=row, col=col)\n",
    "    pH_device.move_to_cell(row=row, col=col)\n",
    "    pH = pH_device.pH_measure(stable_time=10)\n",
    "    print(f\"row {row} col {col} pH {pH}\")"
   ]
  },
  {
   "cell_type": "code",
   "execution_count": null,
   "id": "84b049eb",
   "metadata": {},
   "outputs": [],
   "source": [
    "#dryrun\n",
    "reset(stage=stage, pH_device=pH_device, depo_device=depo_device)\n",
    "depo_device.deposition(0.6, row=0, col=0)"
   ]
  },
  {
   "cell_type": "code",
   "execution_count": null,
   "id": "0e2ce434",
   "metadata": {},
   "outputs": [],
   "source": [
    "#saveinfo\n",
    "path= 'c:/Users/mlowe/Documents/AlphaImmersion_I_attendedLEGOLAS2023/LEGOLAS new4 Scripts/Plots'\n",
    "SAVE= Path(path)\n",
    "SAVE.mkdir(exist_ok=True)\n",
    "plt.figure()\n",
    "plt.title(f'Acquisition func, next ratio:')\n",
    "iterations=1\n",
    "plt.savefig(SAVE/f\"{iterations}.png\", facecolor='white')\n",
    "plt.show()\n",
    "plt.close()"
   ]
  },
  {
   "cell_type": "code",
   "execution_count": 15,
   "id": "09fd1efb-ab02-48d0-b053-f3e5f14d7944",
   "metadata": {},
   "outputs": [],
   "source": [
    "# Calibrate pH in a cell above. Output: line\n",
    "# Insert value of line here: line=[slope, intercept]. For example:\n",
    "# line is a global variable. Run this first before Bayesian optimization.\n",
    "line = [4.6, -.77]"
   ]
  },
  {
   "cell_type": "code",
   "execution_count": 16,
   "id": "0a83e929",
   "metadata": {},
   "outputs": [],
   "source": [
    "import GPy\n",
    "#path= 'c:/Users/mlowe/Documents/AlphaImmersion_I_attendedLEGOLAS2023/LEGOLAS new4 Scripts/Plots'\n",
    "#SAVE= Path(path)\n",
    "#SAVE.mkdir(exist_ok=True)\n",
    "\n",
    "def Bayesian_optimization_pH():    #line is pH calibration\n",
    "    # Uses GPy for Gaussian Process regression as surrogate function.\n",
    "\n",
    "    # If True, this will simulate deposition and measurement. Not fully operational.\n",
    "    simulate_val = True\n",
    "    \n",
    "    # X_grid is the list of all possible acid-base ratios that can be investigated.\n",
    "    # This is the array that will be indexed with next_sample_index\n",
    "    X_grid = np.linspace(0.1,1,20)[:,None]    #1D column matrix. Without [:,None], get 1D ndarray.\n",
    "    other = np.linspace(2,10,20)[:,None]\n",
    "    X_grid = np.append(X_grid,other)[:,None] # set of all acid and base ratios in one big column\n",
    "    Dsize = X_grid.shape[0] # number in X_grid set. In this case: 40\n",
    "    #print('X_grid:', X_grid)\n",
    "    #print('Dsize:', Dsize)\n",
    "    BO_lambda = .1\n",
    "    \n",
    "    # # set up GP.\n",
    "    # X_samples = np.atleast_1d([1.])[:,None] # ratio of R to G\n",
    "    # Y_samples = np.atleast_1d([210.])[:,None]\n",
    "    # measured = np.asarray([14])\n",
    "    # unmeasured = np.setdiff1d(np.linspace(0,14,15), measured).astype(int)\n",
    "    \n",
    "    # set up variables\n",
    "    ratio = [0.1] # ratio of initial sample to study, 0 is no acid\n",
    "    sample_index = 0 # index of ratio in list of ratios\n",
    "    count = 0 #counter for moving to appropriate well\n",
    "\n",
    "    #print('line:', line)\n",
    "    \n",
    "    # deposit first ratio in well and collect pH\n",
    "    ## pH = BO_get_data(ratio,count)\n",
    "    \n",
    "    pH = BO_get_data(ratio, count)\n",
    "    \n",
    "    print('counter value:',count)\n",
    "    print('Acid/Base ratio measured:',ratio)\n",
    "    print('pH Value:',pH)\n",
    "    \n",
    "    measured = np.atleast_1d(sample_index) # indices of ratios that have been measured. Convert to ndarray.\n",
    "    full_indices = np.linspace(0,X_grid.shape[0]-1,X_grid.shape[0]) # indices of all ratios to be investigated,\n",
    "                                                                    # 0, 1, 2, ...39\n",
    "    unmeasured = np.setdiff1d(full_indices, measured).astype(int)  # indices of ratios that are still to be measured\n",
    "    X_samples = np.atleast_1d(ratio)[:,None] # X_samples is the RG ratios already studied\n",
    "    Y_samples = np.atleast_1d(pH)[:,None] # Y_samples are the corresponding Red measurements for the RG ratios studied.\n",
    "    \n",
    "    # iteration loop for active learning (GP with exploration CO)\n",
    "    for iterations in range(24):\n",
    "        #reset(stage=stage, pH_device=pH_device, depo_device=depo_device)\n",
    "        \"\"\"\n",
    "        if iterations in home_check:\n",
    "            # Go to Home Position\n",
    "            time.sleep(10)\n",
    "            reset(stage=stage, pH_device=pH_device, depo_device=depo_device)\n",
    "        \"\"\"\n",
    "        # Regression\n",
    "        k = GPy.kern.RBF(1)\n",
    "        m = GPy.models.GPRegression(X_samples, Y_samples, k)\n",
    "        #blockPrint() # blocks printing statements to avoid printing GPy's optimization statements.\n",
    "        m.optimize_restarts(5, robust=True);\n",
    "        #enablePrint() # restarts the internal printing statements\n",
    "        mean_full, variance_full = m.predict(X_grid) # Prediction\n",
    "        mean, variance = m.predict(X_grid[unmeasured]) # Prediction just for unmeasured ratios\n",
    "\n",
    "        # To Do: print out mean, mean_full, etc\n",
    "\n",
    "        \n",
    "        # # Bayesian optimization to maximize measured red by varying mixture.\n",
    "        # BO_beta = 2 * math.log(Dsize * math.pow(iterations + 1,2) * math.pow(np.pi,2) / (6 * BO_lambda) )\n",
    "        # alpha = -1 * np.abs(100. - mean) + math.sqrt(BO_beta) * variance\n",
    "        \n",
    "        # Active Learning\n",
    "        alpha_full = variance_full # variance for all ratios. use variance (uncertainty) in Gaussian Process\n",
    "                                   # to guide next sample\n",
    "        alpha = variance # variance for unmeasured ratios\n",
    "        ##alpha = (9/(iterations+1))*variance - np.absolute(mean-4.75)\n",
    "        ##alpha_full = (9/(iterations+1))*variance_full - np.absolute(mean_full-4.75)\n",
    "        sample_index = unmeasured[ np.argmax(alpha) ] # index of next ratio in X_grid. Next ratio has highest variance.\n",
    "                                                      # Why can't I just use sample_index = np.argmax(alpha)?\n",
    "        ratio = X_grid[sample_index,:] # next ratio\n",
    "        print('The next ratio to investigate is', ratio)\n",
    "\n",
    "        # plot\n",
    "        plt.figure(figsize = (7,3))\n",
    "        num_subplots = 2\n",
    "        if ~simulate_val:   # ~ means NOT\n",
    "            num_subplots = 3\n",
    "        plt.subplot(1,num_subplots,1)\n",
    "        plot_gp(X_grid, mean_full, variance_full, training_points=(X_samples,Y_samples)) # plot GP variance for all ratios\n",
    "        bottom, top = plt.ylim()\n",
    "        plt.plot([ratio, ratio],[bottom, top],'m') # indicate the next ratio to investigate\n",
    "        plt.title('GP model for pH')\n",
    "        #plt.tight_layout()\n",
    "        #plt.savefig(SAVE/f\"GP{iterations}.png\", facecolor='white')\n",
    "        #plt.show()\n",
    "        #plt.close()\n",
    "        \n",
    "        plt.subplot(1,num_subplots,2)\n",
    "        plt.plot(X_grid, alpha_full)  # plot the aquisition function for all ratios\n",
    "        plt.plot([ratio, ratio],[np.min(alpha_full), np.max(alpha_full)],'m') # indicate the next ratio to be investigated\n",
    "        plt.title(f'Acquisition func, next ratio:{ratio}')\n",
    "        \n",
    "        #plt.tight_layout()\n",
    "        #plt.savefig(SAVE/f\"Acquisition{iterations}.png\", facecolor='white')\n",
    "        plt.show()\n",
    "        #plt.close()\n",
    "           \n",
    "        count+=1           #move to next well\n",
    "        \n",
    "        # collect data\n",
    "        pH = BO_get_data(ratio, count) # run the next experiment.\n",
    "        print('counter value:',count)\n",
    "        print('Acid/Base ratio measured:',ratio)\n",
    "        print('pH Value:',pH)\n",
    "        \n",
    "        measured = np.append(measured, sample_index) # add experiment ratio to the set of measured\n",
    "        unmeasured = np.setdiff1d(full_indices, measured).astype(int)\n",
    "        X_samples = np.append(X_samples, ratio)[:,None]\n",
    "        Y_samples = np.append(Y_samples, pH)[:,None]\n",
    "    \n",
    "def BO_get_data(ratio, count):   #maybe replace with Adi's code def mix(ratio, row, col)\n",
    "    #r = count % 6\n",
    "    #c = count // 6\n",
    "    if count <= 5:          # 1st row [0] - 6 samples\n",
    "        r = 0\n",
    "        c = count\n",
    "    elif count <= 11:        # 2nd row [1]  - 6 samples ...\n",
    "        r = 1\n",
    "        c = count-6\n",
    "    elif count <= 17:        # 3rd row [2] - 6 samples ...\n",
    "        r = 2\n",
    "        c = count - 12\n",
    "    elif count <= 23:        # 4th row [3] - 6 sample ...\n",
    "        r = 3\n",
    "        c = count - 18\n",
    "    \n",
    "    acid_vol,base_vol = ratio_conversion(ratio)\n",
    "    print('acid_vol', acid_vol)\n",
    "    print('base_vol', base_vol)\n",
    "    \n",
    "    while acid_vol > 0.6:\n",
    "        depo_device.acquire(0.6, location=\"acid\")\n",
    "        depo_device.deposition(0.6, row=r, col=c)\n",
    "        acid_vol -= 0.6\n",
    "    depo_device.acquire(acid_vol, location=\"acid\")\n",
    "    depo_device.deposition(acid_vol, row=r, col=c)\n",
    "    \n",
    "    while base_vol > 0.6:\n",
    "        depo_device.acquire(0.6, location=\"base\")\n",
    "        depo_device.deposition(0.6, row=r, col=c)\n",
    "        base_vol -= 0.6\n",
    "    depo_device.acquire(base_vol, location=\"base\")\n",
    "    depo_device.deposition(base_vol, row=r, col=c)\n",
    "    \n",
    "    pH_device.move_to_cell(row=r, col=c)\n",
    "    voltage = pH_device.pH_measure(stable_time=30)   #measures voltage\n",
    "    pH = line[0]*voltage + line[1]    #line[0] is slope from calibration, line[1] is y-int from calib\n",
    "    print(f\"row {r} col {c} pH {pH} voltage {voltage}\")\n",
    "    \n",
    "    #pH_device.move_to_loc(\"clean\")\n",
    "    #pH_device.to_zpos(\"full_down\")\n",
    "    #pH_device.to_zpos(\"full_up\")\n",
    "\n",
    "    return pH\n",
    "\n",
    "\n",
    "def ratio_conversion(ratio):\n",
    "    acid_vol = float(2.0*ratio[0]/(1+ratio[0]))\n",
    "    base_vol = float(2.0 - acid_vol)\n",
    "    return acid_vol,base_vol\n",
    "            \n",
    "    \n",
    "def plot_gp(X, m, C, training_points=None):\n",
    "    # plot results of Gaussian Process analysis.\n",
    "    # Plot 95% confidence interval \n",
    "    plt.fill_between(X[:,0], m[:,0] - 1.96*np.sqrt(np.diag(C)), m[:,0] + 1.96*np.sqrt(np.diag(C)), alpha=0.5)\n",
    "    plt.plot(X, m, \"-\")  # Plot GP mean \n",
    "    plt.xlabel(\"x\"), plt.ylabel(\"f\")\n",
    "    #plt.savefig(SAVE/f\"gp{iterations}.png\", facecolor='white')\n",
    "    if training_points is not None:  # Plot training points if included\n",
    "        X_, Y_ = training_points\n",
    "        plt.plot(X_, Y_, \"kx\", mew=2)\n",
    "        plt.show()\n",
    "        \n",
    "    \n",
    "        "
   ]
  },
  {
   "cell_type": "code",
   "execution_count": 17,
   "id": "f7ac092c",
   "metadata": {},
   "outputs": [
    {
     "name": "stdout",
     "output_type": "stream",
     "text": [
      "acid_vol 0.18181818181818182\n",
      "base_vol 1.8181818181818181\n"
     ]
    },
    {
     "ename": "NameError",
     "evalue": "name 'depo_device' is not defined",
     "output_type": "error",
     "traceback": [
      "\u001b[1;31m---------------------------------------------------------------------------\u001b[0m",
      "\u001b[1;31mNameError\u001b[0m                                 Traceback (most recent call last)",
      "Cell \u001b[1;32mIn[17], line 2\u001b[0m\n\u001b[0;32m      1\u001b[0m \u001b[38;5;66;03m##Bayesian_optimization_pH()\u001b[39;00m\n\u001b[1;32m----> 2\u001b[0m Bayesian_optimization_pH(line)\n",
      "Cell \u001b[1;32mIn[16], line 38\u001b[0m, in \u001b[0;36mBayesian_optimization_pH\u001b[1;34m(line)\u001b[0m\n\u001b[0;32m     33\u001b[0m \u001b[38;5;66;03m#print('line:', line)\u001b[39;00m\n\u001b[0;32m     34\u001b[0m \n\u001b[0;32m     35\u001b[0m \u001b[38;5;66;03m# deposit first ratio in well and collect pH\u001b[39;00m\n\u001b[0;32m     36\u001b[0m \u001b[38;5;66;03m##pH = BO_get_data(ratio,count)\u001b[39;00m\n\u001b[0;32m     37\u001b[0m pH\u001b[38;5;241m=\u001b[39m\u001b[38;5;241m5.5\u001b[39m\n\u001b[1;32m---> 38\u001b[0m BO_get_data(ratio, count, line)\n\u001b[0;32m     40\u001b[0m \u001b[38;5;28mprint\u001b[39m(\u001b[38;5;124m'\u001b[39m\u001b[38;5;124mcounter value:\u001b[39m\u001b[38;5;124m'\u001b[39m,count)\n\u001b[0;32m     41\u001b[0m \u001b[38;5;28mprint\u001b[39m(\u001b[38;5;124m'\u001b[39m\u001b[38;5;124mAcid/Base ratio measured:\u001b[39m\u001b[38;5;124m'\u001b[39m,ratio)\n",
      "Cell \u001b[1;32mIn[16], line 146\u001b[0m, in \u001b[0;36mBO_get_data\u001b[1;34m(ratio, count, line)\u001b[0m\n\u001b[0;32m    144\u001b[0m     depo_device\u001b[38;5;241m.\u001b[39mdeposition(\u001b[38;5;241m0.6\u001b[39m, row\u001b[38;5;241m=\u001b[39mr, col\u001b[38;5;241m=\u001b[39mc)\n\u001b[0;32m    145\u001b[0m     acid_vol \u001b[38;5;241m-\u001b[39m\u001b[38;5;241m=\u001b[39m \u001b[38;5;241m0.6\u001b[39m\n\u001b[1;32m--> 146\u001b[0m depo_device\u001b[38;5;241m.\u001b[39macquire(acid_vol, location\u001b[38;5;241m=\u001b[39m\u001b[38;5;124m\"\u001b[39m\u001b[38;5;124macid\u001b[39m\u001b[38;5;124m\"\u001b[39m)\n\u001b[0;32m    147\u001b[0m depo_device\u001b[38;5;241m.\u001b[39mdeposition(acid_vol, row\u001b[38;5;241m=\u001b[39mr, col\u001b[38;5;241m=\u001b[39mc)\n\u001b[0;32m    149\u001b[0m \u001b[38;5;28;01mwhile\u001b[39;00m base_vol \u001b[38;5;241m>\u001b[39m \u001b[38;5;241m0.6\u001b[39m:\n",
      "\u001b[1;31mNameError\u001b[0m: name 'depo_device' is not defined"
     ]
    }
   ],
   "source": [
    "##Bayesian_optimization_pH()\n",
    "Bayesian_optimization_pH()  #line is pH calibration"
   ]
  },
  {
   "cell_type": "code",
   "execution_count": null,
   "id": "15c6b4f5",
   "metadata": {},
   "outputs": [],
   "source": [
    "# test code for plotting\n",
    "\n",
    "def f(t):\n",
    "    return np.exp(-t) * np.cos(2*np.pi*t)\n",
    "\n",
    "t1 = np.arange(0.0, 5.0, 0.1)\n",
    "t2 = np.arange(0.0, 5.0, 0.02)\n",
    "\n",
    "plt.figure()\n",
    "plt.subplot(2,1,1)  \n",
    "plt.plot(t1, f(t1), 'bo', t2, f(t2), 'k')\n",
    "\n",
    "plt.subplot(212)\n",
    "plt.plot(t2, np.cos(2*np.pi*t2), 'r--')\n",
    "plt.show()"
   ]
  },
  {
   "cell_type": "markdown",
   "id": "64319206",
   "metadata": {},
   "source": [
    "# LegolasOutline - challenges"
   ]
  },
  {
   "cell_type": "code",
   "execution_count": 14,
   "id": "41ac10d0",
   "metadata": {},
   "outputs": [
    {
     "name": "stdout",
     "output_type": "stream",
     "text": [
      "slope: -1.1519972071912954, intercept: 4.432645649951558\n"
     ]
    },
    {
     "data": {
      "text/plain": [
       "<function matplotlib.pyplot.show(close=None, block=None)>"
      ]
     },
     "execution_count": 14,
     "metadata": {},
     "output_type": "execute_result"
    },
    {
     "data": {
      "image/png": "[encoded data removed]",
      "text/plain": [
       "<Figure size 640x480 with 1 Axes>"
      ]
     },
     "metadata": {},
     "output_type": "display_data"
    }
   ],
   "source": [
    "# first import everything\n",
    "\n",
    "# Experiment: Prepare 8 ratios acid/cbase. Measure pH. Fit Henderson-Hasselbalch eq to data. \n",
    "# Used a linear fit where log10(ratio) is the x.\n",
    "\n",
    "#y = [5.55, 5.28, 4.86, 4.58, 4.22, 3.57, 3.25]  #pH measured from left to right. Get slope=-1.3, yint=4.35\n",
    "\n",
    "#Because pH4 and pH7 measurements drifted downwards, I will artificially alter the data below. pH4 drifted\n",
    "#from 4 to 3.71.\n",
    "y = [5.55, 5.28, 4.86, 4.58, 4.22, 3.82, 3.5]  #artificial. Get slope = -1.15, yint=4.43. Closer to ideal.\n",
    "x = [np.log10(0.1), np.log10(1/5), np.log10(0.4), np.log10(0.8), np.log10(1.6), np.log10(3.2), np.log10(6.4)]\n",
    "\n",
    "line2 = np.polyfit(x,y,1)\n",
    "print(f'slope: {line2[0]}, intercept: {line2[1]}')\n",
    "trend = np.poly1d(line2)\n",
    "plt.plot(x,y, 'ro', x, trend(x), '-k')\n",
    "plt.xlabel(\"log10(acid/cbase)\")\n",
    "plt.ylabel(\"pH\")\n",
    "plt.show\n"
   ]
  },
  {
   "cell_type": "code",
   "execution_count": null,
   "id": "43f9f5a8",
   "metadata": {},
   "outputs": [],
   "source": []
  }
 ],
 "metadata": {
  "kernelspec": {
   "display_name": "Legolas_2024-kernel",
   "language": "python",
   "name": "legolas_2024-kernel"
  },
  "language_info": {
   "codemirror_mode": {
    "name": "ipython",
    "version": 3
   },
   "file_extension": ".py",
   "mimetype": "text/x-python",
   "name": "python",
   "nbconvert_exporter": "python",
   "pygments_lexer": "ipython3",
   "version": "3.12.3"
  },
  "vscode": {
   "interpreter": {
    "hash": "0095c6ec66f02ae1bc8a134f6078f14ee669be44a5c4ac33d7f267434e255fcc"
   }
  }
 },
 "nbformat": 4,
 "nbformat_minor": 5
}
