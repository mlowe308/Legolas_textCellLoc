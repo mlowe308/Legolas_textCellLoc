{
 "cells": [
  {
   "cell_type": "markdown",
   "id": "a5e32ee6",
   "metadata": {},
   "source": [
    "# Legolas Outline\n",
    "\n",
    "Use this code to answer the challenges."
   ]
  },
  {
   "cell_type": "code",
   "execution_count": null,
   "id": "f7c7a943-f3f2-41f0-b6a9-3f6f0a7f4f37",
   "metadata": {},
   "outputs": [],
   "source": [
    "#Not needed if you have already installed GPy and GPyOpt\n",
    "!pip install GPy\n",
    "# GPFlow, GPyTorch\n",
    "!pip install GPyOpt"
   ]
  },
  {
   "cell_type": "code",
   "execution_count": 47,
   "id": "e3b1b3c7-c320-45c7-89e0-6c361c84b647",
   "metadata": {},
   "outputs": [],
   "source": [
    "import utils\n",
    "from core import *"
   ]
  },
  {
   "cell_type": "code",
   "execution_count": 49,
   "id": "7d61db8e-cd22-4810-932e-5cb78ba5060c",
   "metadata": {},
   "outputs": [
    {
     "name": "stdout",
     "output_type": "stream",
     "text": [
      "kill server at PID:26447\n",
      "restarting the rpyc server at host: 192.168.1.11\n",
      "rpyc server start successfully\n",
      "kill server at PID:60399\n",
      "restarting the rpyc server at host: 192.168.1.14\n",
      "rpyc server start successfully\n"
     ]
    }
   ],
   "source": [
    "# this is how you reset the rpyc server when facing the port already in use\n",
    "# need to change to actual host name\n",
    "host_1 = \"192.168.1.11\"\n",
    "host_2 = \"192.168.1.14\"\n",
    "\n",
    "utils.restart_server(host=host_1)\n",
    "utils.restart_server(host=host_2)"
   ]
  },
  {
   "cell_type": "code",
   "execution_count": 51,
   "id": "f7c1a4ef",
   "metadata": {},
   "outputs": [],
   "source": [
    "stage, depo_device, pH_device, conn1, conn2, config = load_from_config(\"config.yaml\")"
   ]
  },
  {
   "cell_type": "code",
   "execution_count": null,
   "id": "25ba1a33",
   "metadata": {},
   "outputs": [],
   "source": [
    "# it is ok if this fails, just move on to the next code block\n",
    "sanity_check(stage=stage, pH_device=pH_device, depo_device=depo_device)"
   ]
  },
  {
   "cell_type": "code",
   "execution_count": null,
   "id": "8e64d969",
   "metadata": {},
   "outputs": [],
   "source": [
    "# find the usb port if problem occur\n",
    "list_ports = conn1.modules['serial.tools.list_ports']\n",
    "\n",
    "ports=list_ports.comports()\n",
    "for port, desc, hwid in sorted(ports):\n",
    "    print(port, desc, hwid)"
   ]
  },
  {
   "cell_type": "code",
   "execution_count": 5,
   "id": "af6f243a",
   "metadata": {},
   "outputs": [],
   "source": [
    "# Go to Home Position\n",
    "reset(stage=stage, pH_device=pH_device, depo_device=depo_device)\n",
    "# stage.home()"
   ]
  },
  {
   "cell_type": "markdown",
   "id": "5c8f8ff3",
   "metadata": {},
   "source": [
    "## (1) Measurement Uncertainty\n",
    "\n",
    "**(a)** Write a script to create a sample with an equal amount of acid and base (Total volume should be 2 ml and each deposition sequence should not exceed 0.6 mL for LEGOLAS to function properly)\n",
    "\n",
    "**(b)** Write a script to follow these operations in a loop with 10 measurements:\n",
    "-  Dip the pH sensor in the DI water well\n",
    "-  Dip the pH sensor into the sample from (a), measure pH and record.\n",
    "\n",
    "**(c)** Plot the results from (b). \n",
    "\n",
    "What is the mean and variance of these measurements? Please include this information as markdown text in the Jupyter notebook.\n"
   ]
  },
  {
   "cell_type": "code",
   "execution_count": 53,
   "id": "2395f9de-3659-48b5-8b71-5dad21ffffe9",
   "metadata": {},
   "outputs": [
    {
     "data": {
      "text/plain": [
       "(749, -199)"
      ]
     },
     "execution_count": 53,
     "metadata": {},
     "output_type": "execute_result"
    }
   ],
   "source": [
    "pH_device.to_zpos(\"full_up\")\n",
    "depo_device.to_zpos(\"full_up\")\n",
    "stage.home()"
   ]
  },
  {
   "cell_type": "code",
   "execution_count": 54,
   "id": "0d02c721-3a42-4ad7-a5dd-f108ef5aca05",
   "metadata": {},
   "outputs": [],
   "source": [
    "def clean():\n",
    "    pH_device.move_to_loc(\"clean\")\n",
    "    pH_device.to_zpos(\"full_down\")\n",
    "    pH_device.to_zpos(\"full_up\")\n",
    "\n",
    "def blot():\n",
    "    pH_device.move_to_loc(\"blot\")\n",
    "    pH_device.to_zpos(\"full_down\")\n",
    "    time.sleep(1)\n",
    "    pH_device.to_zpos(\"full_up\")\n",
    "    \n",
    "def measure(j,i):\n",
    "    pH_device.move_to_cell(row=j, col=i)\n",
    "    pH_device.to_zpos(\"full_down\")\n",
    "    k = pH_device.pH_measure(30)\n",
    "    pH_device.to_zpos(\"full_up\")\n",
    "    return k\n",
    "\n",
    "def depclean():\n",
    "    depo_device.move_to_loc(\"clean\")\n",
    "    depo_device.to_zpos(\"full_down\")\n",
    "    depo_device.to_zpos(\"full_up\")\n",
    "\n",
    "def get_row_col(count):\n",
    "    if count <= 5:\n",
    "        row = 0\n",
    "        col = count\n",
    "    elif count <= 11:\n",
    "        row = 1\n",
    "        col = count - 6\n",
    "    elif count <= 17:\n",
    "        row = 2\n",
    "        col = count - 12\n",
    "    elif count <= 23:\n",
    "        row = 3\n",
    "        col = count - 18\n",
    "    return row, col"
   ]
  },
  {
   "cell_type": "code",
   "execution_count": 37,
   "id": "03c77e36-8afc-4232-9685-ba56c8658347",
   "metadata": {},
   "outputs": [
    {
     "name": "stdout",
     "output_type": "stream",
     "text": [
      "voltage is measured as: 1.90\n",
      "voltage is measured as: 1.25\n",
      "voltage is measured as: 1.89\n",
      "voltage is measured as: 1.28\n",
      "voltage is measured as: 1.89\n",
      "voltage is measured as: 1.25\n",
      "slope: 4.731599335915886, intercept: -1.960154952960713\n"
     ]
    },
    {
     "data": {
      "text/plain": [
       "<function matplotlib.pyplot.show(close=None, block=None)>"
      ]
     },
     "execution_count": 37,
     "metadata": {},
     "output_type": "execute_result"
    },
    {
     "data": {
      "image/png": "[encoded data removed]",
      "text/plain": [
       "<Figure size 640x480 with 1 Axes>"
      ]
     },
     "metadata": {},
     "output_type": "display_data"
    }
   ],
   "source": [
    "stage.home()\n",
    "\n",
    "#CALIBRATION WITHOUT CLEANING\n",
    "\n",
    "y = [7, 4, 7, 4, 7, 4]\n",
    "x = []\n",
    "\n",
    "for i in range(6):\n",
    "    time.sleep(10)\n",
    "    m7 = pH_device.pH_measure(30)\n",
    "    x.append(m7)\n",
    "    stage.home()\n",
    "        \n",
    "#PLOTTING FIT\n",
    "\n",
    "line = np.polyfit(x,y,1)\n",
    "print(f'slope: {line[0]}, intercept: {line[1]}')\n",
    "trend = np.poly1d(line)\n",
    "plt.plot(x,y, 'ro', x, trend(x), '-k')\n",
    "plt.show"
   ]
  },
  {
   "cell_type": "code",
   "execution_count": 21,
   "id": "39d897e0-efaf-4d95-8401-38f180be515b",
   "metadata": {},
   "outputs": [
    {
     "name": "stdout",
     "output_type": "stream",
     "text": [
      "voltage is measured as: 1.21\n",
      "voltage is measured as: 1.04\n",
      "voltage is measured as: 1.70\n",
      "voltage is measured as: 1.04\n",
      "voltage is measured as: 1.70\n",
      "voltage is measured as: 1.04\n",
      "slope: 4.216318188964, intercept: 0.06797673321805003\n"
     ]
    },
    {
     "data": {
      "text/plain": [
       "<function matplotlib.pyplot.show(close=None, block=None)>"
      ]
     },
     "execution_count": 21,
     "metadata": {},
     "output_type": "execute_result"
    },
    {
     "data": {
      "image/png": "[encoded data removed]",
      "text/plain": [
       "<Figure size 640x480 with 1 Axes>"
      ]
     },
     "metadata": {},
     "output_type": "display_data"
    }
   ],
   "source": [
    "stage.home()\n",
    "\n",
    "#pH SENSOR CALIBRATION\n",
    "\n",
    "y = [7, 4, 7, 4, 7, 4]\n",
    "x = []\n",
    "\n",
    "for i in range(6):\n",
    "    clean()\n",
    "    blot()\n",
    "    if i % 2 == 0:\n",
    "        m7 = measure(3,0)\n",
    "        x.append(m7)\n",
    "    else:\n",
    "        m4 = measure(3,1)\n",
    "        x.append(m4)\n",
    "        \n",
    "#PLOTTING FIT\n",
    "\n",
    "line = np.polyfit(x,y,1)\n",
    "print(f'slope: {line[0]}, intercept: {line[1]}')\n",
    "trend = np.poly1d(line)\n",
    "plt.plot(x,y, 'ro', x, trend(x), '-k')\n",
    "plt.show\n",
    "#time.sleep(5)\n"
   ]
  },
  {
   "cell_type": "code",
   "execution_count": 57,
   "id": "1e5dcc39-464a-4c05-b5f8-7097bf039a4c",
   "metadata": {},
   "outputs": [
    {
     "name": "stdout",
     "output_type": "stream",
     "text": [
      "slope: 4.545454545454546, intercept: -0.7272727272727282\n"
     ]
    },
    {
     "data": {
      "text/plain": [
       "<function matplotlib.pyplot.show(close=None, block=None)>"
      ]
     },
     "execution_count": 57,
     "metadata": {},
     "output_type": "execute_result"
    },
    {
     "data": {
      "image/png": "[encoded data removed]",
      "text/plain": [
       "<Figure size 640x480 with 1 Axes>"
      ]
     },
     "metadata": {},
     "output_type": "display_data"
    }
   ],
   "source": [
    "#MANUALLY ADJUSTED DATA PLOTTING\n",
    "\n",
    "y = [7, 4, 7, 4, 7, 4]\n",
    "x = [1.7, 1.04, 1.7, 1.04, 1.7, 1.04]\n",
    "\n",
    "line = np.polyfit(x,y,1)\n",
    "print(f'slope: {line[0]}, intercept: {line[1]}')\n",
    "trend = np.poly1d(line)\n",
    "plt.plot(x,y, 'ro', x, trend(x), '-k')\n",
    "plt.show"
   ]
  },
  {
   "cell_type": "code",
   "execution_count": 11,
   "id": "385913f7-5e2c-408d-ab0c-172aa9b1ebc7",
   "metadata": {},
   "outputs": [
    {
     "data": {
      "text/plain": [
       "'\\n#depclean()\\n\\ndepo_device.acquire(0.5, location=\"base\")\\ndepo_device.deposition(0.5, row=0, col=0)\\n\\ndepo_device.acquire(0.5, location=\"base\")\\ndepo_device.deposition(0.5, row=0, col=0)\\n'"
      ]
     },
     "execution_count": 11,
     "metadata": {},
     "output_type": "execute_result"
    }
   ],
   "source": [
    "#TESTING PIPETTING\n",
    "\n",
    "stage.home()                                 #GO HOME BEFORE FIRST ONE\n",
    "#depclean()\n",
    "\n",
    "depo_device.acquire(0.3, location=\"acid\")\n",
    "depo_device.deposition(0.3, row=0, col=0)\n",
    "\n",
    "depo_device.acquire(0.4, location=\"acid\")\n",
    "depo_device.deposition(0.4, row=0, col=0)\n",
    "\n",
    "#depclean()\n",
    "\n",
    "depo_device.acquire(0.5, location=\"base\")\n",
    "depo_device.deposition(0.5, row=0, col=0)\n",
    "\n",
    "depo_device.acquire(0.5, location=\"base\")\n",
    "depo_device.deposition(0.5, row=0, col=0)"
   ]
  },
  {
   "cell_type": "code",
   "execution_count": 21,
   "id": "66df4b3c-0df7-4623-a2b5-dcfdd57802c5",
   "metadata": {},
   "outputs": [
    {
     "name": "stdout",
     "output_type": "stream",
     "text": [
      "Voltage is Measured as: 0.91\n",
      "Voltage is Measured as: 0.94\n",
      "Voltage is Measured as: 1.01\n",
      "Voltage is Measured as: 1.08\n",
      "Voltage is Measured as: 1.15\n",
      "Voltage is Measured as: 1.21\n",
      "Voltage is Measured as: 1.31\n",
      "Voltage is Measured as: 1.37\n",
      "pH [0]= 3.4097307221542215\n",
      "pH [1]= 3.546052631578945\n",
      "pH [2]= 3.8641370869033036\n",
      "pH [3]= 4.182221542227661\n",
      "pH [4]= 4.500305997552018\n",
      "pH [5]= 4.772949816401468\n",
      "pH [6]= 5.227356181150551\n",
      "pH [7]= 5.500000000000001\n"
     ]
    }
   ],
   "source": [
    "#MEASURING pH OF ACID/BASE\n",
    "\n",
    "m = []\n",
    "\n",
    "for count in range(8):\n",
    "    row, col = get_row_col(count)\n",
    "    clean()\n",
    "    blot()\n",
    "    mx = measure(row, col)\n",
    "    m.append(mx)\n",
    "\n",
    "'''\n",
    "for count in range(7, -1, -1):\n",
    "    row, col = get_row_col(count)\n",
    "    clean()\n",
    "    blot()\n",
    "    mx = measure(row, col)\n",
    "    m.append(mx)\n",
    "'''\n",
    "\n",
    "r = [0.1, 0.2, 0.4, 0.8, 1.6, 3.2, 6.4, 12.8]\n",
    "\n",
    "index = 0\n",
    "for ratio in r:\n",
    "    print(f'pH [{ratio}]= {line[0]*m[index]+line[1]}')\n",
    "    index +=1"
   ]
  },
  {
   "cell_type": "code",
   "execution_count": 24,
   "id": "559ce31a-9f04-499e-9233-38327a908ea8",
   "metadata": {},
   "outputs": [
    {
     "name": "stdout",
     "output_type": "stream",
     "text": [
      "Voltage is Measured as: 1.01\n",
      "pH 4= 3.8641370869033036\n",
      "Voltage is Measured as: 1.66\n",
      "pH 7= 6.817778457772339\n"
     ]
    }
   ],
   "source": [
    "#REMEASURING STANDARDS FOR COMPARISON\n",
    "\n",
    "clean()\n",
    "blot()\n",
    "m4x = measure(3,1)\n",
    "\n",
    "print(f'pH 4= {line[0]*m4x+line[1]}')\n",
    "\n",
    "clean()\n",
    "blot()\n",
    "m7x = measure(3,0)\n",
    "\n",
    "print(f'pH 7= {line[0]*m7x+line[1]}')"
   ]
  },
  {
   "cell_type": "code",
   "execution_count": null,
   "id": "87473ac5-1733-4f2c-bd29-a78dadafd64c",
   "metadata": {},
   "outputs": [],
   "source": [
    "#GETTING MEAN AND VARIANCE\n",
    "\n",
    "measurements = []\n",
    "\n",
    "#number of trials per well\n",
    "n=5\n",
    "\n",
    "for i in range(n):\n",
    "    clean()\n",
    "    blot()\n",
    "    g = line[0]*measure(3, n)+line[1]\n",
    "    print(f'pH: {g}')\n",
    "    measurements.append(g)\n",
    "\n",
    "sum = 0\n",
    "for x in measurements:\n",
    "    sum += x\n",
    "\n",
    "mean = sum/n\n",
    "print(f'mean = {mean}')\n",
    "\n",
    "sum = 0\n",
    "for x in measurements:\n",
    "    sum += pow(abs(x-mean),2)\n",
    "\n",
    "variance = sum/(n-1)\n",
    "print(f'variance = {variance}')"
   ]
  },
  {
   "cell_type": "markdown",
   "id": "c6800637",
   "metadata": {},
   "source": [
    "## (2) The Henderson Hasselbach Equation\n",
    "\n",
    "The HH equation is given as:\n",
    "$pH = pK - log(\\frac{[Acid]}{[Base]})$\n",
    "\n",
    "The output gives the pH of the sample, pK is a constant, and [Acid] and [Base] are the **concentrations** of acid and base.  For these experiments we will work with the percentage of acid in the sample to create samples varying in composition from a percentage of acid of 10% through 80%.  \n",
    "\n",
    "**(a)** Write code that will create 8 samples of mixture amounts: acid [10%, 20%, ... 80%]\n",
    "\n",
    "**(b)** After each sample is made, have the system dip the pH sensor in the DI water well, and then measure the pH of the sample.  Plot the measured pH as a function of the [acid]/[base] **ratio**.  \n",
    "\n",
    "**(c)** Run the code created during steps (a) and (b) (this should be one for loop accomplishing both tasks together).  Then plot the results.  \n",
    "\n",
    "**(d)** We will now fit the HH equation to the data.  Write a function that takes in the [acid]/[base] ratio **x** and returns the **pH**, following this equation:\n",
    "-  Func(x, pK) = pK - log(x), where x = [acid]/[base]\n",
    "\n",
    "**(e)** Follow the example for the scipy function \"curve_fit\" to fit this function to the data you have measured: \n",
    "\n",
    "https://docs.scipy.org/doc/scipy/reference/generated/scipy.optimize.curve_fit.html\n",
    "\n",
    "(use default method and no optional parameters)\n",
    "\n",
    "**(f)** What is the pK value discovered?\n"
   ]
  },
  {
   "cell_type": "code",
   "execution_count": 61,
   "id": "9a464235-f031-425c-b4ea-93a48e6a923a",
   "metadata": {},
   "outputs": [],
   "source": [
    "def mix(r,j,i):\n",
    "    a = 2 * r/(r + 1)\n",
    "    if a <= 0.5:\n",
    "        b = 0.5 - a\n",
    "        depo_device.acquire(a, location=\"acid\")\n",
    "        depo_device.deposition(a, row=j, col=i)\n",
    "        depclean()\n",
    "        \n",
    "        for n in range(3):            \n",
    "            depo_device.acquire(0.5, location=\"base\")\n",
    "            depo_device.deposition(0.5, row=j, col=i)            \n",
    "        depo_device.acquire(b, location=\"base\")\n",
    "        depo_device.deposition(b, row=j, col=i)\n",
    "        depclean()\n",
    "\n",
    "    elif a <= 1:\n",
    "        a = a - 0.5\n",
    "        b = 0.5 - a\n",
    "        depo_device.acquire(0.5, location=\"acid\")\n",
    "        depo_device.deposition(0.5, row=j, col=i)\n",
    "        depo_device.acquire(a, location=\"acid\")\n",
    "        depo_device.deposition(a, row=j, col=i)\n",
    "        depclean()\n",
    "        \n",
    "        for n in range(2):\n",
    "            depo_device.acquire(0.5, location=\"base\")\n",
    "            depo_device.deposition(0.5, row=j, col=i)       \n",
    "        depo_device.acquire(b, location=\"base\")\n",
    "        depo_device.deposition(b, row=j, col=i)\n",
    "        depclean()\n",
    "\n",
    "    elif a <= 1.5:\n",
    "        a = a - 1\n",
    "        b = 0.5 - a\n",
    "        for n in range(2):\n",
    "            depo_device.acquire(0.5, location=\"acid\")\n",
    "            depo_device.deposition(0.5, row=j, col=i)\n",
    "        depo_device.acquire(a, location=\"acid\")\n",
    "        depo_device.deposition(a, row=j, col=i)\n",
    "        depclean()\n",
    "\n",
    "        depo_device.acquire(0.5, location=\"base\")\n",
    "        depo_device.deposition(0.5, row=j, col=i)       \n",
    "        depo_device.acquire(b, location=\"base\")\n",
    "        depo_device.deposition(b, row=j, col=i)\n",
    "        depclean()\n",
    "\n",
    "    elif a <= 2:\n",
    "        a = a - 1.5\n",
    "        b = 0.5 - a\n",
    "        for n in range(3):\n",
    "            depo_device.acquire(0.5, location=\"acid\")\n",
    "            depo_device.deposition(0.5, row=j, col=i)\n",
    "        depo_device.acquire(a, location=\"acid\")\n",
    "        depo_device.deposition(a, row=j, col=i)\n",
    "        depclean()\n",
    "\n",
    "        depo_device.acquire(b, location=\"base\")\n",
    "        depo_device.deposition(b, row=j, col=i)\n",
    "        depclean()\n",
    "\n",
    "def HH(r, pKa):\n",
    "    hh = pKa - log(r)\n",
    "    return hh"
   ]
  },
  {
   "cell_type": "code",
   "execution_count": 63,
   "id": "29c8e75e-91b9-43b7-bc1d-e3db9912e264",
   "metadata": {},
   "outputs": [
    {
     "ename": "KeyboardInterrupt",
     "evalue": "",
     "output_type": "error",
     "traceback": [
      "\u001b[1;31m---------------------------------------------------------------------------\u001b[0m",
      "\u001b[1;31mKeyboardInterrupt\u001b[0m                         Traceback (most recent call last)",
      "Cell \u001b[1;32mIn[63], line 6\u001b[0m\n\u001b[0;32m      4\u001b[0m \u001b[38;5;28;01mfor\u001b[39;00m ratio \u001b[38;5;129;01min\u001b[39;00m r:\n\u001b[0;32m      5\u001b[0m     row, col \u001b[38;5;241m=\u001b[39m get_row_col(count)\n\u001b[1;32m----> 6\u001b[0m     mix(ratio, row, col)\n\u001b[0;32m      7\u001b[0m     clean()\n\u001b[0;32m      8\u001b[0m     blot()\n",
      "Cell \u001b[1;32mIn[61], line 7\u001b[0m, in \u001b[0;36mmix\u001b[1;34m(r, j, i)\u001b[0m\n\u001b[0;32m      5\u001b[0m depo_device\u001b[38;5;241m.\u001b[39macquire(a, location\u001b[38;5;241m=\u001b[39m\u001b[38;5;124m\"\u001b[39m\u001b[38;5;124macid\u001b[39m\u001b[38;5;124m\"\u001b[39m)\n\u001b[0;32m      6\u001b[0m depo_device\u001b[38;5;241m.\u001b[39mdeposition(a, row\u001b[38;5;241m=\u001b[39mj, col\u001b[38;5;241m=\u001b[39mi)\n\u001b[1;32m----> 7\u001b[0m depclean()\n\u001b[0;32m      9\u001b[0m \u001b[38;5;28;01mfor\u001b[39;00m n \u001b[38;5;129;01min\u001b[39;00m \u001b[38;5;28mrange\u001b[39m(\u001b[38;5;241m3\u001b[39m):            \n\u001b[0;32m     10\u001b[0m     depo_device\u001b[38;5;241m.\u001b[39macquire(\u001b[38;5;241m0.5\u001b[39m, location\u001b[38;5;241m=\u001b[39m\u001b[38;5;124m\"\u001b[39m\u001b[38;5;124mbase\u001b[39m\u001b[38;5;124m\"\u001b[39m)\n",
      "Cell \u001b[1;32mIn[54], line 21\u001b[0m, in \u001b[0;36mdepclean\u001b[1;34m()\u001b[0m\n\u001b[0;32m     19\u001b[0m \u001b[38;5;28;01mdef\u001b[39;00m \u001b[38;5;21mdepclean\u001b[39m():\n\u001b[0;32m     20\u001b[0m     depo_device\u001b[38;5;241m.\u001b[39mmove_to_loc(\u001b[38;5;124m\"\u001b[39m\u001b[38;5;124mclean\u001b[39m\u001b[38;5;124m\"\u001b[39m)\n\u001b[1;32m---> 21\u001b[0m     depo_device\u001b[38;5;241m.\u001b[39mto_zpos(\u001b[38;5;124m\"\u001b[39m\u001b[38;5;124mfull_down\u001b[39m\u001b[38;5;124m\"\u001b[39m)\n\u001b[0;32m     22\u001b[0m     depo_device\u001b[38;5;241m.\u001b[39mto_zpos(\u001b[38;5;124m\"\u001b[39m\u001b[38;5;124mfull_up\u001b[39m\u001b[38;5;124m\"\u001b[39m)\n",
      "File \u001b[1;32m~\\OneDrive\\Desktop\\legolas\\Legolas_textCellLoc-main\\core.py:438\u001b[0m, in \u001b[0;36mDepositionDevice.to_zpos\u001b[1;34m(self, pos, max_iter)\u001b[0m\n\u001b[0;32m    436\u001b[0m \u001b[38;5;28;01mdef\u001b[39;00m \u001b[38;5;21mto_zpos\u001b[39m(\u001b[38;5;28mself\u001b[39m, pos, max_iter\u001b[38;5;241m=\u001b[39m\u001b[38;5;241m4\u001b[39m):\n\u001b[0;32m    437\u001b[0m     pos \u001b[38;5;241m=\u001b[39m \u001b[38;5;28mself\u001b[39m\u001b[38;5;241m.\u001b[39ms_positions[pos]\n\u001b[1;32m--> 438\u001b[0m     motor_move_to_pos(\n\u001b[0;32m    439\u001b[0m         motor\u001b[38;5;241m=\u001b[39m\u001b[38;5;28mself\u001b[39m\u001b[38;5;241m.\u001b[39mmotor_S,\n\u001b[0;32m    440\u001b[0m         pos\u001b[38;5;241m=\u001b[39mpos,\n\u001b[0;32m    441\u001b[0m         speed\u001b[38;5;241m=\u001b[39m\u001b[38;5;241m5\u001b[39m,\n\u001b[0;32m    442\u001b[0m         max_iter\u001b[38;5;241m=\u001b[39mmax_iter,\n\u001b[0;32m    443\u001b[0m     )\n",
      "File \u001b[1;32m~\\OneDrive\\Desktop\\legolas\\Legolas_textCellLoc-main\\core.py:56\u001b[0m, in \u001b[0;36mmotor_move_to_pos\u001b[1;34m(motor, pos, speed, max_iter, blocking)\u001b[0m\n\u001b[0;32m     54\u001b[0m n \u001b[38;5;241m=\u001b[39m \u001b[38;5;241m0\u001b[39m\n\u001b[0;32m     55\u001b[0m \u001b[38;5;28;01mwhile\u001b[39;00m pos \u001b[38;5;241m!=\u001b[39m curr_pos \u001b[38;5;129;01mand\u001b[39;00m n \u001b[38;5;241m<\u001b[39m max_iter:\n\u001b[1;32m---> 56\u001b[0m     motor\u001b[38;5;241m.\u001b[39mrun_for_degrees(pos \u001b[38;5;241m-\u001b[39m curr_pos, speed\u001b[38;5;241m=\u001b[39mspeed, blocking\u001b[38;5;241m=\u001b[39mblocking)\n\u001b[0;32m     57\u001b[0m     curr_pos \u001b[38;5;241m=\u001b[39m motor\u001b[38;5;241m.\u001b[39mget_position()\n\u001b[0;32m     58\u001b[0m     n \u001b[38;5;241m+\u001b[39m\u001b[38;5;241m=\u001b[39m \u001b[38;5;241m1\u001b[39m\n",
      "File \u001b[1;32m~\\anaconda3\\envs\\Legolas_2024\\Lib\\site-packages\\rpyc\\core\\netref.py:148\u001b[0m, in \u001b[0;36mBaseNetref.__getattribute__\u001b[1;34m(self, name)\u001b[0m\n\u001b[0;32m    146\u001b[0m     \u001b[38;5;28;01mreturn\u001b[39;00m \u001b[38;5;28mobject\u001b[39m\u001b[38;5;241m.\u001b[39m\u001b[38;5;21m__getattribute__\u001b[39m(\u001b[38;5;28mself\u001b[39m, \u001b[38;5;124m\"\u001b[39m\u001b[38;5;124m__array__\u001b[39m\u001b[38;5;124m\"\u001b[39m)\n\u001b[0;32m    147\u001b[0m \u001b[38;5;28;01melse\u001b[39;00m:\n\u001b[1;32m--> 148\u001b[0m     \u001b[38;5;28;01mreturn\u001b[39;00m syncreq(\u001b[38;5;28mself\u001b[39m, consts\u001b[38;5;241m.\u001b[39mHANDLE_GETATTR, name)\n",
      "File \u001b[1;32m~\\anaconda3\\envs\\Legolas_2024\\Lib\\site-packages\\rpyc\\core\\netref.py:63\u001b[0m, in \u001b[0;36msyncreq\u001b[1;34m(proxy, handler, *args)\u001b[0m\n\u001b[0;32m     51\u001b[0m \u001b[38;5;250m\u001b[39m\u001b[38;5;124;03m\"\"\"Performs a synchronous request on the given proxy object.\u001b[39;00m\n\u001b[0;32m     52\u001b[0m \u001b[38;5;124;03mNot intended to be invoked directly.\u001b[39;00m\n\u001b[0;32m     53\u001b[0m \n\u001b[1;32m   (...)\u001b[0m\n\u001b[0;32m     60\u001b[0m \u001b[38;5;124;03m:returns: the result of the operation\u001b[39;00m\n\u001b[0;32m     61\u001b[0m \u001b[38;5;124;03m\"\"\"\u001b[39;00m\n\u001b[0;32m     62\u001b[0m conn \u001b[38;5;241m=\u001b[39m \u001b[38;5;28mobject\u001b[39m\u001b[38;5;241m.\u001b[39m\u001b[38;5;21m__getattribute__\u001b[39m(proxy, \u001b[38;5;124m\"\u001b[39m\u001b[38;5;124m____conn__\u001b[39m\u001b[38;5;124m\"\u001b[39m)\n\u001b[1;32m---> 63\u001b[0m \u001b[38;5;28;01mreturn\u001b[39;00m conn\u001b[38;5;241m.\u001b[39msync_request(handler, proxy, \u001b[38;5;241m*\u001b[39margs)\n",
      "File \u001b[1;32m~\\anaconda3\\envs\\Legolas_2024\\Lib\\site-packages\\rpyc\\core\\protocol.py:718\u001b[0m, in \u001b[0;36mConnection.sync_request\u001b[1;34m(self, handler, *args)\u001b[0m\n\u001b[0;32m    715\u001b[0m _async_res \u001b[38;5;241m=\u001b[39m \u001b[38;5;28mself\u001b[39m\u001b[38;5;241m.\u001b[39masync_request(handler, \u001b[38;5;241m*\u001b[39margs, timeout\u001b[38;5;241m=\u001b[39mtimeout)\n\u001b[0;32m    716\u001b[0m \u001b[38;5;66;03m# _async_res is an instance of AsyncResult, the value property invokes Connection.serve via AsyncResult.wait\u001b[39;00m\n\u001b[0;32m    717\u001b[0m \u001b[38;5;66;03m# So, the _recvlock can be acquired multiple times by the owning thread and warrants the use of RLock\u001b[39;00m\n\u001b[1;32m--> 718\u001b[0m \u001b[38;5;28;01mreturn\u001b[39;00m _async_res\u001b[38;5;241m.\u001b[39mvalue\n",
      "File \u001b[1;32m~\\anaconda3\\envs\\Legolas_2024\\Lib\\site-packages\\rpyc\\core\\async_.py:106\u001b[0m, in \u001b[0;36mAsyncResult.value\u001b[1;34m(self)\u001b[0m\n\u001b[0;32m     98\u001b[0m \u001b[38;5;129m@property\u001b[39m\n\u001b[0;32m     99\u001b[0m \u001b[38;5;28;01mdef\u001b[39;00m \u001b[38;5;21mvalue\u001b[39m(\u001b[38;5;28mself\u001b[39m):\n\u001b[0;32m    100\u001b[0m \u001b[38;5;250m    \u001b[39m\u001b[38;5;124;03m\"\"\"Returns the result of the operation. If the result has not yet\u001b[39;00m\n\u001b[0;32m    101\u001b[0m \u001b[38;5;124;03m    arrived, accessing this property will wait for it. If the result does\u001b[39;00m\n\u001b[0;32m    102\u001b[0m \u001b[38;5;124;03m    not arrive before the expiry time elapses, :class:`AsyncResultTimeout`\u001b[39;00m\n\u001b[0;32m    103\u001b[0m \u001b[38;5;124;03m    is raised. If the returned result is an exception, it will be raised\u001b[39;00m\n\u001b[0;32m    104\u001b[0m \u001b[38;5;124;03m    here. Otherwise, the result is returned directly.\u001b[39;00m\n\u001b[0;32m    105\u001b[0m \u001b[38;5;124;03m    \"\"\"\u001b[39;00m\n\u001b[1;32m--> 106\u001b[0m     \u001b[38;5;28mself\u001b[39m\u001b[38;5;241m.\u001b[39mwait()\n\u001b[0;32m    107\u001b[0m     \u001b[38;5;28;01mif\u001b[39;00m \u001b[38;5;28mself\u001b[39m\u001b[38;5;241m.\u001b[39m_is_exc:\n\u001b[0;32m    108\u001b[0m         \u001b[38;5;28;01mraise\u001b[39;00m \u001b[38;5;28mself\u001b[39m\u001b[38;5;241m.\u001b[39m_obj\n",
      "File \u001b[1;32m~\\anaconda3\\envs\\Legolas_2024\\Lib\\site-packages\\rpyc\\core\\async_.py:51\u001b[0m, in \u001b[0;36mAsyncResult.wait\u001b[1;34m(self)\u001b[0m\n\u001b[0;32m     44\u001b[0m \u001b[38;5;250m\u001b[39m\u001b[38;5;124;03m\"\"\"Waits for the result to arrive. If the AsyncResult object has an\u001b[39;00m\n\u001b[0;32m     45\u001b[0m \u001b[38;5;124;03mexpiry set, and the result did not arrive within that timeout,\u001b[39;00m\n\u001b[0;32m     46\u001b[0m \u001b[38;5;124;03man :class:`AsyncResultTimeout` exception is raised\"\"\"\u001b[39;00m\n\u001b[0;32m     47\u001b[0m \u001b[38;5;28;01mwhile\u001b[39;00m \u001b[38;5;129;01mnot\u001b[39;00m (\u001b[38;5;28mself\u001b[39m\u001b[38;5;241m.\u001b[39m_is_ready \u001b[38;5;129;01mor\u001b[39;00m \u001b[38;5;28mself\u001b[39m\u001b[38;5;241m.\u001b[39mexpired):\n\u001b[0;32m     48\u001b[0m     \u001b[38;5;66;03m# Serve the connection since we are not ready. Suppose\u001b[39;00m\n\u001b[0;32m     49\u001b[0m     \u001b[38;5;66;03m# the reply for our seq is served. The callback is this class\u001b[39;00m\n\u001b[0;32m     50\u001b[0m     \u001b[38;5;66;03m# so __call__ sets our obj and _is_ready to true.\u001b[39;00m\n\u001b[1;32m---> 51\u001b[0m     \u001b[38;5;28mself\u001b[39m\u001b[38;5;241m.\u001b[39m_conn\u001b[38;5;241m.\u001b[39mserve(\u001b[38;5;28mself\u001b[39m\u001b[38;5;241m.\u001b[39m_ttl)\n\u001b[0;32m     53\u001b[0m \u001b[38;5;66;03m# Check if we timed out before result was ready\u001b[39;00m\n\u001b[0;32m     54\u001b[0m \u001b[38;5;28;01mif\u001b[39;00m \u001b[38;5;129;01mnot\u001b[39;00m \u001b[38;5;28mself\u001b[39m\u001b[38;5;241m.\u001b[39m_is_ready:\n",
      "File \u001b[1;32m~\\anaconda3\\envs\\Legolas_2024\\Lib\\site-packages\\rpyc\\core\\protocol.py:438\u001b[0m, in \u001b[0;36mConnection.serve\u001b[1;34m(self, timeout, wait_for_lock)\u001b[0m\n\u001b[0;32m    436\u001b[0m \u001b[38;5;28;01mtry\u001b[39;00m:\n\u001b[0;32m    437\u001b[0m     data \u001b[38;5;241m=\u001b[39m \u001b[38;5;28;01mNone\u001b[39;00m  \u001b[38;5;66;03m# Ensure data is initialized\u001b[39;00m\n\u001b[1;32m--> 438\u001b[0m     data \u001b[38;5;241m=\u001b[39m \u001b[38;5;28mself\u001b[39m\u001b[38;5;241m.\u001b[39m_channel\u001b[38;5;241m.\u001b[39mpoll(timeout) \u001b[38;5;129;01mand\u001b[39;00m \u001b[38;5;28mself\u001b[39m\u001b[38;5;241m.\u001b[39m_channel\u001b[38;5;241m.\u001b[39mrecv()\n\u001b[0;32m    439\u001b[0m \u001b[38;5;28;01mexcept\u001b[39;00m \u001b[38;5;167;01mException\u001b[39;00m \u001b[38;5;28;01mas\u001b[39;00m exc:\n\u001b[0;32m    440\u001b[0m     \u001b[38;5;28mself\u001b[39m\u001b[38;5;241m.\u001b[39m_recvlock\u001b[38;5;241m.\u001b[39mrelease()\n",
      "File \u001b[1;32m~\\anaconda3\\envs\\Legolas_2024\\Lib\\site-packages\\rpyc\\core\\channel.py:47\u001b[0m, in \u001b[0;36mChannel.poll\u001b[1;34m(self, timeout)\u001b[0m\n\u001b[0;32m     45\u001b[0m \u001b[38;5;28;01mdef\u001b[39;00m \u001b[38;5;21mpoll\u001b[39m(\u001b[38;5;28mself\u001b[39m, timeout):\n\u001b[0;32m     46\u001b[0m \u001b[38;5;250m    \u001b[39m\u001b[38;5;124;03m\"\"\"polls the underlying steam for data, waiting up to *timeout* seconds\"\"\"\u001b[39;00m\n\u001b[1;32m---> 47\u001b[0m     \u001b[38;5;28;01mreturn\u001b[39;00m \u001b[38;5;28mself\u001b[39m\u001b[38;5;241m.\u001b[39mstream\u001b[38;5;241m.\u001b[39mpoll(timeout)\n",
      "File \u001b[1;32m~\\anaconda3\\envs\\Legolas_2024\\Lib\\site-packages\\rpyc\\core\\stream.py:48\u001b[0m, in \u001b[0;36mStream.poll\u001b[1;34m(self, timeout)\u001b[0m\n\u001b[0;32m     46\u001b[0m \u001b[38;5;28;01mwhile\u001b[39;00m \u001b[38;5;28;01mTrue\u001b[39;00m:\n\u001b[0;32m     47\u001b[0m     \u001b[38;5;28;01mtry\u001b[39;00m:\n\u001b[1;32m---> 48\u001b[0m         rl \u001b[38;5;241m=\u001b[39m p\u001b[38;5;241m.\u001b[39mpoll(timeout\u001b[38;5;241m.\u001b[39mtimeleft())\n\u001b[0;32m     49\u001b[0m     \u001b[38;5;28;01mexcept\u001b[39;00m select_error:\n\u001b[0;32m     50\u001b[0m         ex \u001b[38;5;241m=\u001b[39m sys\u001b[38;5;241m.\u001b[39mexc_info()[\u001b[38;5;241m1\u001b[39m]\n",
      "File \u001b[1;32m~\\anaconda3\\envs\\Legolas_2024\\Lib\\site-packages\\rpyc\\lib\\compat.py:164\u001b[0m, in \u001b[0;36mSelectingPoll.poll\u001b[1;34m(self, timeout)\u001b[0m\n\u001b[0;32m    162\u001b[0m     \u001b[38;5;28;01mreturn\u001b[39;00m []  \u001b[38;5;66;03m# need to return an empty array in this case\u001b[39;00m\n\u001b[0;32m    163\u001b[0m \u001b[38;5;28;01melse\u001b[39;00m:\n\u001b[1;32m--> 164\u001b[0m     rl, wl, _ \u001b[38;5;241m=\u001b[39m select(\u001b[38;5;28mself\u001b[39m\u001b[38;5;241m.\u001b[39mrlist, \u001b[38;5;28mself\u001b[39m\u001b[38;5;241m.\u001b[39mwlist, (), timeout)\n\u001b[0;32m    165\u001b[0m     \u001b[38;5;28;01mreturn\u001b[39;00m [(fd, \u001b[38;5;124m\"\u001b[39m\u001b[38;5;124mr\u001b[39m\u001b[38;5;124m\"\u001b[39m) \u001b[38;5;28;01mfor\u001b[39;00m fd \u001b[38;5;129;01min\u001b[39;00m rl] \u001b[38;5;241m+\u001b[39m [(fd, \u001b[38;5;124m\"\u001b[39m\u001b[38;5;124mw\u001b[39m\u001b[38;5;124m\"\u001b[39m) \u001b[38;5;28;01mfor\u001b[39;00m fd \u001b[38;5;129;01min\u001b[39;00m wl]\n",
      "\u001b[1;31mKeyboardInterrupt\u001b[0m: "
     ]
    }
   ],
   "source": [
    "r = [0.1, 0.2, 0.4, 0.8, 1.6, 3.2, 6.4, 12.8]\n",
    "\n",
    "count = 0\n",
    "for ratio in r:\n",
    "    row, col = get_row_col(count)\n",
    "    mix(ratio, row, col)\n",
    "    clean()\n",
    "    blot()\n",
    "    measurement.append(measure(row,col))\n",
    "    print(f'pH [{ratio}]= {line[0]*measurement[count]+line[1]}')\n",
    "    print(f'HH pH [{ratio}]= {HH(ratio, 4.74)}')\n",
    "    count +=1"
   ]
  },
  {
   "cell_type": "code",
   "execution_count": null,
   "id": "7016fd1c-c2da-4a80-aa19-f5d586bc8154",
   "metadata": {},
   "outputs": [],
   "source": [
    "mix(0.1, 3, 2)\n",
    "mix(0.2, 2, 3)"
   ]
  },
  {
   "cell_type": "code",
   "execution_count": null,
   "id": "72c7c56c-2396-4102-8284-35b14be4c131",
   "metadata": {},
   "outputs": [],
   "source": [
    "mix(0.4, 3, 2)\n",
    "mix(0.8, 2, 3)"
   ]
  },
  {
   "cell_type": "code",
   "execution_count": 73,
   "id": "84e57887-e02a-4189-b1f8-72c952270097",
   "metadata": {},
   "outputs": [],
   "source": [
    "mix(1.6, 3, 4)\n",
    "mix(3.2, 3, 5)"
   ]
  },
  {
   "cell_type": "code",
   "execution_count": 75,
   "id": "db73e70a-261b-46a7-924b-5a2d29fd189e",
   "metadata": {},
   "outputs": [],
   "source": [
    "mix(6.4, 2, 5)\n",
    "mix(12.8, 1, 5)"
   ]
  },
  {
   "cell_type": "code",
   "execution_count": 9,
   "id": "1cfe1bae-0d04-4914-bb81-e1b8083160c8",
   "metadata": {},
   "outputs": [
    {
     "name": "stdout",
     "output_type": "stream",
     "text": [
      "slope (exponent): -1.0313795799364573, intercept (pKa): 4.4302870867302095\n"
     ]
    },
    {
     "data": {
      "text/plain": [
       "<function matplotlib.pyplot.show(close=None, block=None)>"
      ]
     },
     "execution_count": 9,
     "metadata": {},
     "output_type": "execute_result"
    },
    {
     "data": {
      "image/png": "[encoded data removed]",
      "text/plain": [
       "<Figure size 640x480 with 1 Axes>"
      ]
     },
     "metadata": {},
     "output_type": "display_data"
    }
   ],
   "source": [
    "#FITTING A STRAIGHT LINE TO LOGARIGHTMIC DATA\n",
    "\n",
    "y = [3.41, 3.55, 3.86, 4.18, 4.50, 4.77, 5.23, 5.50]\n",
    "x = [np.log10(12.8), np.log10(6.4), np.log10(3.2), np.log10(1.6), np.log10(0.8), np.log10(0.4), np.log10(0.2), np.log10(0.1)]\n",
    "\n",
    "line2 = np.polyfit(x,y,1)\n",
    "print(f'slope (exponent): {line2[0]}, intercept (pKa): {line2[1]}')\n",
    "trend = np.poly1d(line2)\n",
    "plt.plot(x,y, 'ro', x, trend(x), '-k')\n",
    "plt.xlabel('log10(acid/c_base)')\n",
    "plt.ylabel('pH')\n",
    "plt.show"
   ]
  },
  {
   "cell_type": "markdown",
   "id": "b99b2149",
   "metadata": {},
   "source": [
    "## (3) Gaussian Process \n",
    "\n",
    "**(a)** Fit the data with Gaussian process regression using an RBF kernel.  Optimize the hyperparameters and plot the results.  Output the GP hyperparameters: kernel length scale, kernel variance, noise variance.\n",
    "\n",
    "**(b)** Do the same, but this time with the data for x = [10%,...,60%]\n",
    "\n",
    "**(c)** Bad assumptions:\n",
    "-  In (a) and (b) we optimized to find the best values for the hyperparameters. Let’s see what happens when we pick a poor value. Here we again will use the partial data used in (b). Using the following lines of code, fix the kernel length scale to first a value of 0.1 and then 10. For each case, optimize the rest of the parameters and plot the results. What is the impact of fixing a small or large value for the length scale?(m.rbf.lengthscale = 0.1, m.rbf.lengthscale.fix())\n",
    "- Now let’s see what happens when we make a poor assumption for the kernel. Again use the partial data from (b). Let’s set the kernel to the standard periodic: StdPeriodic(1)\n",
    "- This imposes the assumption that the pH function is periodic. Optimize all the hyperparameters and plot the result."
   ]
  },
  {
   "cell_type": "code",
   "execution_count": null,
   "id": "0f99a930",
   "metadata": {},
   "outputs": [],
   "source": []
  },
  {
   "cell_type": "markdown",
   "id": "5ec3d25e",
   "metadata": {},
   "source": [
    "## (4) Active Learning: Optimizing \n",
    "\n",
    "In this section we will combine the GP of (3a) with active learning.\n",
    "\n",
    "**(a)** We would like to find the value of x where pH = 4.75\n",
    "Define an acquisition function and discuss with the TA or a professor. For this challenge combine exploitation and exploration.\n",
    "\n",
    "**(b)** Combine the acquisition function with the GP of (3a). Hint: use the demo code from the active learning lecture. Allow active learning to select any 5% increment value of the acid percentage (5% through 95%). Have active learning make 8 samples in sequence, following the GP and active learning loop. What result do you get?\n",
    "\n"
   ]
  },
  {
   "cell_type": "code",
   "execution_count": null,
   "id": "50b2d456",
   "metadata": {},
   "outputs": [],
   "source": []
  }
 ],
 "metadata": {
  "kernelspec": {
   "display_name": "Legolas_2024-kernel",
   "language": "python",
   "name": "legolas_2024-kernel"
  },
  "language_info": {
   "codemirror_mode": {
    "name": "ipython",
    "version": 3
   },
   "file_extension": ".py",
   "mimetype": "text/x-python",
   "name": "python",
   "nbconvert_exporter": "python",
   "pygments_lexer": "ipython3",
   "version": "3.11.7"
  },
  "vscode": {
   "interpreter": {
    "hash": "0095c6ec66f02ae1bc8a134f6078f14ee669be44a5c4ac33d7f267434e255fcc"
   }
  }
 },
 "nbformat": 4,
 "nbformat_minor": 5
}
