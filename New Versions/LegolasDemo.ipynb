{
 "cells": [
  {
   "cell_type": "markdown",
   "id": "d1f56319",
   "metadata": {},
   "source": [
    "# Legolas Demo Code\n",
    "\n",
    "Use this code to test your calibration values and as a reference for solving the challenges"
   ]
  },
  {
   "cell_type": "code",
   "execution_count": null,
   "id": "4ec84ee4",
   "metadata": {},
   "outputs": [],
   "source": [
    "#Not needed if you have already installed GPy and GPyOpt\n",
    "!pip install GPy\n",
    "# GPFlow, GPyTorch\n",
    "!pip install GPyOpt"
   ]
  },
  {
   "cell_type": "code",
   "execution_count": 5,
   "id": "f4e5d4fb",
   "metadata": {},
   "outputs": [],
   "source": [
    "from core import *\n",
    "import utils\n",
    "import time as time\n",
    "from pathlib import Path\n",
    "\n",
    "# import time is in core\n",
    "# import Path is in core"
   ]
  },
  {
   "cell_type": "code",
   "execution_count": 11,
   "id": "77cd6f4e",
   "metadata": {
    "scrolled": true
   },
   "outputs": [
    {
     "name": "stdout",
     "output_type": "stream",
     "text": [
      "kill server at PID:10054\n",
      "restarting the rpyc server at host: 192.168.1.11\n",
      "rpyc server start successfully\n",
      "kill server at PID:128206\n",
      "restarting the rpyc server at host: 192.168.1.14\n",
      "rpyc server start successfully\n"
     ]
    }
   ],
   "source": [
    "# this is how you reset the rpyc server when facing the port already in use\n",
    "# need to change to actual host name\n",
    "host_1 = \"192.168.1.11\"\n",
    "host_2 = \"192.168.1.14\"\n",
    "\n",
    "utils.restart_server(host=host_1)\n",
    "utils.restart_server(host=host_2)"
   ]
  },
  {
   "cell_type": "code",
   "execution_count": 12,
   "id": "4caab904",
   "metadata": {
    "scrolled": true
   },
   "outputs": [],
   "source": [
    "stage, depo_device, pH_device, conn1, conn2, config = load_from_config(\"config.yaml\")"
   ]
  },
  {
   "cell_type": "code",
   "execution_count": null,
   "id": "a1355635",
   "metadata": {
    "scrolled": true
   },
   "outputs": [],
   "source": [
    "#!dir ."
   ]
  },
  {
   "cell_type": "code",
   "execution_count": 9,
   "id": "c3cf9fa3",
   "metadata": {},
   "outputs": [
    {
     "ename": "NameError",
     "evalue": "name 'conn1' is not defined",
     "output_type": "error",
     "traceback": [
      "\u001b[1;31m---------------------------------------------------------------------------\u001b[0m",
      "\u001b[1;31mNameError\u001b[0m                                 Traceback (most recent call last)",
      "Cell \u001b[1;32mIn[9], line 2\u001b[0m\n\u001b[0;32m      1\u001b[0m \u001b[38;5;66;03m# find the usb port if problem occur\u001b[39;00m\n\u001b[1;32m----> 2\u001b[0m list_ports \u001b[38;5;241m=\u001b[39m \u001b[43mconn1\u001b[49m\u001b[38;5;241m.\u001b[39mmodules[\u001b[38;5;124m'\u001b[39m\u001b[38;5;124mserial.tools.list_ports\u001b[39m\u001b[38;5;124m'\u001b[39m]\n\u001b[0;32m      4\u001b[0m ports\u001b[38;5;241m=\u001b[39mlist_ports\u001b[38;5;241m.\u001b[39mcomports()\n\u001b[0;32m      5\u001b[0m \u001b[38;5;28;01mfor\u001b[39;00m port, desc, hwid \u001b[38;5;129;01min\u001b[39;00m \u001b[38;5;28msorted\u001b[39m(ports):\n",
      "\u001b[1;31mNameError\u001b[0m: name 'conn1' is not defined"
     ]
    }
   ],
   "source": [
    "# find the usb port if problem occur\n",
    "list_ports = conn1.modules['serial.tools.list_ports']\n",
    "\n",
    "ports=list_ports.comports()\n",
    "for port, desc, hwid in sorted(ports):\n",
    "    print(port, desc, hwid)"
   ]
  },
  {
   "cell_type": "markdown",
   "id": "da037954",
   "metadata": {},
   "source": [
    "## Test Device Functionality"
   ]
  },
  {
   "cell_type": "code",
   "execution_count": null,
   "id": "be762347",
   "metadata": {
    "scrolled": true
   },
   "outputs": [],
   "source": [
    "# Go to Home Position and do other things. Be careful with this command.\n",
    "reset(stage=stage, pH_device=pH_device, depo_device=depo_device)\n",
    "# stage.home()"
   ]
  },
  {
   "cell_type": "code",
   "execution_count": 61,
   "id": "e17466b0",
   "metadata": {
    "scrolled": true
   },
   "outputs": [
    {
     "data": {
      "text/plain": [
       "(647, 140)"
      ]
     },
     "execution_count": 61,
     "metadata": {},
     "output_type": "execute_result"
    }
   ],
   "source": [
    "# Go to Home Position\n",
    "stage.home()"
   ]
  },
  {
   "cell_type": "code",
   "execution_count": 130,
   "id": "55e2ed0a",
   "metadata": {},
   "outputs": [],
   "source": [
    "# Drop pH meter and raise it up (don't run if pH path is obstructed)\n",
    "pH_device.to_zpos(\"full_down\")\n",
    "pH_device.to_zpos(\"full_up\")"
   ]
  },
  {
   "cell_type": "code",
   "execution_count": 120,
   "id": "93ad65a8",
   "metadata": {},
   "outputs": [],
   "source": [
    "# pH meter and raise it up (don't run if pH path is obstructed)\n",
    "pH_device.to_zpos(\"full_up\")"
   ]
  },
  {
   "cell_type": "code",
   "execution_count": 119,
   "id": "3f683bdf",
   "metadata": {},
   "outputs": [],
   "source": [
    "# Drop pH meter and raise it up (don't run if pH path is obstructed)\n",
    "pH_device.to_zpos(\"full_down\")"
   ]
  },
  {
   "cell_type": "code",
   "execution_count": 6,
   "id": "38626d5a",
   "metadata": {},
   "outputs": [],
   "source": [
    "# Drop deposition device and raise it up (don't run if syringe path is obstructed)\n",
    "depo_device.to_zpos(\"full_down\")\n",
    "depo_device.to_zpos(\"full_up\")"
   ]
  },
  {
   "cell_type": "code",
   "execution_count": 56,
   "id": "64d4bccb-a0b8-4d47-8cb0-f6d9507a97af",
   "metadata": {},
   "outputs": [],
   "source": [
    "pH_device.to_zpos(\"full_up\")\n",
    "stage.home()\n",
    "stage.move_to_cell(0,1)\n",
    "pH_device.to_zpos(\"full_down\")"
   ]
  },
  {
   "cell_type": "markdown",
   "id": "3d6648b2",
   "metadata": {},
   "source": [
    "## Test Cell Mapping and Accuracy\n",
    "Use this code to see if pH device is aligning with the cell map properly\n",
    "\n",
    "If calibrated properly with the pH sensor, \"stage\" and \"pH_device\" will move the cart to the same spot"
   ]
  },
  {
   "cell_type": "code",
   "execution_count": 27,
   "id": "9e28e0e2",
   "metadata": {},
   "outputs": [
    {
     "data": {
      "text/plain": [
       "(49, 718)"
      ]
     },
     "execution_count": 27,
     "metadata": {},
     "output_type": "execute_result"
    }
   ],
   "source": [
    "stage.home()"
   ]
  },
  {
   "cell_type": "code",
   "execution_count": 26,
   "id": "f3c86d12",
   "metadata": {},
   "outputs": [],
   "source": [
    "stage.move_to_cell(0,0)"
   ]
  },
  {
   "cell_type": "code",
   "execution_count": 8,
   "id": "6eae7e6d",
   "metadata": {},
   "outputs": [
    {
     "data": {
      "text/plain": [
       "(-82, -542)"
      ]
     },
     "execution_count": 8,
     "metadata": {},
     "output_type": "execute_result"
    }
   ],
   "source": [
    "stage.get_XYloc()"
   ]
  },
  {
   "cell_type": "code",
   "execution_count": 29,
   "id": "231ad7b0",
   "metadata": {},
   "outputs": [],
   "source": [
    "pH_device.to_zpos(\"full_down\")"
   ]
  },
  {
   "cell_type": "code",
   "execution_count": 26,
   "id": "77c86cc8",
   "metadata": {},
   "outputs": [],
   "source": [
    "pH_device.to_zpos(\"full_up\")"
   ]
  },
  {
   "cell_type": "code",
   "execution_count": 28,
   "id": "63bdb77f",
   "metadata": {},
   "outputs": [],
   "source": [
    "stage.move_to_cell(1,0)"
   ]
  },
  {
   "cell_type": "code",
   "execution_count": 62,
   "id": "afec1bd3",
   "metadata": {},
   "outputs": [],
   "source": [
    "#Test positioning in Row 1, start with everything full_up\n",
    "pH_device.to_zpos(\"full_up\")\n",
    "stage.home()\n",
    "#stage.move_to_cell(0,0)\n",
    "for i in range(6):\n",
    "    stage.move_to_cell(0,i)\n",
    "    pH_device.to_zpos(\"full_down\")\n",
    "    pH_device.to_zpos(\"full_up\")\n",
    "    #time.sleep(2)"
   ]
  },
  {
   "cell_type": "code",
   "execution_count": 4,
   "id": "996c1d0f",
   "metadata": {},
   "outputs": [
    {
     "name": "stdout",
     "output_type": "stream",
     "text": [
      "j,i = 0 , 0\n",
      "j,i = 0 , 1\n",
      "j,i = 0 , 2\n",
      "j,i = 0 , 3\n",
      "j,i = 0 , 4\n",
      "j,i = 0 , 5\n",
      "j,i = 1 , 0\n",
      "j,i = 1 , 1\n",
      "j,i = 1 , 2\n",
      "j,i = 1 , 3\n"
     ]
    },
    {
     "ename": "TimeoutError",
     "evalue": "result expired",
     "output_type": "error",
     "traceback": [
      "\u001b[1;31m---------------------------------------------------------------------------\u001b[0m",
      "\u001b[1;31mTimeoutError\u001b[0m                              Traceback (most recent call last)",
      "Cell \u001b[1;32mIn[4], line 7\u001b[0m\n\u001b[0;32m      5\u001b[0m \u001b[38;5;28;01mfor\u001b[39;00m j \u001b[38;5;129;01min\u001b[39;00m \u001b[38;5;28mrange\u001b[39m (\u001b[38;5;241m4\u001b[39m):\n\u001b[0;32m      6\u001b[0m     \u001b[38;5;28;01mfor\u001b[39;00m i \u001b[38;5;129;01min\u001b[39;00m \u001b[38;5;28mrange\u001b[39m(\u001b[38;5;241m6\u001b[39m):\n\u001b[1;32m----> 7\u001b[0m         \u001b[43mstage\u001b[49m\u001b[38;5;241;43m.\u001b[39;49m\u001b[43mmove_to_cell\u001b[49m\u001b[43m(\u001b[49m\u001b[43mj\u001b[49m\u001b[43m,\u001b[49m\u001b[43mi\u001b[49m\u001b[43m)\u001b[49m\n\u001b[0;32m      8\u001b[0m         \u001b[38;5;28mprint\u001b[39m(\u001b[38;5;124m\"\u001b[39m\u001b[38;5;124mj,i =\u001b[39m\u001b[38;5;124m\"\u001b[39m,j,\u001b[38;5;124m\"\u001b[39m\u001b[38;5;124m,\u001b[39m\u001b[38;5;124m\"\u001b[39m,i)\n\u001b[0;32m      9\u001b[0m         pH_device\u001b[38;5;241m.\u001b[39mto_zpos(\u001b[38;5;124m\"\u001b[39m\u001b[38;5;124mfull_down\u001b[39m\u001b[38;5;124m\"\u001b[39m)\n",
      "File \u001b[1;32m~\\OneDrive\\Desktop\\legolas\\Legolas_textCellLoc-main\\core.py:328\u001b[0m, in \u001b[0;36mStage.move_to_cell\u001b[1;34m(self, row, col, device_x_offset, device_y_offset)\u001b[0m\n\u001b[0;32m    326\u001b[0m \u001b[38;5;28;01mdef\u001b[39;00m \u001b[38;5;21mmove_to_cell\u001b[39m(\u001b[38;5;28mself\u001b[39m, row, col, device_x_offset\u001b[38;5;241m=\u001b[39m\u001b[38;5;241m0\u001b[39m, device_y_offset\u001b[38;5;241m=\u001b[39m\u001b[38;5;241m0\u001b[39m):\n\u001b[0;32m    327\u001b[0m     positionX, positionY \u001b[38;5;241m=\u001b[39m \u001b[38;5;28mself\u001b[39m\u001b[38;5;241m.\u001b[39mcell_loc_map[row, col]\n\u001b[1;32m--> 328\u001b[0m     \u001b[38;5;28;43mself\u001b[39;49m\u001b[38;5;241;43m.\u001b[39;49m\u001b[43mmove_to_deg\u001b[49m\u001b[43m(\u001b[49m\u001b[43mpositionX\u001b[49m\u001b[43m,\u001b[49m\u001b[43m \u001b[49m\u001b[43mpositionY\u001b[49m\u001b[43m,\u001b[49m\u001b[43m \u001b[49m\u001b[43mdevice_x_offset\u001b[49m\u001b[43m,\u001b[49m\u001b[43m \u001b[49m\u001b[43mdevice_y_offset\u001b[49m\u001b[43m)\u001b[49m\n",
      "File \u001b[1;32m~\\OneDrive\\Desktop\\legolas\\Legolas_textCellLoc-main\\core.py:322\u001b[0m, in \u001b[0;36mStage.move_to_deg\u001b[1;34m(self, x_degree, y_degree, device_x_offset, device_y_offset)\u001b[0m\n\u001b[0;32m    321\u001b[0m \u001b[38;5;28;01mdef\u001b[39;00m \u001b[38;5;21mmove_to_deg\u001b[39m(\u001b[38;5;28mself\u001b[39m, x_degree, y_degree, device_x_offset\u001b[38;5;241m=\u001b[39m\u001b[38;5;241m0\u001b[39m, device_y_offset\u001b[38;5;241m=\u001b[39m\u001b[38;5;241m0\u001b[39m):\n\u001b[1;32m--> 322\u001b[0m     originX_offset, originY_offset \u001b[38;5;241m=\u001b[39m \u001b[38;5;28;43mself\u001b[39;49m\u001b[38;5;241;43m.\u001b[39;49m\u001b[43mget_XYloc\u001b[49m\u001b[43m(\u001b[49m\u001b[43m)\u001b[49m\n\u001b[0;32m    323\u001b[0m     \u001b[38;5;28mself\u001b[39m\u001b[38;5;241m.\u001b[39mmove_by_deg(x_degree \u001b[38;5;241m-\u001b[39m originX_offset , y_degree \u001b[38;5;241m-\u001b[39m originY_offset, device_x_offset, device_y_offset)\n",
      "File \u001b[1;32m~\\OneDrive\\Desktop\\legolas\\Legolas_textCellLoc-main\\core.py:341\u001b[0m, in \u001b[0;36mStage.get_XYloc\u001b[1;34m(self)\u001b[0m\n\u001b[0;32m    339\u001b[0m \u001b[38;5;28;01mdef\u001b[39;00m \u001b[38;5;21mget_XYloc\u001b[39m(\u001b[38;5;28mself\u001b[39m):\n\u001b[0;32m    340\u001b[0m     \u001b[38;5;28mself\u001b[39m\u001b[38;5;241m.\u001b[39mx_loc \u001b[38;5;241m=\u001b[39m \u001b[38;5;28mself\u001b[39m\u001b[38;5;241m.\u001b[39mmotor_X\u001b[38;5;241m.\u001b[39mget_position() \u001b[38;5;241m-\u001b[39m \u001b[38;5;28mself\u001b[39m\u001b[38;5;241m.\u001b[39mx_start\n\u001b[1;32m--> 341\u001b[0m     \u001b[38;5;28mself\u001b[39m\u001b[38;5;241m.\u001b[39my_loc \u001b[38;5;241m=\u001b[39m \u001b[38;5;28;43mself\u001b[39;49m\u001b[38;5;241;43m.\u001b[39;49m\u001b[43mmotor_Y\u001b[49m\u001b[38;5;241;43m.\u001b[39;49m\u001b[43mget_position\u001b[49m\u001b[43m(\u001b[49m\u001b[43m)\u001b[49m \u001b[38;5;241m-\u001b[39m \u001b[38;5;28mself\u001b[39m\u001b[38;5;241m.\u001b[39my_start\n\u001b[0;32m    342\u001b[0m     \u001b[38;5;28;01mreturn\u001b[39;00m \u001b[38;5;28mself\u001b[39m\u001b[38;5;241m.\u001b[39mx_loc, \u001b[38;5;28mself\u001b[39m\u001b[38;5;241m.\u001b[39my_loc\n",
      "File \u001b[1;32m~\\anaconda3\\envs\\python_3.12.3\\Lib\\site-packages\\rpyc\\core\\netref.py:239\u001b[0m, in \u001b[0;36m_make_method.<locals>.__call__\u001b[1;34m(_self, *args, **kwargs)\u001b[0m\n\u001b[0;32m    237\u001b[0m \u001b[38;5;28;01mdef\u001b[39;00m \u001b[38;5;21m__call__\u001b[39m(_self, \u001b[38;5;241m*\u001b[39margs, \u001b[38;5;241m*\u001b[39m\u001b[38;5;241m*\u001b[39mkwargs):\n\u001b[0;32m    238\u001b[0m     kwargs \u001b[38;5;241m=\u001b[39m \u001b[38;5;28mtuple\u001b[39m(kwargs\u001b[38;5;241m.\u001b[39mitems())\n\u001b[1;32m--> 239\u001b[0m     \u001b[38;5;28;01mreturn\u001b[39;00m \u001b[43msyncreq\u001b[49m\u001b[43m(\u001b[49m\u001b[43m_self\u001b[49m\u001b[43m,\u001b[49m\u001b[43m \u001b[49m\u001b[43mconsts\u001b[49m\u001b[38;5;241;43m.\u001b[39;49m\u001b[43mHANDLE_CALL\u001b[49m\u001b[43m,\u001b[49m\u001b[43m \u001b[49m\u001b[43margs\u001b[49m\u001b[43m,\u001b[49m\u001b[43m \u001b[49m\u001b[43mkwargs\u001b[49m\u001b[43m)\u001b[49m\n",
      "File \u001b[1;32m~\\anaconda3\\envs\\python_3.12.3\\Lib\\site-packages\\rpyc\\core\\netref.py:63\u001b[0m, in \u001b[0;36msyncreq\u001b[1;34m(proxy, handler, *args)\u001b[0m\n\u001b[0;32m     51\u001b[0m \u001b[38;5;250m\u001b[39m\u001b[38;5;124;03m\"\"\"Performs a synchronous request on the given proxy object.\u001b[39;00m\n\u001b[0;32m     52\u001b[0m \u001b[38;5;124;03mNot intended to be invoked directly.\u001b[39;00m\n\u001b[0;32m     53\u001b[0m \n\u001b[1;32m   (...)\u001b[0m\n\u001b[0;32m     60\u001b[0m \u001b[38;5;124;03m:returns: the result of the operation\u001b[39;00m\n\u001b[0;32m     61\u001b[0m \u001b[38;5;124;03m\"\"\"\u001b[39;00m\n\u001b[0;32m     62\u001b[0m conn \u001b[38;5;241m=\u001b[39m \u001b[38;5;28mobject\u001b[39m\u001b[38;5;241m.\u001b[39m\u001b[38;5;21m__getattribute__\u001b[39m(proxy, \u001b[38;5;124m\"\u001b[39m\u001b[38;5;124m____conn__\u001b[39m\u001b[38;5;124m\"\u001b[39m)\n\u001b[1;32m---> 63\u001b[0m \u001b[38;5;28;01mreturn\u001b[39;00m \u001b[43mconn\u001b[49m\u001b[38;5;241;43m.\u001b[39;49m\u001b[43msync_request\u001b[49m\u001b[43m(\u001b[49m\u001b[43mhandler\u001b[49m\u001b[43m,\u001b[49m\u001b[43m \u001b[49m\u001b[43mproxy\u001b[49m\u001b[43m,\u001b[49m\u001b[43m \u001b[49m\u001b[38;5;241;43m*\u001b[39;49m\u001b[43margs\u001b[49m\u001b[43m)\u001b[49m\n",
      "File \u001b[1;32m~\\anaconda3\\envs\\python_3.12.3\\Lib\\site-packages\\rpyc\\core\\protocol.py:744\u001b[0m, in \u001b[0;36mConnection.sync_request\u001b[1;34m(self, handler, *args)\u001b[0m\n\u001b[0;32m    741\u001b[0m _async_res \u001b[38;5;241m=\u001b[39m \u001b[38;5;28mself\u001b[39m\u001b[38;5;241m.\u001b[39masync_request(handler, \u001b[38;5;241m*\u001b[39margs, timeout\u001b[38;5;241m=\u001b[39mtimeout)\n\u001b[0;32m    742\u001b[0m \u001b[38;5;66;03m# _async_res is an instance of AsyncResult, the value property invokes Connection.serve via AsyncResult.wait\u001b[39;00m\n\u001b[0;32m    743\u001b[0m \u001b[38;5;66;03m# So, the _recvlock can be acquired multiple times by the owning thread and warrants the use of RLock\u001b[39;00m\n\u001b[1;32m--> 744\u001b[0m \u001b[38;5;28;01mreturn\u001b[39;00m \u001b[43m_async_res\u001b[49m\u001b[38;5;241;43m.\u001b[39;49m\u001b[43mvalue\u001b[49m\n",
      "File \u001b[1;32m~\\anaconda3\\envs\\python_3.12.3\\Lib\\site-packages\\rpyc\\core\\async_.py:109\u001b[0m, in \u001b[0;36mAsyncResult.value\u001b[1;34m(self)\u001b[0m\n\u001b[0;32m    101\u001b[0m \u001b[38;5;129m@property\u001b[39m\n\u001b[0;32m    102\u001b[0m \u001b[38;5;28;01mdef\u001b[39;00m \u001b[38;5;21mvalue\u001b[39m(\u001b[38;5;28mself\u001b[39m):\n\u001b[0;32m    103\u001b[0m \u001b[38;5;250m    \u001b[39m\u001b[38;5;124;03m\"\"\"Returns the result of the operation. If the result has not yet\u001b[39;00m\n\u001b[0;32m    104\u001b[0m \u001b[38;5;124;03m    arrived, accessing this property will wait for it. If the result does\u001b[39;00m\n\u001b[0;32m    105\u001b[0m \u001b[38;5;124;03m    not arrive before the expiry time elapses, :class:`AsyncResultTimeout`\u001b[39;00m\n\u001b[0;32m    106\u001b[0m \u001b[38;5;124;03m    is raised. If the returned result is an exception, it will be raised\u001b[39;00m\n\u001b[0;32m    107\u001b[0m \u001b[38;5;124;03m    here. Otherwise, the result is returned directly.\u001b[39;00m\n\u001b[0;32m    108\u001b[0m \u001b[38;5;124;03m    \"\"\"\u001b[39;00m\n\u001b[1;32m--> 109\u001b[0m     \u001b[38;5;28;43mself\u001b[39;49m\u001b[38;5;241;43m.\u001b[39;49m\u001b[43mwait\u001b[49m\u001b[43m(\u001b[49m\u001b[43m)\u001b[49m\n\u001b[0;32m    110\u001b[0m     \u001b[38;5;28;01mif\u001b[39;00m \u001b[38;5;28mself\u001b[39m\u001b[38;5;241m.\u001b[39m_is_exc:\n\u001b[0;32m    111\u001b[0m         \u001b[38;5;28;01mraise\u001b[39;00m \u001b[38;5;28mself\u001b[39m\u001b[38;5;241m.\u001b[39m_obj\n",
      "File \u001b[1;32m~\\anaconda3\\envs\\python_3.12.3\\Lib\\site-packages\\rpyc\\core\\async_.py:55\u001b[0m, in \u001b[0;36mAsyncResult.wait\u001b[1;34m(self)\u001b[0m\n\u001b[0;32m     53\u001b[0m \u001b[38;5;66;03m# Check if we timed out before result was ready\u001b[39;00m\n\u001b[0;32m     54\u001b[0m \u001b[38;5;28;01mif\u001b[39;00m \u001b[38;5;129;01mnot\u001b[39;00m \u001b[38;5;28mself\u001b[39m\u001b[38;5;241m.\u001b[39m_is_ready:\n\u001b[1;32m---> 55\u001b[0m     \u001b[38;5;28;01mraise\u001b[39;00m AsyncResultTimeout(\u001b[38;5;124m\"\u001b[39m\u001b[38;5;124mresult expired\u001b[39m\u001b[38;5;124m\"\u001b[39m)\n",
      "\u001b[1;31mTimeoutError\u001b[0m: result expired"
     ]
    },
    {
     "name": "stderr",
     "output_type": "stream",
     "text": [
      "Socket exception: An existing connection was forcibly closed by the remote host (10054)\n",
      "Socket exception: An existing connection was forcibly closed by the remote host (10054)\n"
     ]
    }
   ],
   "source": [
    "#Test positioning in specified row\n",
    "pH_device.to_zpos(\"full_up\")\n",
    "stage.home()\n",
    "#stage.move_to_cell(0,0)\n",
    "for j in range (4):\n",
    "    for i in range(6):\n",
    "        stage.move_to_cell(j,i)\n",
    "        print(\"j,i =\",j,\",\",i)\n",
    "        pH_device.to_zpos(\"full_down\")\n",
    "        #time.sleep(2)\n",
    "        pH_device.to_zpos(\"full_up\")\n",
    "        #time.sleep(2)"
   ]
  },
  {
   "cell_type": "code",
   "execution_count": null,
   "id": "ab28697b",
   "metadata": {},
   "outputs": [],
   "source": [
    "stage.move_to_cell(3, 0)\n",
    "pH_device.to_zpos(\"full_down\")\n",
    "pH_device.to_zpos(\"full_up\")"
   ]
  },
  {
   "cell_type": "code",
   "execution_count": 14,
   "id": "2b972586",
   "metadata": {},
   "outputs": [],
   "source": [
    "depo_device.move_to_cell(0,0)\n",
    "depo_device.to_zpos(\"full_down\")\n",
    "depo_device.to_zpos(\"full_up\")"
   ]
  },
  {
   "cell_type": "code",
   "execution_count": 15,
   "id": "97b2c1d8",
   "metadata": {},
   "outputs": [],
   "source": [
    "stage.move_to_loc(\"clean\")\n",
    "depo_device.to_zpos(\"full_down\")\n",
    "depo_device.to_zpos(\"full_up\")\n",
    "#pH_device.to_zpos(\"full_down\")\n",
    "#pH_device.to_zpos(\"full_up\")"
   ]
  },
  {
   "cell_type": "markdown",
   "id": "1495dad2",
   "metadata": {},
   "source": [
    "## Test pH device"
   ]
  },
  {
   "cell_type": "code",
   "execution_count": null,
   "id": "5cd72797",
   "metadata": {},
   "outputs": [],
   "source": [
    "# this is the pH meter\n",
    "pH_device"
   ]
  },
  {
   "cell_type": "code",
   "execution_count": 126,
   "id": "4b6faba1-fc7f-4e66-82c3-5eda927e2630",
   "metadata": {},
   "outputs": [
    {
     "data": {
      "text/plain": [
       "(1272, -88)"
      ]
     },
     "execution_count": 126,
     "metadata": {},
     "output_type": "execute_result"
    }
   ],
   "source": [
    "pH_device.to_zpos(\"full_up\")\n",
    "stage.home()"
   ]
  },
  {
   "cell_type": "code",
   "execution_count": 127,
   "id": "34ce2fbe",
   "metadata": {},
   "outputs": [],
   "source": [
    "# the cleaning location can be used to wash off any acidic or basic solution from the probe prior to measurements\n",
    "# it is not necessary to use this in your code, but if you are getting incorrect pH values you may need to clean with DI\n",
    "pH_device.move_to_loc(\"clean\")\n",
    "pH_device.to_zpos(\"full_down\")\n",
    "pH_device.to_zpos(\"full_up\")\n",
    "pH_device.to_zpos(\"full_down\")\n",
    "pH_device.to_zpos(\"full_up\")\n",
    "pH_device.to_zpos(\"full_down\")\n",
    "pH_device.to_zpos(\"full_up\")"
   ]
  },
  {
   "cell_type": "code",
   "execution_count": 128,
   "id": "d2a5623b",
   "metadata": {},
   "outputs": [],
   "source": [
    "pH_device.move_to_cell(row=0, col=1)"
   ]
  },
  {
   "cell_type": "code",
   "execution_count": 133,
   "id": "246a7844",
   "metadata": {},
   "outputs": [],
   "source": [
    "# Check pH values\n",
    "pH_device.to_zpos(\"full_down\")"
   ]
  },
  {
   "cell_type": "code",
   "execution_count": 12,
   "id": "0e5e8741",
   "metadata": {},
   "outputs": [
    {
     "name": "stdout",
     "output_type": "stream",
     "text": [
      "pH is Measured as: 2.81\n",
      "6.868259999999992\n"
     ]
    },
    {
     "name": "stderr",
     "output_type": "stream",
     "text": [
      "Socket exception: An existing connection was forcibly closed by the remote host (10054)\n",
      "Socket exception: An existing connection was forcibly closed by the remote host (10054)\n",
      "Socket exception: An existing connection was forcibly closed by the remote host (10054)\n",
      "Socket exception: An existing connection was forcibly closed by the remote host (10054)\n"
     ]
    }
   ],
   "source": [
    "voltage = pH_device.pH_measure(40)\n",
    "pH = 16.746*voltage-40.188\n",
    "print(pH)"
   ]
  },
  {
   "cell_type": "code",
   "execution_count": 36,
   "id": "96034d70",
   "metadata": {},
   "outputs": [],
   "source": [
    "pH_device.to_zpos(\"full_up\")"
   ]
  },
  {
   "cell_type": "code",
   "execution_count": null,
   "id": "4fb38c54",
   "metadata": {},
   "outputs": [],
   "source": [
    "# Cleaning locations in wells\n",
    "pH_device.move_to_cell(row=0, col=0)\n",
    "pH_device.to_zpos(\"full_down\")\n",
    "pH_device.to_zpos(\"full_up\")"
   ]
  },
  {
   "cell_type": "code",
   "execution_count": null,
   "id": "ee1e07d8",
   "metadata": {
    "scrolled": true
   },
   "outputs": [],
   "source": [
    "# Repeated measurements of standard.\n",
    "# Clean first.\n",
    "row=3\n",
    "col=0\n",
    "for index in range(6):\n",
    "    pH_device.move_to_cell(row, col)\n",
    "    pHmeas = pH_device.pH_measure(20)\n",
    "    print(f\"row {row} col {col} pH {pHmeas}\")     "
   ]
  },
  {
   "cell_type": "code",
   "execution_count": null,
   "id": "79adaf93",
   "metadata": {},
   "outputs": [],
   "source": [
    "stage.home()"
   ]
  },
  {
   "cell_type": "code",
   "execution_count": null,
   "id": "48f20e9c-eda5-48be-9265-4a242a06672f",
   "metadata": {},
   "outputs": [],
   "source": []
  },
  {
   "cell_type": "code",
   "execution_count": 5,
   "id": "bf2c1f85-48a6-4d26-baff-2cfcca637d1c",
   "metadata": {},
   "outputs": [],
   "source": [
    "pH_device.to_zpos(\"full_up\")\n",
    "stage.home()\n",
    "pH_device.move_to_loc(\"blot\")\n",
    "pH_device.to_zpos(\"full_down\")\n",
    "time.sleep(1)\n",
    "pH_device.to_zpos(\"full_up\")"
   ]
  },
  {
   "cell_type": "code",
   "execution_count": 28,
   "id": "39253180-584f-46b6-be39-34081f6b35c3",
   "metadata": {},
   "outputs": [
    {
     "name": "stdout",
     "output_type": "stream",
     "text": [
      "slope: 16.74571324334186, intercept: -40.187887632251034\n"
     ]
    },
    {
     "data": {
      "text/plain": [
       "<function matplotlib.pyplot.show(close=None, block=None)>"
      ]
     },
     "execution_count": 28,
     "metadata": {},
     "output_type": "execute_result"
    },
    {
     "data": {
      "image/png": "[encoded data removed]",
      "text/plain": [
       "<Figure size 640x480 with 1 Axes>"
      ]
     },
     "metadata": {},
     "output_type": "display_data"
    }
   ],
   "source": [
    "#making the calibration of the pH sensor\n",
    "\n",
    "y = [4,4,4,7,7,7]\n",
    "x = [2.67,2.63,2.63,2.84,2.81,2.79]\n",
    "\n",
    "line = np.polyfit(x,y,1)\n",
    "print(f'slope: {line[0]}, intercept: {line[1]}')\n",
    "trend = np.poly1d(line)\n",
    "plt.plot(x,y, 'ro', x, trend(x), '-k')\n",
    "plt.show"
   ]
  },
  {
   "cell_type": "code",
   "execution_count": 16,
   "id": "a6f2f4ff-4f9d-44e0-b38b-f29bc08416b0",
   "metadata": {},
   "outputs": [
    {
     "name": "stdout",
     "output_type": "stream",
     "text": [
      "pH is Measured as: 2.39\n",
      "pH is Measured as: 2.48\n",
      "slope: 33.33333333333309, intercept: -75.66666666666606\n",
      "pH is Measured as: 2.41\n",
      "pH 4 = 4.666666666666686\n"
     ]
    },
    {
     "data": {
      "text/plain": [
       "<function matplotlib.pyplot.show(close=None, block=None)>"
      ]
     },
     "execution_count": 16,
     "metadata": {},
     "output_type": "execute_result"
    },
    {
     "data": {
      "image/png": "[encoded data removed]",
      "text/plain": [
       "<Figure size 640x480 with 1 Axes>"
      ]
     },
     "metadata": {},
     "output_type": "display_data"
    },
    {
     "name": "stderr",
     "output_type": "stream",
     "text": [
      "Socket exception: An existing connection was forcibly closed by the remote host (10054)\n",
      "Socket exception: An existing connection was forcibly closed by the remote host (10054)\n"
     ]
    }
   ],
   "source": [
    "#making the calibration of the pH sensor\n",
    "\n",
    "def clean():\n",
    "    pH_device.move_to_loc(\"clean\")\n",
    "    pH_device.to_zpos(\"full_down\")\n",
    "    pH_device.to_zpos(\"full_up\")\n",
    "    pH_device.to_zpos(\"full_down\")\n",
    "    pH_device.to_zpos(\"full_up\")\n",
    "\n",
    "def blot():\n",
    "    pH_device.move_to_loc(\"blot\")\n",
    "    pH_device.to_zpos(\"full_down\")\n",
    "    time.sleep(1)\n",
    "    pH_device.to_zpos(\"full_up\")\n",
    "    \n",
    "def measure(j,i):\n",
    "    pH_device.move_to_cell(row=j, col=i)\n",
    "    pH_device.to_zpos(\"full_down\")\n",
    "    k = pH_device.pH_measure(30)\n",
    "    pH_device.to_zpos(\"full_up\")\n",
    "    return k\n",
    "    #time.sleep(5)\n",
    "   \n",
    "stage.home()\n",
    "\n",
    "#CALIBRATION\n",
    "\n",
    "y = [7, 4, 7, 4, 7, 4]\n",
    "x = []\n",
    "\n",
    "for i in range(6):\n",
    "    clean()\n",
    "    blot()\n",
    "    if i % 2 == 0:\n",
    "        m7 = measure(2,0)\n",
    "        x.append(m7)\n",
    "    else:\n",
    "        m4 = measure(2,1)\n",
    "        x.append(m4)\n",
    "        \n",
    "#PLOTTING FIT\n",
    "\n",
    "line = np.polyfit(x,y,1)\n",
    "print(f'slope: {line[0]}, intercept: {line[1]}')\n",
    "trend = np.poly1d(line)\n",
    "plt.plot(x,y, 'ro', x, trend(x), '-k')\n",
    "plt.show\n",
    "#time.sleep(5)\n",
    "\n",
    "#TESTING\n",
    "\n",
    "m = []\n",
    "\n",
    "for i in range(2,5):\n",
    "    clean()\n",
    "    blot()\n",
    "    mx = measure(0,i)\n",
    "    m.append(mx)\n",
    "    \n",
    "print(f'pH [1/1]= {line[0]*m[0]+line[1]}')\n",
    "\n",
    "print(f'pH [3/1]= {line[0]*m[1]+line[1]}')\n",
    "\n",
    "print(f'pH [1/3]= {line[0]*m[2]+line[1]}')\n",
    "\n",
    "clean()\n",
    "blot()\n",
    "m4x = measure(2,1)\n",
    "\n",
    "print(f'pH 4= {line[0]*m4x+line[1]}')\n",
    "\n",
    "clean()\n",
    "blot()\n",
    "m7x = measure(2,0)\n",
    "\n",
    "print(f'pH 7= {line[0]*m7x+line[1]}')"
   ]
  },
  {
   "cell_type": "code",
   "execution_count": 14,
   "id": "4d51074c",
   "metadata": {},
   "outputs": [
    {
     "name": "stdout",
     "output_type": "stream",
     "text": [
      "Voltage is Measured as: 2.99\n",
      "Voltage is Measured as: 2.52\n",
      "Voltage is Measured as: 3.00\n",
      "Voltage is Measured as: 2.51\n",
      "Voltage is Measured as: 2.99\n",
      "Voltage is Measured as: 2.52\n",
      "slope: 6.291245050593923, intercept: -11.832380114386261\n",
      "Voltage is Measured as: 2.98\n",
      "pH = 6.91553013638363\n"
     ]
    },
    {
     "data": {
      "image/png": "[encoded data removed]",
      "text/plain": [
       "<Figure size 640x480 with 1 Axes>"
      ]
     },
     "metadata": {},
     "output_type": "display_data"
    }
   ],
   "source": [
    "#making the calibration of the pH sensor\n",
    "\n",
    "def clean():\n",
    "    pH_device.move_to_loc(\"clean\")\n",
    "    pH_device.to_zpos(\"full_down\")\n",
    "    pH_device.to_zpos(\"full_up\")\n",
    "    pH_device.to_zpos(\"full_down\")\n",
    "    pH_device.to_zpos(\"full_up\")\n",
    "\n",
    "def blot():\n",
    "    pH_device.move_to_loc(\"blot\")\n",
    "    pH_device.to_zpos(\"full_down\")\n",
    "    time.sleep(1)\n",
    "    pH_device.to_zpos(\"full_up\")\n",
    "    \n",
    "def measure(j,i):\n",
    "    pH_device.move_to_cell(row=j, col=i)\n",
    "    pH_device.to_zpos(\"full_down\")\n",
    "    k = pH_device.pH_measure(30)\n",
    "    pH_device.to_zpos(\"full_up\")\n",
    "    return k\n",
    "    #time.sleep(5)\n",
    "    \n",
    "stage.home()\n",
    "    \n",
    "#CALIBRATION\n",
    "\n",
    "y = [7, 4, 7, 4, 7, 4]\n",
    "x = []\n",
    "\n",
    "for i in range(6):\n",
    "    clean()\n",
    "    blot()\n",
    "    if i % 2 == 0:\n",
    "        m7 = measure(2,0)\n",
    "        x.append(m7)\n",
    "    else:\n",
    "        m4 = measure(2,1)\n",
    "        x.append(m4)\n",
    "        \n",
    "#PLOTTING FIT\n",
    "\n",
    "line = np.polyfit(x,y,1)\n",
    "print(f'slope: {line[0]}, intercept: {line[1]}')\n",
    "trend = np.poly1d(line)\n",
    "plt.plot(x,y, 'ro', x, trend(x), '-k')\n",
    "plt.show\n",
    "#time.sleep(5)\n",
    "\n",
    "clean()\n",
    "blot()\n",
    "mx = measure(1,2)\n",
    "\n",
    "print(f'pH = {line[0]*mx+line[1]}')"
   ]
  },
  {
   "cell_type": "code",
   "execution_count": 4,
   "id": "177bf335",
   "metadata": {},
   "outputs": [
    {
     "name": "stdout",
     "output_type": "stream",
     "text": [
      "Voltage is Measured as: 2.26\n",
      "Voltage is Measured as: 2.36\n",
      "slope: 29.999999999999847, intercept: -63.799999999999606\n",
      "Voltage is Measured as: 2.25\n",
      "pH = 3.7000000000000526\n"
     ]
    },
    {
     "data": {
      "image/png": "[encoded data removed]",
      "text/plain": [
       "<Figure size 640x480 with 1 Axes>"
      ]
     },
     "metadata": {},
     "output_type": "display_data"
    }
   ],
   "source": [
    "#making the calibration of the pH sensor\n",
    "\n",
    "m4 = pH_device.pH_measure(30)\n",
    "\n",
    "time.sleep(5)\n",
    "\n",
    "m7 = pH_device.pH_measure(30)\n",
    "\n",
    "y = [4,7]\n",
    "x = [m4,m7]\n",
    "\n",
    "line = np.polyfit(x,y,1)\n",
    "print(f'slope: {line[0]}, intercept: {line[1]}')\n",
    "trend = np.poly1d(line)\n",
    "plt.plot(x,y, 'ro', x, trend(x), '-k')\n",
    "plt.show\n",
    "time.sleep(5)\n",
    "\n",
    "m4_2 = pH_device.pH_measure(30)\n",
    "\n",
    "print(f'pH = {line[0]*m4_2+line[1]}')"
   ]
  },
  {
   "cell_type": "code",
   "execution_count": 5,
   "id": "33377e95",
   "metadata": {},
   "outputs": [
    {
     "name": "stdout",
     "output_type": "stream",
     "text": [
      "pH is Measured as: 2.43\n",
      "voltage:  2.43\n"
     ]
    }
   ],
   "source": [
    "voltage = pH_device.pH_measure(30)\n",
    "print('voltage: ', voltage)"
   ]
  },
  {
   "cell_type": "markdown",
   "id": "61981977",
   "metadata": {},
   "source": [
    "## Test depo_device (syringe) functionality"
   ]
  },
  {
   "cell_type": "code",
   "execution_count": null,
   "id": "4cd707bc",
   "metadata": {},
   "outputs": [],
   "source": [
    "# this is the syringe\n",
    "depo_device"
   ]
  },
  {
   "cell_type": "code",
   "execution_count": 14,
   "id": "0eb240c9",
   "metadata": {},
   "outputs": [
    {
     "data": {
      "text/plain": [
       "(333, 5309)"
      ]
     },
     "execution_count": 14,
     "metadata": {},
     "output_type": "execute_result"
    }
   ],
   "source": [
    "stage.home()"
   ]
  },
  {
   "cell_type": "code",
   "execution_count": 32,
   "id": "9f0d2e56",
   "metadata": {},
   "outputs": [],
   "source": [
    "depo_device.move_to_cell(0,0)\n",
    "depo_device.to_zpos(\"full_down\")\n",
    "#depo_device.to_zpos(\"full_up\")"
   ]
  },
  {
   "cell_type": "code",
   "execution_count": 33,
   "id": "424c7837",
   "metadata": {},
   "outputs": [],
   "source": [
    "#depo_device.move_to_cell(0,0)\n",
    "#depo_device.to_zpos(\"full_down\")\n",
    "depo_device.to_zpos(\"full_up\")"
   ]
  },
  {
   "cell_type": "code",
   "execution_count": 11,
   "id": "c90d840e",
   "metadata": {},
   "outputs": [
    {
     "ename": "TimeoutError",
     "evalue": "result expired",
     "output_type": "error",
     "traceback": [
      "\u001b[1;31m---------------------------------------------------------------------------\u001b[0m",
      "\u001b[1;31mTimeoutError\u001b[0m                              Traceback (most recent call last)",
      "Cell \u001b[1;32mIn[11], line 5\u001b[0m\n\u001b[0;32m      1\u001b[0m \u001b[38;5;66;03m#depo_device.move_to_cell(0,0)\u001b[39;00m\n\u001b[0;32m      2\u001b[0m \u001b[38;5;66;03m#depo_device.to_zpos(\"full_down\")\u001b[39;00m\n\u001b[0;32m      3\u001b[0m \u001b[38;5;66;03m#depo_device.to_zpos(\"full_up\")\u001b[39;00m\n\u001b[0;32m      4\u001b[0m \u001b[38;5;28;01mfor\u001b[39;00m i \u001b[38;5;129;01min\u001b[39;00m \u001b[38;5;28mrange\u001b[39m(\u001b[38;5;241m2\u001b[39m):\n\u001b[1;32m----> 5\u001b[0m     depo_device\u001b[38;5;241m.\u001b[39mmove_to_cell(\u001b[38;5;241m0\u001b[39m,i)\n\u001b[0;32m      6\u001b[0m     depo_device\u001b[38;5;241m.\u001b[39mto_zpos(\u001b[38;5;124m\"\u001b[39m\u001b[38;5;124mfull_down\u001b[39m\u001b[38;5;124m\"\u001b[39m)\n\u001b[0;32m      7\u001b[0m     depo_device\u001b[38;5;241m.\u001b[39mto_zpos(\u001b[38;5;124m\"\u001b[39m\u001b[38;5;124mfull_up\u001b[39m\u001b[38;5;124m\"\u001b[39m)\n",
      "File \u001b[1;32m~\\OneDrive\\Desktop\\legolas\\Legolas_textCellLoc-main\\core.py:362\u001b[0m, in \u001b[0;36mDeviceOnStage.move_to_cell\u001b[1;34m(self, row, col)\u001b[0m\n\u001b[0;32m    361\u001b[0m \u001b[38;5;28;01mdef\u001b[39;00m \u001b[38;5;21mmove_to_cell\u001b[39m(\u001b[38;5;28mself\u001b[39m, row, col):\n\u001b[1;32m--> 362\u001b[0m     \u001b[38;5;28mself\u001b[39m\u001b[38;5;241m.\u001b[39mstage\u001b[38;5;241m.\u001b[39mmove_to_cell(row, col, \u001b[38;5;28mself\u001b[39m\u001b[38;5;241m.\u001b[39mx_offset, \u001b[38;5;28mself\u001b[39m\u001b[38;5;241m.\u001b[39my_offset)\n",
      "File \u001b[1;32m~\\OneDrive\\Desktop\\legolas\\Legolas_textCellLoc-main\\core.py:328\u001b[0m, in \u001b[0;36mStage.move_to_cell\u001b[1;34m(self, row, col, device_x_offset, device_y_offset)\u001b[0m\n\u001b[0;32m    326\u001b[0m \u001b[38;5;28;01mdef\u001b[39;00m \u001b[38;5;21mmove_to_cell\u001b[39m(\u001b[38;5;28mself\u001b[39m, row, col, device_x_offset\u001b[38;5;241m=\u001b[39m\u001b[38;5;241m0\u001b[39m, device_y_offset\u001b[38;5;241m=\u001b[39m\u001b[38;5;241m0\u001b[39m):\n\u001b[0;32m    327\u001b[0m     positionX, positionY \u001b[38;5;241m=\u001b[39m \u001b[38;5;28mself\u001b[39m\u001b[38;5;241m.\u001b[39mcell_loc_map[row, col]\n\u001b[1;32m--> 328\u001b[0m     \u001b[38;5;28mself\u001b[39m\u001b[38;5;241m.\u001b[39mmove_to_deg(positionX, positionY, device_x_offset, device_y_offset)\n",
      "File \u001b[1;32m~\\OneDrive\\Desktop\\legolas\\Legolas_textCellLoc-main\\core.py:322\u001b[0m, in \u001b[0;36mStage.move_to_deg\u001b[1;34m(self, x_degree, y_degree, device_x_offset, device_y_offset)\u001b[0m\n\u001b[0;32m    321\u001b[0m \u001b[38;5;28;01mdef\u001b[39;00m \u001b[38;5;21mmove_to_deg\u001b[39m(\u001b[38;5;28mself\u001b[39m, x_degree, y_degree, device_x_offset\u001b[38;5;241m=\u001b[39m\u001b[38;5;241m0\u001b[39m, device_y_offset\u001b[38;5;241m=\u001b[39m\u001b[38;5;241m0\u001b[39m):\n\u001b[1;32m--> 322\u001b[0m     originX_offset, originY_offset \u001b[38;5;241m=\u001b[39m \u001b[38;5;28mself\u001b[39m\u001b[38;5;241m.\u001b[39mget_XYloc()\n\u001b[0;32m    323\u001b[0m     \u001b[38;5;28mself\u001b[39m\u001b[38;5;241m.\u001b[39mmove_by_deg(x_degree \u001b[38;5;241m-\u001b[39m originX_offset , y_degree \u001b[38;5;241m-\u001b[39m originY_offset, device_x_offset, device_y_offset)\n",
      "File \u001b[1;32m~\\OneDrive\\Desktop\\legolas\\Legolas_textCellLoc-main\\core.py:340\u001b[0m, in \u001b[0;36mStage.get_XYloc\u001b[1;34m(self)\u001b[0m\n\u001b[0;32m    339\u001b[0m \u001b[38;5;28;01mdef\u001b[39;00m \u001b[38;5;21mget_XYloc\u001b[39m(\u001b[38;5;28mself\u001b[39m):\n\u001b[1;32m--> 340\u001b[0m     \u001b[38;5;28mself\u001b[39m\u001b[38;5;241m.\u001b[39mx_loc \u001b[38;5;241m=\u001b[39m \u001b[38;5;28mself\u001b[39m\u001b[38;5;241m.\u001b[39mmotor_X\u001b[38;5;241m.\u001b[39mget_position() \u001b[38;5;241m-\u001b[39m \u001b[38;5;28mself\u001b[39m\u001b[38;5;241m.\u001b[39mx_start\n\u001b[0;32m    341\u001b[0m     \u001b[38;5;28mself\u001b[39m\u001b[38;5;241m.\u001b[39my_loc \u001b[38;5;241m=\u001b[39m \u001b[38;5;28mself\u001b[39m\u001b[38;5;241m.\u001b[39mmotor_Y\u001b[38;5;241m.\u001b[39mget_position() \u001b[38;5;241m-\u001b[39m \u001b[38;5;28mself\u001b[39m\u001b[38;5;241m.\u001b[39my_start\n\u001b[0;32m    342\u001b[0m     \u001b[38;5;28;01mreturn\u001b[39;00m \u001b[38;5;28mself\u001b[39m\u001b[38;5;241m.\u001b[39mx_loc, \u001b[38;5;28mself\u001b[39m\u001b[38;5;241m.\u001b[39my_loc\n",
      "File \u001b[1;32m~\\anaconda3\\envs\\Legolas_2024\\Lib\\site-packages\\rpyc\\core\\netref.py:239\u001b[0m, in \u001b[0;36m_make_method.<locals>.__call__\u001b[1;34m(_self, *args, **kwargs)\u001b[0m\n\u001b[0;32m    237\u001b[0m \u001b[38;5;28;01mdef\u001b[39;00m \u001b[38;5;21m__call__\u001b[39m(_self, \u001b[38;5;241m*\u001b[39margs, \u001b[38;5;241m*\u001b[39m\u001b[38;5;241m*\u001b[39mkwargs):\n\u001b[0;32m    238\u001b[0m     kwargs \u001b[38;5;241m=\u001b[39m \u001b[38;5;28mtuple\u001b[39m(kwargs\u001b[38;5;241m.\u001b[39mitems())\n\u001b[1;32m--> 239\u001b[0m     \u001b[38;5;28;01mreturn\u001b[39;00m syncreq(_self, consts\u001b[38;5;241m.\u001b[39mHANDLE_CALL, args, kwargs)\n",
      "File \u001b[1;32m~\\anaconda3\\envs\\Legolas_2024\\Lib\\site-packages\\rpyc\\core\\netref.py:63\u001b[0m, in \u001b[0;36msyncreq\u001b[1;34m(proxy, handler, *args)\u001b[0m\n\u001b[0;32m     51\u001b[0m \u001b[38;5;250m\u001b[39m\u001b[38;5;124;03m\"\"\"Performs a synchronous request on the given proxy object.\u001b[39;00m\n\u001b[0;32m     52\u001b[0m \u001b[38;5;124;03mNot intended to be invoked directly.\u001b[39;00m\n\u001b[0;32m     53\u001b[0m \n\u001b[1;32m   (...)\u001b[0m\n\u001b[0;32m     60\u001b[0m \u001b[38;5;124;03m:returns: the result of the operation\u001b[39;00m\n\u001b[0;32m     61\u001b[0m \u001b[38;5;124;03m\"\"\"\u001b[39;00m\n\u001b[0;32m     62\u001b[0m conn \u001b[38;5;241m=\u001b[39m \u001b[38;5;28mobject\u001b[39m\u001b[38;5;241m.\u001b[39m\u001b[38;5;21m__getattribute__\u001b[39m(proxy, \u001b[38;5;124m\"\u001b[39m\u001b[38;5;124m____conn__\u001b[39m\u001b[38;5;124m\"\u001b[39m)\n\u001b[1;32m---> 63\u001b[0m \u001b[38;5;28;01mreturn\u001b[39;00m conn\u001b[38;5;241m.\u001b[39msync_request(handler, proxy, \u001b[38;5;241m*\u001b[39margs)\n",
      "File \u001b[1;32m~\\anaconda3\\envs\\Legolas_2024\\Lib\\site-packages\\rpyc\\core\\protocol.py:744\u001b[0m, in \u001b[0;36mConnection.sync_request\u001b[1;34m(self, handler, *args)\u001b[0m\n\u001b[0;32m    741\u001b[0m _async_res \u001b[38;5;241m=\u001b[39m \u001b[38;5;28mself\u001b[39m\u001b[38;5;241m.\u001b[39masync_request(handler, \u001b[38;5;241m*\u001b[39margs, timeout\u001b[38;5;241m=\u001b[39mtimeout)\n\u001b[0;32m    742\u001b[0m \u001b[38;5;66;03m# _async_res is an instance of AsyncResult, the value property invokes Connection.serve via AsyncResult.wait\u001b[39;00m\n\u001b[0;32m    743\u001b[0m \u001b[38;5;66;03m# So, the _recvlock can be acquired multiple times by the owning thread and warrants the use of RLock\u001b[39;00m\n\u001b[1;32m--> 744\u001b[0m \u001b[38;5;28;01mreturn\u001b[39;00m _async_res\u001b[38;5;241m.\u001b[39mvalue\n",
      "File \u001b[1;32m~\\anaconda3\\envs\\Legolas_2024\\Lib\\site-packages\\rpyc\\core\\async_.py:109\u001b[0m, in \u001b[0;36mAsyncResult.value\u001b[1;34m(self)\u001b[0m\n\u001b[0;32m    101\u001b[0m \u001b[38;5;129m@property\u001b[39m\n\u001b[0;32m    102\u001b[0m \u001b[38;5;28;01mdef\u001b[39;00m \u001b[38;5;21mvalue\u001b[39m(\u001b[38;5;28mself\u001b[39m):\n\u001b[0;32m    103\u001b[0m \u001b[38;5;250m    \u001b[39m\u001b[38;5;124;03m\"\"\"Returns the result of the operation. If the result has not yet\u001b[39;00m\n\u001b[0;32m    104\u001b[0m \u001b[38;5;124;03m    arrived, accessing this property will wait for it. If the result does\u001b[39;00m\n\u001b[0;32m    105\u001b[0m \u001b[38;5;124;03m    not arrive before the expiry time elapses, :class:`AsyncResultTimeout`\u001b[39;00m\n\u001b[0;32m    106\u001b[0m \u001b[38;5;124;03m    is raised. If the returned result is an exception, it will be raised\u001b[39;00m\n\u001b[0;32m    107\u001b[0m \u001b[38;5;124;03m    here. Otherwise, the result is returned directly.\u001b[39;00m\n\u001b[0;32m    108\u001b[0m \u001b[38;5;124;03m    \"\"\"\u001b[39;00m\n\u001b[1;32m--> 109\u001b[0m     \u001b[38;5;28mself\u001b[39m\u001b[38;5;241m.\u001b[39mwait()\n\u001b[0;32m    110\u001b[0m     \u001b[38;5;28;01mif\u001b[39;00m \u001b[38;5;28mself\u001b[39m\u001b[38;5;241m.\u001b[39m_is_exc:\n\u001b[0;32m    111\u001b[0m         \u001b[38;5;28;01mraise\u001b[39;00m \u001b[38;5;28mself\u001b[39m\u001b[38;5;241m.\u001b[39m_obj\n",
      "File \u001b[1;32m~\\anaconda3\\envs\\Legolas_2024\\Lib\\site-packages\\rpyc\\core\\async_.py:55\u001b[0m, in \u001b[0;36mAsyncResult.wait\u001b[1;34m(self)\u001b[0m\n\u001b[0;32m     53\u001b[0m \u001b[38;5;66;03m# Check if we timed out before result was ready\u001b[39;00m\n\u001b[0;32m     54\u001b[0m \u001b[38;5;28;01mif\u001b[39;00m \u001b[38;5;129;01mnot\u001b[39;00m \u001b[38;5;28mself\u001b[39m\u001b[38;5;241m.\u001b[39m_is_ready:\n\u001b[1;32m---> 55\u001b[0m     \u001b[38;5;28;01mraise\u001b[39;00m AsyncResultTimeout(\u001b[38;5;124m\"\u001b[39m\u001b[38;5;124mresult expired\u001b[39m\u001b[38;5;124m\"\u001b[39m)\n",
      "\u001b[1;31mTimeoutError\u001b[0m: result expired"
     ]
    },
    {
     "name": "stderr",
     "output_type": "stream",
     "text": [
      "Socket exception: An existing connection was forcibly closed by the remote host (10054)\n",
      "Socket exception: An existing connection was forcibly closed by the remote host (10054)\n",
      "Socket exception: An existing connection was forcibly closed by the remote host (10054)\n",
      "Socket exception: An existing connection was forcibly closed by the remote host (10054)\n"
     ]
    }
   ],
   "source": [
    "#depo_device.move_to_cell(0,0)\n",
    "#depo_device.to_zpos(\"full_down\")\n",
    "#depo_device.to_zpos(\"full_up\")\n",
    "for i in range(2):\n",
    "    depo_device.move_to_cell(0,i)\n",
    "    depo_device.to_zpos(\"full_down\")\n",
    "    depo_device.to_zpos(\"full_up\")"
   ]
  },
  {
   "cell_type": "code",
   "execution_count": 10,
   "id": "2533cf97",
   "metadata": {},
   "outputs": [
    {
     "ename": "TimeoutError",
     "evalue": "result expired",
     "output_type": "error",
     "traceback": [
      "\u001b[1;31m---------------------------------------------------------------------------\u001b[0m",
      "\u001b[1;31mTimeoutError\u001b[0m                              Traceback (most recent call last)",
      "Cell \u001b[1;32mIn[10], line 2\u001b[0m\n\u001b[0;32m      1\u001b[0m \u001b[38;5;66;03m# go to acid (or base or clean) well and test range of motion\u001b[39;00m\n\u001b[1;32m----> 2\u001b[0m depo_device\u001b[38;5;241m.\u001b[39mmove_to_loc(\u001b[38;5;124m\"\u001b[39m\u001b[38;5;124mclean\u001b[39m\u001b[38;5;124m\"\u001b[39m)\n\u001b[0;32m      3\u001b[0m depo_device\u001b[38;5;241m.\u001b[39mto_zpos(\u001b[38;5;124m\"\u001b[39m\u001b[38;5;124mfull_down\u001b[39m\u001b[38;5;124m\"\u001b[39m)\n\u001b[0;32m      4\u001b[0m depo_device\u001b[38;5;241m.\u001b[39mto_zpos(\u001b[38;5;124m\"\u001b[39m\u001b[38;5;124mfull_up\u001b[39m\u001b[38;5;124m\"\u001b[39m)\n",
      "File \u001b[1;32m~\\OneDrive - Loyola University Maryland\\Documents\\Legolas\\core.py:365\u001b[0m, in \u001b[0;36mDeviceOnStage.move_to_loc\u001b[1;34m(self, location)\u001b[0m\n\u001b[0;32m    364\u001b[0m \u001b[38;5;28;01mdef\u001b[39;00m \u001b[38;5;21mmove_to_loc\u001b[39m(\u001b[38;5;28mself\u001b[39m, location):\n\u001b[1;32m--> 365\u001b[0m     \u001b[38;5;28mself\u001b[39m\u001b[38;5;241m.\u001b[39mstage\u001b[38;5;241m.\u001b[39mmove_to_loc(location, \u001b[38;5;28mself\u001b[39m\u001b[38;5;241m.\u001b[39mx_offset, \u001b[38;5;28mself\u001b[39m\u001b[38;5;241m.\u001b[39my_offset)\n",
      "File \u001b[1;32m~\\OneDrive - Loyola University Maryland\\Documents\\Legolas\\core.py:336\u001b[0m, in \u001b[0;36mStage.move_to_loc\u001b[1;34m(self, location, device_x_offset, device_y_offset)\u001b[0m\n\u001b[0;32m    334\u001b[0m \u001b[38;5;28;01melse\u001b[39;00m:\n\u001b[0;32m    335\u001b[0m     positionX, positionY \u001b[38;5;241m=\u001b[39m \u001b[38;5;28mself\u001b[39m\u001b[38;5;241m.\u001b[39maux_loc_map(location)\n\u001b[1;32m--> 336\u001b[0m \u001b[38;5;28mself\u001b[39m\u001b[38;5;241m.\u001b[39mmove_to_deg(positionX, positionY, device_x_offset, device_y_offset)\n",
      "File \u001b[1;32m~\\OneDrive - Loyola University Maryland\\Documents\\Legolas\\core.py:322\u001b[0m, in \u001b[0;36mStage.move_to_deg\u001b[1;34m(self, x_degree, y_degree, device_x_offset, device_y_offset)\u001b[0m\n\u001b[0;32m    321\u001b[0m \u001b[38;5;28;01mdef\u001b[39;00m \u001b[38;5;21mmove_to_deg\u001b[39m(\u001b[38;5;28mself\u001b[39m, x_degree, y_degree, device_x_offset\u001b[38;5;241m=\u001b[39m\u001b[38;5;241m0\u001b[39m, device_y_offset\u001b[38;5;241m=\u001b[39m\u001b[38;5;241m0\u001b[39m):\n\u001b[1;32m--> 322\u001b[0m     originX_offset, originY_offset \u001b[38;5;241m=\u001b[39m \u001b[38;5;28mself\u001b[39m\u001b[38;5;241m.\u001b[39mget_XYloc()\n\u001b[0;32m    323\u001b[0m     \u001b[38;5;28mself\u001b[39m\u001b[38;5;241m.\u001b[39mmove_by_deg(x_degree \u001b[38;5;241m-\u001b[39m originX_offset , y_degree \u001b[38;5;241m-\u001b[39m originY_offset, device_x_offset, device_y_offset)\n",
      "File \u001b[1;32m~\\OneDrive - Loyola University Maryland\\Documents\\Legolas\\core.py:340\u001b[0m, in \u001b[0;36mStage.get_XYloc\u001b[1;34m(self)\u001b[0m\n\u001b[0;32m    339\u001b[0m \u001b[38;5;28;01mdef\u001b[39;00m \u001b[38;5;21mget_XYloc\u001b[39m(\u001b[38;5;28mself\u001b[39m):\n\u001b[1;32m--> 340\u001b[0m     \u001b[38;5;28mself\u001b[39m\u001b[38;5;241m.\u001b[39mx_loc \u001b[38;5;241m=\u001b[39m \u001b[38;5;28mself\u001b[39m\u001b[38;5;241m.\u001b[39mmotor_X\u001b[38;5;241m.\u001b[39mget_position() \u001b[38;5;241m-\u001b[39m \u001b[38;5;28mself\u001b[39m\u001b[38;5;241m.\u001b[39mx_start\n\u001b[0;32m    341\u001b[0m     \u001b[38;5;28mself\u001b[39m\u001b[38;5;241m.\u001b[39my_loc \u001b[38;5;241m=\u001b[39m \u001b[38;5;28mself\u001b[39m\u001b[38;5;241m.\u001b[39mmotor_Y\u001b[38;5;241m.\u001b[39mget_position() \u001b[38;5;241m-\u001b[39m \u001b[38;5;28mself\u001b[39m\u001b[38;5;241m.\u001b[39my_start\n\u001b[0;32m    342\u001b[0m     \u001b[38;5;28;01mreturn\u001b[39;00m \u001b[38;5;28mself\u001b[39m\u001b[38;5;241m.\u001b[39mx_loc, \u001b[38;5;28mself\u001b[39m\u001b[38;5;241m.\u001b[39my_loc\n",
      "File \u001b[1;32m~\\AppData\\Local\\anaconda3\\Lib\\site-packages\\rpyc\\core\\netref.py:239\u001b[0m, in \u001b[0;36m_make_method.<locals>.__call__\u001b[1;34m(_self, *args, **kwargs)\u001b[0m\n\u001b[0;32m    237\u001b[0m \u001b[38;5;28;01mdef\u001b[39;00m \u001b[38;5;21m__call__\u001b[39m(_self, \u001b[38;5;241m*\u001b[39margs, \u001b[38;5;241m*\u001b[39m\u001b[38;5;241m*\u001b[39mkwargs):\n\u001b[0;32m    238\u001b[0m     kwargs \u001b[38;5;241m=\u001b[39m \u001b[38;5;28mtuple\u001b[39m(kwargs\u001b[38;5;241m.\u001b[39mitems())\n\u001b[1;32m--> 239\u001b[0m     \u001b[38;5;28;01mreturn\u001b[39;00m syncreq(_self, consts\u001b[38;5;241m.\u001b[39mHANDLE_CALL, args, kwargs)\n",
      "File \u001b[1;32m~\\AppData\\Local\\anaconda3\\Lib\\site-packages\\rpyc\\core\\netref.py:63\u001b[0m, in \u001b[0;36msyncreq\u001b[1;34m(proxy, handler, *args)\u001b[0m\n\u001b[0;32m     51\u001b[0m \u001b[38;5;250m\u001b[39m\u001b[38;5;124;03m\"\"\"Performs a synchronous request on the given proxy object.\u001b[39;00m\n\u001b[0;32m     52\u001b[0m \u001b[38;5;124;03mNot intended to be invoked directly.\u001b[39;00m\n\u001b[0;32m     53\u001b[0m \n\u001b[1;32m   (...)\u001b[0m\n\u001b[0;32m     60\u001b[0m \u001b[38;5;124;03m:returns: the result of the operation\u001b[39;00m\n\u001b[0;32m     61\u001b[0m \u001b[38;5;124;03m\"\"\"\u001b[39;00m\n\u001b[0;32m     62\u001b[0m conn \u001b[38;5;241m=\u001b[39m \u001b[38;5;28mobject\u001b[39m\u001b[38;5;241m.\u001b[39m\u001b[38;5;21m__getattribute__\u001b[39m(proxy, \u001b[38;5;124m\"\u001b[39m\u001b[38;5;124m____conn__\u001b[39m\u001b[38;5;124m\"\u001b[39m)\n\u001b[1;32m---> 63\u001b[0m \u001b[38;5;28;01mreturn\u001b[39;00m conn\u001b[38;5;241m.\u001b[39msync_request(handler, proxy, \u001b[38;5;241m*\u001b[39margs)\n",
      "File \u001b[1;32m~\\AppData\\Local\\anaconda3\\Lib\\site-packages\\rpyc\\core\\protocol.py:744\u001b[0m, in \u001b[0;36mConnection.sync_request\u001b[1;34m(self, handler, *args)\u001b[0m\n\u001b[0;32m    741\u001b[0m _async_res \u001b[38;5;241m=\u001b[39m \u001b[38;5;28mself\u001b[39m\u001b[38;5;241m.\u001b[39masync_request(handler, \u001b[38;5;241m*\u001b[39margs, timeout\u001b[38;5;241m=\u001b[39mtimeout)\n\u001b[0;32m    742\u001b[0m \u001b[38;5;66;03m# _async_res is an instance of AsyncResult, the value property invokes Connection.serve via AsyncResult.wait\u001b[39;00m\n\u001b[0;32m    743\u001b[0m \u001b[38;5;66;03m# So, the _recvlock can be acquired multiple times by the owning thread and warrants the use of RLock\u001b[39;00m\n\u001b[1;32m--> 744\u001b[0m \u001b[38;5;28;01mreturn\u001b[39;00m _async_res\u001b[38;5;241m.\u001b[39mvalue\n",
      "File \u001b[1;32m~\\AppData\\Local\\anaconda3\\Lib\\site-packages\\rpyc\\core\\async_.py:109\u001b[0m, in \u001b[0;36mAsyncResult.value\u001b[1;34m(self)\u001b[0m\n\u001b[0;32m    101\u001b[0m \u001b[38;5;129m@property\u001b[39m\n\u001b[0;32m    102\u001b[0m \u001b[38;5;28;01mdef\u001b[39;00m \u001b[38;5;21mvalue\u001b[39m(\u001b[38;5;28mself\u001b[39m):\n\u001b[0;32m    103\u001b[0m \u001b[38;5;250m    \u001b[39m\u001b[38;5;124;03m\"\"\"Returns the result of the operation. If the result has not yet\u001b[39;00m\n\u001b[0;32m    104\u001b[0m \u001b[38;5;124;03m    arrived, accessing this property will wait for it. If the result does\u001b[39;00m\n\u001b[0;32m    105\u001b[0m \u001b[38;5;124;03m    not arrive before the expiry time elapses, :class:`AsyncResultTimeout`\u001b[39;00m\n\u001b[0;32m    106\u001b[0m \u001b[38;5;124;03m    is raised. If the returned result is an exception, it will be raised\u001b[39;00m\n\u001b[0;32m    107\u001b[0m \u001b[38;5;124;03m    here. Otherwise, the result is returned directly.\u001b[39;00m\n\u001b[0;32m    108\u001b[0m \u001b[38;5;124;03m    \"\"\"\u001b[39;00m\n\u001b[1;32m--> 109\u001b[0m     \u001b[38;5;28mself\u001b[39m\u001b[38;5;241m.\u001b[39mwait()\n\u001b[0;32m    110\u001b[0m     \u001b[38;5;28;01mif\u001b[39;00m \u001b[38;5;28mself\u001b[39m\u001b[38;5;241m.\u001b[39m_is_exc:\n\u001b[0;32m    111\u001b[0m         \u001b[38;5;28;01mraise\u001b[39;00m \u001b[38;5;28mself\u001b[39m\u001b[38;5;241m.\u001b[39m_obj\n",
      "File \u001b[1;32m~\\AppData\\Local\\anaconda3\\Lib\\site-packages\\rpyc\\core\\async_.py:55\u001b[0m, in \u001b[0;36mAsyncResult.wait\u001b[1;34m(self)\u001b[0m\n\u001b[0;32m     53\u001b[0m \u001b[38;5;66;03m# Check if we timed out before result was ready\u001b[39;00m\n\u001b[0;32m     54\u001b[0m \u001b[38;5;28;01mif\u001b[39;00m \u001b[38;5;129;01mnot\u001b[39;00m \u001b[38;5;28mself\u001b[39m\u001b[38;5;241m.\u001b[39m_is_ready:\n\u001b[1;32m---> 55\u001b[0m     \u001b[38;5;28;01mraise\u001b[39;00m AsyncResultTimeout(\u001b[38;5;124m\"\u001b[39m\u001b[38;5;124mresult expired\u001b[39m\u001b[38;5;124m\"\u001b[39m)\n",
      "\u001b[1;31mTimeoutError\u001b[0m: result expired"
     ]
    }
   ],
   "source": [
    "# go to acid (or base or clean) well and test range of motion\n",
    "depo_device.move_to_loc(\"clean\")\n",
    "depo_device.to_zpos(\"full_down\")\n",
    "depo_device.to_zpos(\"full_up\")"
   ]
  },
  {
   "cell_type": "code",
   "execution_count": null,
   "id": "ee9244f7",
   "metadata": {},
   "outputs": [],
   "source": [
    "# acquire 0.6 mL from the acid reservoir\n",
    "depo_device.acquire(0.3, location=\"acid\")"
   ]
  },
  {
   "cell_type": "code",
   "execution_count": null,
   "id": "f9ca64f1",
   "metadata": {
    "scrolled": true
   },
   "outputs": [],
   "source": [
    "# deposit the 0.6 mL into the 0,0 sample well\n",
    "# calib is lost at this step. Regain by going home first.\n",
    "stage.home()\n",
    "depo_device.deposition(0.6, row=0, col=4)"
   ]
  },
  {
   "cell_type": "markdown",
   "id": "c5e3ff76",
   "metadata": {},
   "source": [
    "## Example Loops\n",
    "\n",
    "Use these loops as a reference for ways to construct your autonomous experiments and the functions needed"
   ]
  },
  {
   "cell_type": "code",
   "execution_count": 50,
   "id": "ed234479-beab-4a65-b352-b60501726ea1",
   "metadata": {},
   "outputs": [
    {
     "data": {
      "text/plain": [
       "<core.DepositionDevice at 0x1433eb81e10>"
      ]
     },
     "execution_count": 50,
     "metadata": {},
     "output_type": "execute_result"
    }
   ],
   "source": [
    "stage.home() #GO HOME BEFORE EVERYTHING\n",
    "depo_device.acquire(0.6, location=\"acid\") #RUN ACQUIRE BEFORE DEPOSITION\n",
    "stage.home()\n",
    "depo_device.deposition(0.6, row=0, col=3)\n",
    "#depo_device.deposition(0.2, row=0, col=2)\n",
    "#depo_device.deposition(0.3, row=0, col=3)"
   ]
  },
  {
   "cell_type": "code",
   "execution_count": 54,
   "id": "3974a3aa",
   "metadata": {},
   "outputs": [
    {
     "data": {
      "text/plain": [
       "<core.DepositionDevice at 0x1433e6d6850>"
      ]
     },
     "execution_count": 54,
     "metadata": {},
     "output_type": "execute_result"
    },
    {
     "name": "stderr",
     "output_type": "stream",
     "text": [
      "Socket exception: An existing connection was forcibly closed by the remote host (10054)\n",
      "Socket exception: An existing connection was forcibly closed by the remote host (10054)\n",
      "Socket exception: An existing connection was forcibly closed by the remote host (10054)\n",
      "Socket exception: An existing connection was forcibly closed by the remote host (10054)\n",
      "Socket exception: An existing connection was forcibly closed by the remote host (10054)\n",
      "Socket exception: An existing connection was forcibly closed by the remote host (10054)\n",
      "Socket exception: An existing connection was forcibly closed by the remote host (10054)\n",
      "Socket exception: An existing connection was forcibly closed by the remote host (10054)\n",
      "Socket exception: An existing connection was forcibly closed by the remote host (10054)\n",
      "Socket exception: An existing connection was forcibly closed by the remote host (10054)\n",
      "Socket exception: An existing connection was forcibly closed by the remote host (10054)\n",
      "Socket exception: An existing connection was forcibly closed by the remote host (10054)\n",
      "Socket exception: An existing connection was forcibly closed by the remote host (10054)\n",
      "Socket exception: An existing connection was forcibly closed by the remote host (10054)\n",
      "Socket exception: An existing connection was forcibly closed by the remote host (10054)\n",
      "Socket exception: An existing connection was forcibly closed by the remote host (10054)\n",
      "Socket exception: An existing connection was forcibly closed by the remote host (10054)\n",
      "Socket exception: An existing connection was forcibly closed by the remote host (10054)\n",
      "Socket exception: An existing connection was forcibly closed by the remote host (10054)\n",
      "Socket exception: An existing connection was forcibly closed by the remote host (10054)\n",
      "Socket exception: An existing connection was forcibly closed by the remote host (10054)\n",
      "Socket exception: An existing connection was forcibly closed by the remote host (10054)\n",
      "Socket exception: An existing connection was forcibly closed by the remote host (10054)\n",
      "Socket exception: An existing connection was forcibly closed by the remote host (10054)\n"
     ]
    }
   ],
   "source": [
    "stage.home()\n",
    "depo_device.acquire(0.6, location=\"acid\")\n",
    "stage.home()\n",
    "depo_device.deposition(0.3, row=0, col=1)\n",
    "stage.home()\n",
    "depo_device.deposition(0.1, row=0, col=2)\n",
    "stage.home()\n",
    "depo_device.deposition(0.2, row=0, col=3)"
   ]
  },
  {
   "cell_type": "code",
   "execution_count": null,
   "id": "e3fef33c",
   "metadata": {},
   "outputs": [],
   "source": [
    "pH_device.to_zpos(\"full_down\")"
   ]
  },
  {
   "cell_type": "code",
   "execution_count": null,
   "id": "ca3a5a26",
   "metadata": {
    "scrolled": true
   },
   "outputs": [],
   "source": [
    "#for row in range(4):\n",
    "for row in range(1):\n",
    "    stage.home()\n",
    "    for col in range(3,5):  #6 for full row\n",
    "        depo_device.acquire(0.6, location=\"acid\")\n",
    "        depo_device.deposition(0.6, row=row, col=col)\n",
    "        \n",
    "        \"\"\"\n",
    "        if col==0:\n",
    "            colleft=0\n",
    "        else: \n",
    "            colleft=col-1\n",
    "        pH_device.move_to_cell(row=row, col=colleft)\n",
    "        \"\"\"\n",
    "        pH_device.move_to_cell(row=row, col=col)\n",
    "        #pH = pH_device.pH_measure(stable_time=1)\n",
    "        pH=10\n",
    "        print(f\"row {row} col {col} pH {pH}\")"
   ]
  },
  {
   "cell_type": "code",
   "execution_count": null,
   "id": "499615ff",
   "metadata": {},
   "outputs": [],
   "source": [
    "def pHcorrection(pHmeas, p1, p2):\n",
    "# correct pH values. pHmeas is the measured pH with no correction.\n",
    "# p1 variable is the measured value of the pH4 standard\n",
    "# p2 variable is the measured value of the pH7 standard  \n",
    "  y1=4\n",
    "  y2=7\n",
    "  m = (y1-y2)/(p1-p2)            #slope\n",
    "  b = y1 - m*p1                #y-intercept\n",
    "  pHcorrected = m*pHmeas + b\n",
    "  print ('p1, p2, slope, b, pHmeas, pHcorr: ', p1, p2, m, b, pHmeas, pHcorrected)\n",
    "\n",
    "  return pHcorrected\n",
    "\n",
    "test = pHcorrection(4.6, 4.95, 7.09)\n",
    "print('test=', test)\n"
   ]
  },
  {
   "cell_type": "code",
   "execution_count": null,
   "id": "a6d00f1a",
   "metadata": {
    "scrolled": true
   },
   "outputs": [],
   "source": [
    "# 7/21/23 Loop through pH measurement. Clean first. Clean after each measurement.\n",
    "\n",
    "# Run previous cell (def pHcorrection) first to correct pH measurement.\n",
    "\n",
    "for row in range(1):\n",
    "    stage.home()\n",
    "    pH_device.move_to_cell(3,3)   #clean first\n",
    "    pH_device.to_zpos(\"full_down\")\n",
    "    pH_device.to_zpos(\"full_up\")\n",
    "    pH_device.to_zpos(\"full_down\")\n",
    "    pH_device.to_zpos(\"full_up\")\n",
    "    \n",
    "    for col in range(0,6):  #6 for full row\n",
    "    #for col in range(4,-1,-1):\n",
    "        pH_device.move_to_cell(row=row, col=col)\n",
    "        pHmeas = pH_device.pH_measure(stable_time=20)\n",
    "        pHmeas = pH_device.pH_measure(stable_time=20)\n",
    "        pHmeas = pH_device.pH_measure(stable_time=20)\n",
    "        pHcorrected = pHcorrection(pHmeas, 4.95, 7.09)\n",
    "        print(f\"row {row} col {col} pHcorrected {pHcorrected}\")\n",
    "        pH_device.move_to_cell(3,3)  #contains water. Clean after measurement.\n",
    "        pH_device.to_zpos(\"full_down\")\n",
    "        pH_device.to_zpos(\"full_up\")\n",
    "        pH_device.to_zpos(\"full_down\")\n",
    "        pH_device.to_zpos(\"full_up\")\n",
    "        "
   ]
  },
  {
   "cell_type": "code",
   "execution_count": null,
   "id": "3ff9cde2",
   "metadata": {},
   "outputs": [],
   "source": [
    "pH_device.move_to_cell(row=1, col=1)\n",
    "pHmeas = pH_device.pH_measure(stable_time=20)\n",
    "pHcorrected = pHcorrection(pHmeas, 5.09, 5.57)\n",
    "print(f\"row {row} col {col} pHcorrected {pHcorrected}\")\n",
    "pH_device.move_to_cell(3,3)  #contains water. Clean after measurement.\n",
    "pH_device.to_zpos(\"full_down\")\n",
    "pH_device.to_zpos(\"full_up\")\n",
    "pH_device.to_zpos(\"full_down\")\n",
    "pH_device.to_zpos(\"full_up\")"
   ]
  },
  {
   "cell_type": "code",
   "execution_count": null,
   "id": "91e44176",
   "metadata": {},
   "outputs": [],
   "source": [
    "pH_device.move_to_cell(3,3)  #contains water. Clean after measurement.\n",
    "pH_device.to_zpos(\"full_down\")\n",
    "pH_device.to_zpos(\"full_up\")\n",
    "pH_device.to_zpos(\"full_down\")\n",
    "pH_device.to_zpos(\"full_up\")"
   ]
  },
  {
   "cell_type": "code",
   "execution_count": null,
   "id": "a471fc04",
   "metadata": {},
   "outputs": [],
   "source": [
    "# Recheck pH4, pH7 standards.\n",
    "pH_device.move_to_cell(row=1, col=3)\n",
    "pH_device.pH_measure(20)\n",
    "\n",
    "pH_device.move_to_cell(3,5)  #contains water. Clean after measurement.\n",
    "pH_device.to_zpos(\"full_down\")\n",
    "pH_device.to_zpos(\"full_up\")\n",
    "pH_device.to_zpos(\"full_down\")\n",
    "pH_device.to_zpos(\"full_up\")"
   ]
  },
  {
   "cell_type": "code",
   "execution_count": null,
   "id": "a0ccea3c",
   "metadata": {},
   "outputs": [],
   "source": [
    "stage.home()"
   ]
  },
  {
   "cell_type": "code",
   "execution_count": null,
   "id": "ce47fde2",
   "metadata": {},
   "outputs": [],
   "source": [
    "#pH_device.pH_positions"
   ]
  },
  {
   "cell_type": "code",
   "execution_count": null,
   "id": "5c523840",
   "metadata": {},
   "outputs": [],
   "source": [
    "#pH_device.motor_pH.get_position()"
   ]
  },
  {
   "cell_type": "code",
   "execution_count": null,
   "id": "ee5e70d4",
   "metadata": {},
   "outputs": [],
   "source": [
    "stage.home()\n",
    "row = 1\n",
    "for col in range(6):\n",
    "    depo_device.acquire(0.6, location=\"acid\")\n",
    "    depo_device.deposition(0.6, row=row, col=col)\n",
    "    pH_device.move_to_cell(row=row, col=col)\n",
    "    pH = pH_device.pH_measure(stable_time=10)\n",
    "    print(f\"row {row} col {col} pH {pH}\")"
   ]
  },
  {
   "cell_type": "code",
   "execution_count": null,
   "id": "84b049eb",
   "metadata": {},
   "outputs": [],
   "source": [
    "#dryrun\n",
    "reset(stage=stage, pH_device=pH_device, depo_device=depo_device)\n",
    "depo_device.deposition(0.6, row=0, col=0)"
   ]
  },
  {
   "cell_type": "code",
   "execution_count": null,
   "id": "0e2ce434",
   "metadata": {},
   "outputs": [],
   "source": [
    "#saveinfo\n",
    "path= 'c:/Users/mlowe/Documents/AlphaImmersion_I_attendedLEGOLAS2023/LEGOLAS new4 Scripts/Plots'\n",
    "SAVE= Path(path)\n",
    "SAVE.mkdir(exist_ok=True)\n",
    "plt.figure()\n",
    "plt.title(f'Acquisition func, next ratio:')\n",
    "iterations=1\n",
    "plt.savefig(SAVE/f\"{iterations}.png\", facecolor='white')\n",
    "plt.show()\n",
    "plt.close()"
   ]
  },
  {
   "cell_type": "code",
   "execution_count": null,
   "id": "0a83e929",
   "metadata": {},
   "outputs": [],
   "source": [
    "import GPy\n",
    "path= 'c:/Users/mlowe/Documents/AlphaImmersion_I_attendedLEGOLAS2023/LEGOLAS new4 Scripts/Plots'\n",
    "SAVE= Path(path)\n",
    "SAVE.mkdir(exist_ok=True)\n",
    "\n",
    "def Bayesian_optimization_pH():\n",
    "    # Uses GPy for Gaussian Process regression as surrogate function.\n",
    "\n",
    "    # If True, this will simulate deposition and measurement\n",
    "    simulate_val = True\n",
    "    \n",
    "    # X_grid is the list of all possible acid-base ratios that can be investigated.\n",
    "    # This is the array that will be index with next_sample_index\n",
    "    X_grid = np.linspace(0.1,1,20)[:,None]\n",
    "    other = np.linspace(2,10,20)[:,None]\n",
    "    X_grid = np.append(X_grid,other)[:,None] # set of all acid and base ratios\n",
    "    Dsize = X_grid.shape[0] # number in X_grid set\n",
    "    BO_lambda = .1\n",
    "    \n",
    "    # # set up GP.\n",
    "    # X_samples = np.atleast_1d([1.])[:,None] # ratio of R to G\n",
    "    # Y_samples = np.atleast_1d([210.])[:,None]\n",
    "    # measured = np.asarray([14])\n",
    "    # unmeasured = np.setdiff1d(np.linspace(0,14,15), measured).astype(int)\n",
    "    \n",
    "    # set up variables\n",
    "    ratio = [0.1] # ratio of initial sample to study, 0 is no acid\n",
    "    sample_index = 0 # index of ratio in list of ratios\n",
    "    count = 0 #counter for moving to appropriate well\n",
    "\n",
    "    # deposit first ratio in well and collect pH\n",
    "    pH = BO_get_data(ratio,count) \n",
    "    print('counter value:',count)\n",
    "    print('Acid/Base ratio measured:',ratio)\n",
    "    print('pH Value:',pH)\n",
    "    \n",
    "    measured = np.atleast_1d(sample_index) # indices of ratios that have been measured\n",
    "    full_indices = np.linspace(0,X_grid.shape[0]-1,X_grid.shape[0]) # indices of all ratios to be investigated\n",
    "    unmeasured = np.setdiff1d(full_indices, measured).astype(int)  # indices of ratios that are still to be measured\n",
    "    X_samples = np.atleast_1d(ratio)[:,None] # X_samples is the RG ratios already studied\n",
    "    Y_samples = np.atleast_1d(pH)[:,None] # Y_samples are the corresponding Red measurements for the RG ratios studied.\n",
    "    \n",
    "    # iteration loop for active learning (GP with exploration CO)\n",
    "    for iterations in range(24):\n",
    "        #reset(stage=stage, pH_device=pH_device, depo_device=depo_device)\n",
    "        \"\"\"\n",
    "        if iterations in home_check:\n",
    "            # Go to Home Position\n",
    "            time.sleep(10)\n",
    "            reset(stage=stage, pH_device=pH_device, depo_device=depo_device)\n",
    "        \"\"\"\n",
    "        # Regression\n",
    "        k = GPy.kern.RBF(1)\n",
    "        m = GPy.models.GPRegression(X_samples, Y_samples, k)\n",
    "        #blockPrint() # blocks printing statements to avoid printing GPy's optimization statements.\n",
    "        m.optimize_restarts(5, robust=True);\n",
    "        #enablePrint() # restarts the internal printing statements\n",
    "        mean_full, variance_full = m.predict(X_grid) # Prediction\n",
    "        mean, variance = m.predict(X_grid[unmeasured]) # Prediction just for unmeasured ratios\n",
    "        \n",
    "        # # Bayesian optimization to maximize measured red by varying mixture.\n",
    "        # BO_beta = 2 * math.log(Dsize * math.pow(iterations + 1,2) * math.pow(np.pi,2) / (6 * BO_lambda) )\n",
    "        # alpha = -1 * np.abs(100. - mean) + math.sqrt(BO_beta) * variance\n",
    "        \n",
    "        # Active Learning\n",
    "        alpha_full = variance_full # variance for all ratios. use variance (uncertainty) in Gaussian Process to guide next sample\n",
    "        alpha = variance # variance for unmeasured ratios\n",
    "        ##alpha = (9/(iterations+1))*variance - np.absolute(mean-4.75)\n",
    "        ##alpha_full = (9/(iterations+1))*variance_full - np.absolute(mean_full-4.75)\n",
    "        sample_index = unmeasured[ np.argmax(alpha) ] # index of next ratio in X_grid\n",
    "        ratio = X_grid[sample_index,:] # next ratio\n",
    "        print('The next ratio to investigate is', ratio)\n",
    "\n",
    "        # plot\n",
    "        plt.figure(figsize = (7,3))\n",
    "        num_subplots = 2\n",
    "        if ~simulate_val:\n",
    "            num_subplots = 3\n",
    "        plt.subplot(1,num_subplots,1)\n",
    "        plot_gp(X_grid, mean_full, variance_full, training_points=(X_samples,Y_samples)) # plot GP variance for all ratios\n",
    "        bottom, top = plt.ylim()\n",
    "        plt.plot([ratio, ratio],[bottom, top],'m') # indicate the next ratio to investigate\n",
    "        plt.title('GP model for pH')\n",
    "        #plt.tight_layout()\n",
    "        #plt.savefig(SAVE/f\"GP{iterations}.png\", facecolor='white')\n",
    "        #plt.show()\n",
    "        #plt.close()\n",
    "        \n",
    "        plt.subplot(1,num_subplots,2)\n",
    "        plt.plot(X_grid, alpha_full)  # plot the aquisition function for all ratios\n",
    "        plt.plot([ratio, ratio],[np.min(alpha_full), np.max(alpha_full)],'m') # indicate the next ratio to be investigated\n",
    "        plt.title(f'Acquisition func, next ratio:{ratio}')\n",
    "        \n",
    "        #plt.tight_layout()\n",
    "        #plt.savefig(SAVE/f\"Acquisition{iterations}.png\", facecolor='white')\n",
    "        plt.show()\n",
    "        #plt.close()\n",
    "           \n",
    "        count+=1           #move to next well\n",
    "        \n",
    "        # collect data\n",
    "        pH = BO_get_data(ratio, count) # run the next experiment.\n",
    "        print('counter value:',count)\n",
    "        print('Acid/Base ratio measured:',ratio)\n",
    "        print('pH Value:',pH)\n",
    "        measured = np.append(measured, sample_index) # add experiment ratio to the set of measured\n",
    "        unmeasured = np.setdiff1d(full_indices, measured).astype(int)\n",
    "        X_samples = np.append(X_samples, ratio)[:,None]\n",
    "        Y_samples = np.append(Y_samples, pH)[:,None]\n",
    "    \n",
    "def BO_get_data(ratio, count):\n",
    "    #r = count % 6\n",
    "    #c = count // 6\n",
    "    if count <= 5:          # 1st row [0] - 6 samples\n",
    "        r = 0\n",
    "        c = count\n",
    "    elif count <= 11:        # 2nd row [1]  - 6 samples ...\n",
    "        r = 1\n",
    "        c = count-6\n",
    "    elif count <= 17:        # 3rd row [2] - 6 samples ...\n",
    "        r = 2\n",
    "        c = count - 12\n",
    "    elif count <= 23:        # 4th row [3] - 6 sample ...\n",
    "        r = 3\n",
    "        c = count - 18\n",
    "    \n",
    "    acid_vol,base_vol = ratio_conversion(ratio)\n",
    "    print('acid_vol', acid_vol)\n",
    "    print('base_vol', base_vol)\n",
    "    \n",
    "    while acid_vol > 0.6:\n",
    "        depo_device.acquire(0.6, location=\"acid\")\n",
    "        depo_device.deposition(0.6, row=r, col=c)\n",
    "        acid_vol -= 0.6\n",
    "    depo_device.acquire(acid_vol, location=\"acid\")\n",
    "    depo_device.deposition(acid_vol, row=r, col=c)\n",
    "    \n",
    "    while base_vol > 0.6:\n",
    "        depo_device.acquire(0.6, location=\"base\")\n",
    "        depo_device.deposition(0.6, row=r, col=c)\n",
    "        base_vol -= 0.6\n",
    "    depo_device.acquire(base_vol, location=\"base\")\n",
    "    depo_device.deposition(base_vol, row=r, col=c)\n",
    "    \n",
    "    pH_device.move_to_cell(row=r, col=c)\n",
    "    pH = pH_device.pH_measure(stable_time=20)\n",
    "    #print(f\"row {f} col {c} pH {pH}\")\n",
    "    \n",
    "    #pH_device.move_to_loc(\"clean\")\n",
    "    #pH_device.to_zpos(\"full_down\")\n",
    "    #pH_device.to_zpos(\"full_up\")\n",
    "\n",
    "    return pH\n",
    "\n",
    "\n",
    "\n",
    "def ratio_conversion(ratio):\n",
    "    acid_vol = float(2.0*ratio[0]/(1+ratio[0]))\n",
    "    base_vol = float(2.0 - acid_vol)\n",
    "    return acid_vol,base_vol\n",
    "            \n",
    "    \n",
    "def plot_gp(X, m, C, training_points=None):\n",
    "    # plot results of Gaussian Process analysis.\n",
    "    # Plot 95% confidence interval \n",
    "    plt.fill_between(X[:,0], m[:,0] - 1.96*np.sqrt(np.diag(C)), m[:,0] + 1.96*np.sqrt(np.diag(C)), alpha=0.5)\n",
    "    plt.plot(X, m, \"-\")  # Plot GP mean \n",
    "    plt.xlabel(\"x\"), plt.ylabel(\"f\")\n",
    "    #plt.savefig(SAVE/f\"gp{iterations}.png\", facecolor='white')\n",
    "    if training_points is not None:  # Plot training points if included\n",
    "        X_, Y_ = training_points\n",
    "        plt.plot(X_, Y_, \"kx\", mew=2)\n",
    "        plt.show()\n",
    "        \n",
    "    \n",
    "        "
   ]
  },
  {
   "cell_type": "code",
   "execution_count": null,
   "id": "f7ac092c",
   "metadata": {},
   "outputs": [],
   "source": [
    "Bayesian_optimization_pH()"
   ]
  },
  {
   "cell_type": "code",
   "execution_count": null,
   "id": "c41188ff",
   "metadata": {},
   "outputs": [],
   "source": [
    "X_grid = np.linspace(0.1,1,20)[:,None]\n",
    "other = np.linspace(2,10,20)[:,None]\n",
    "X_grid = np.append(X_grid,other)[:,None] # set of all acid and base ratios\n",
    "ratio = X_grid[0,:]\n",
    "print(float(ratio))"
   ]
  },
  {
   "cell_type": "code",
   "execution_count": null,
   "id": "e634af4d",
   "metadata": {},
   "outputs": [],
   "source": []
  },
  {
   "cell_type": "code",
   "execution_count": null,
   "id": "086b6bb6",
   "metadata": {},
   "outputs": [],
   "source": [
    "###test printing\n",
    "\n",
    "path= 'c:/Users/mlowe/Documents/AlphaImmersion_I_attendedLEGOLAS2023/LEGOLAS new4 Scripts/Plots'\n",
    "SAVE= Path(path)\n",
    "SAVE.mkdir(exist_ok=True)\n",
    "\n",
    "def f(t):\n",
    "    return np.exp(-t) * np.cos(2*np.pi*t)\n",
    "\n",
    "\n",
    "def testBayesian_optimization_pH():\n",
    "    \n",
    "    # Uses GPy for Gaussian Process regression as surrogate function.\n",
    "\n",
    "    # If True, this will simulate deposition and measurement\n",
    "    simulate_val = True\n",
    "    \n",
    "    # X_grid is the list of all possible acid-base ratios that can be investigated.\n",
    "    # This is the array that will be index with next_sample_index\n",
    "    X_grid = np.linspace(0.1,1,20)[:,None]\n",
    "    other = np.linspace(2,10,20)[:,None]\n",
    "    X_grid = np.append(X_grid,other)[:,None] # set of all acid and base ratios\n",
    "    Dsize = X_grid.shape[0] # number in X_grid set\n",
    "    BO_lambda = .1\n",
    "    \n",
    "    # # set up GP.\n",
    "    # X_samples = np.atleast_1d([1.])[:,None] # ratio of R to G\n",
    "    # Y_samples = np.atleast_1d([210.])[:,None]\n",
    "    # measured = np.asarray([14])\n",
    "    # unmeasured = np.setdiff1d(np.linspace(0,14,15), measured).astype(int)\n",
    "    \n",
    "    # set up variables\n",
    "    ratio = [0.1] # ratio of initial sample to study, 0 is no acid\n",
    "    sample_index = 0 # index of ratio in list of ratios\n",
    "    count = 0 #counter for moving to appropriate well\n",
    "\n",
    "    # deposit first ratio in well and collect pH\n",
    "    pH=10 #pH = BO_get_data(ratio,count) \n",
    "    print('counter value:',count)\n",
    "    print('Acid/Base ratio measured:',ratio)\n",
    "    print('pH Value:',pH)\n",
    "    \n",
    "    measured = np.atleast_1d(sample_index) # indices of ratios that have been measured\n",
    "    full_indices = np.linspace(0,X_grid.shape[0]-1,X_grid.shape[0]) # indices of all ratios to be investigated\n",
    "    unmeasured = np.setdiff1d(full_indices, measured).astype(int)  # indices of ratios that are still to be measured\n",
    "    X_samples = np.atleast_1d(ratio)[:,None] # X_samples is the RG ratios already studied\n",
    "    Y_samples = np.atleast_1d(pH)[:,None] # Y_samples are the corresponding Red measurements for the RG ratios studied.\n",
    "    \n",
    "    # iteration loop for active learning (GP with exploration CO)\n",
    "    for iterations in range(2):\n",
    "        #reset(stage=stage, pH_device=pH_device, depo_device=depo_device)\n",
    "\n",
    "        print('The next ratio to investigate is', ratio)\n",
    "\n",
    "        # plot\n",
    "        plt.figure(figsize = (7,3))\n",
    "        num_subplots = 2\n",
    "        if ~simulate_val:\n",
    "            num_subplots = 3\n",
    "        plt.subplot(1,num_subplots,1)      \n",
    "            \n",
    "        t1 = np.arange(0.0, 5.0, 0.1)\n",
    "        t2 = np.arange(0.0, 5.0, 0.02)\n",
    "\n",
    "        plt.plot(t1, f(t1), 'bo', t2, f(t2), 'k')\n",
    "        plt.title('model for pH')\n",
    "        \n",
    "        plt.subplot(1,num_subplots,2)\n",
    "        plt.plot(t2, np.cos(2*np.pi*t2), 'r--')\n",
    "        plt.title('acq func')     \n",
    "        \n",
    "        plt.tight_layout()\n",
    "        plt.savefig(SAVE/f\"Acquisition{iterations}.png\", facecolor='white')\n",
    "        plt.show()\n",
    "        plt.close()\n",
    "              \n",
    "        \n",
    "testBayesian_optimization_pH()    \n",
    "        "
   ]
  },
  {
   "cell_type": "code",
   "execution_count": null,
   "id": "15c6b4f5",
   "metadata": {},
   "outputs": [],
   "source": [
    "def f(t):\n",
    "    return np.exp(-t) * np.cos(2*np.pi*t)\n",
    "\n",
    "t1 = np.arange(0.0, 5.0, 0.1)\n",
    "t2 = np.arange(0.0, 5.0, 0.02)\n",
    "\n",
    "plt.figure()\n",
    "plt.subplot(2,1,1)  \n",
    "plt.plot(t1, f(t1), 'bo', t2, f(t2), 'k')\n",
    "\n",
    "plt.subplot(212)\n",
    "plt.plot(t2, np.cos(2*np.pi*t2), 'r--')\n",
    "plt.show()"
   ]
  }
 ],
 "metadata": {
  "kernelspec": {
   "display_name": "Legolas_2024-kernel",
   "language": "python",
   "name": "legolas_2024-kernel"
  },
  "language_info": {
   "codemirror_mode": {
    "name": "ipython",
    "version": 3
   },
   "file_extension": ".py",
   "mimetype": "text/x-python",
   "name": "python",
   "nbconvert_exporter": "python",
   "pygments_lexer": "ipython3",
   "version": "3.11.7"
  },
  "vscode": {
   "interpreter": {
    "hash": "0095c6ec66f02ae1bc8a134f6078f14ee669be44a5c4ac33d7f267434e255fcc"
   }
  }
 },
 "nbformat": 4,
 "nbformat_minor": 5
}
