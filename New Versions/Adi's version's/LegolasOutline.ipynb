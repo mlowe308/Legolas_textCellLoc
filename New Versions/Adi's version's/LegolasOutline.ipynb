{
 "cells": [
  {
   "cell_type": "markdown",
   "id": "a5e32ee6",
   "metadata": {},
   "source": [
    "# Legolas Outline\n",
    "\n",
    "Use this code to answer the challenges."
   ]
  },
  {
   "cell_type": "code",
   "execution_count": 2,
   "id": "f7c7a943-f3f2-41f0-b6a9-3f6f0a7f4f37",
   "metadata": {},
   "outputs": [
    {
     "name": "stdout",
     "output_type": "stream",
     "text": [
      "Collecting GPy\n",
      "  Using cached GPy-1.13.1-cp311-cp311-macosx_10_9_universal2.whl.metadata (2.3 kB)\n",
      "Requirement already satisfied: numpy>=1.7 in /opt/anaconda3/envs/Legolas_2024/lib/python3.11/site-packages (from GPy) (1.26.4)\n",
      "Requirement already satisfied: six in /opt/anaconda3/envs/Legolas_2024/lib/python3.11/site-packages (from GPy) (1.16.0)\n",
      "Collecting paramz>=0.9.6 (from GPy)\n",
      "  Using cached paramz-0.9.6-py3-none-any.whl.metadata (1.4 kB)\n",
      "Collecting cython>=0.29 (from GPy)\n",
      "  Using cached Cython-3.0.10-py2.py3-none-any.whl.metadata (3.2 kB)\n",
      "Requirement already satisfied: scipy<1.12.0,>=1.3.0 in /opt/anaconda3/envs/Legolas_2024/lib/python3.11/site-packages (from GPy) (1.11.4)\n",
      "Requirement already satisfied: decorator>=4.0.10 in /opt/anaconda3/envs/Legolas_2024/lib/python3.11/site-packages (from paramz>=0.9.6->GPy) (5.1.1)\n",
      "Using cached GPy-1.13.1-cp311-cp311-macosx_10_9_universal2.whl (1.9 MB)\n",
      "Using cached Cython-3.0.10-py2.py3-none-any.whl (1.2 MB)\n",
      "Using cached paramz-0.9.6-py3-none-any.whl (103 kB)\n",
      "Installing collected packages: cython, paramz, GPy\n",
      "Successfully installed GPy-1.13.1 cython-3.0.10 paramz-0.9.6\n",
      "Collecting GPyOpt\n",
      "  Downloading GPyOpt-1.2.6.tar.gz (56 kB)\n",
      "\u001b[2K     \u001b[90m━━━━━━━━━━━━━━━━━━━━━━━━━━━━━━━━━━━━━━━━\u001b[0m \u001b[32m56.8/56.8 kB\u001b[0m \u001b[31m2.6 MB/s\u001b[0m eta \u001b[36m0:00:00\u001b[0m\n",
      "\u001b[?25h  Preparing metadata (setup.py) ... \u001b[?25ldone\n",
      "\u001b[?25hRequirement already satisfied: numpy>=1.7 in /opt/anaconda3/envs/Legolas_2024/lib/python3.11/site-packages (from GPyOpt) (1.26.4)\n",
      "Requirement already satisfied: scipy>=0.16 in /opt/anaconda3/envs/Legolas_2024/lib/python3.11/site-packages (from GPyOpt) (1.11.4)\n",
      "Requirement already satisfied: GPy>=1.8 in /opt/anaconda3/envs/Legolas_2024/lib/python3.11/site-packages (from GPyOpt) (1.13.1)\n",
      "Requirement already satisfied: six in /opt/anaconda3/envs/Legolas_2024/lib/python3.11/site-packages (from GPy>=1.8->GPyOpt) (1.16.0)\n",
      "Requirement already satisfied: paramz>=0.9.6 in /opt/anaconda3/envs/Legolas_2024/lib/python3.11/site-packages (from GPy>=1.8->GPyOpt) (0.9.6)\n",
      "Requirement already satisfied: cython>=0.29 in /opt/anaconda3/envs/Legolas_2024/lib/python3.11/site-packages (from GPy>=1.8->GPyOpt) (3.0.10)\n",
      "Requirement already satisfied: decorator>=4.0.10 in /opt/anaconda3/envs/Legolas_2024/lib/python3.11/site-packages (from paramz>=0.9.6->GPy>=1.8->GPyOpt) (5.1.1)\n",
      "Building wheels for collected packages: GPyOpt\n",
      "  Building wheel for GPyOpt (setup.py) ... \u001b[?25ldone\n",
      "\u001b[?25h  Created wheel for GPyOpt: filename=GPyOpt-1.2.6-py3-none-any.whl size=83644 sha256=3e531df2170f785787c5eb284fcd2f98df1c5d68e6df8076f440199d455d6a32\n",
      "  Stored in directory: /Users/notaspy/Library/Caches/pip/wheels/b3/5e/fb/38ca2bae62f9d07f22d246c55dd1f4721ac40f82dc6c2f348c\n",
      "Successfully built GPyOpt\n",
      "Installing collected packages: GPyOpt\n",
      "Successfully installed GPyOpt-1.2.6\n"
     ]
    }
   ],
   "source": [
    "#Not needed if you have already installed GPy and GPyOpt\n",
    "!pip install GPy\n",
    "# GPFlow, GPyTorch\n",
    "!pip install GPyOpt"
   ]
  },
  {
   "cell_type": "code",
   "execution_count": 1,
   "id": "81121651",
   "metadata": {},
   "outputs": [
    {
     "name": "stderr",
     "output_type": "stream",
     "text": [
      "/opt/anaconda3/envs/Legolas_2024/lib/python3.11/site-packages/paramiko/transport.py:219: CryptographyDeprecationWarning: Blowfish has been deprecated and will be removed in a future release\n",
      "  \"class\": algorithms.Blowfish,\n"
     ]
    }
   ],
   "source": [
    "import utils\n",
    "from core import *"
   ]
  },
  {
   "cell_type": "code",
   "execution_count": 2,
   "id": "8cf1dbbb",
   "metadata": {},
   "outputs": [
    {
     "name": "stdout",
     "output_type": "stream",
     "text": [
      "kill server at PID:7781\n",
      "restarting the rpyc server at host: 192.168.1.11\n",
      "rpyc server start successfully\n",
      "kill server at PID:101840\n",
      "restarting the rpyc server at host: 192.168.1.14\n",
      "rpyc server start successfully\n"
     ]
    }
   ],
   "source": [
    "# this is how you reset the rpyc server when facing the port already in use\n",
    "# need to change to actual host name\n",
    "host_1 = \"192.168.1.11\"\n",
    "host_2 = \"192.168.1.14\"\n",
    "\n",
    "utils.restart_server(host=host_1)\n",
    "utils.restart_server(host=host_2)"
   ]
  },
  {
   "cell_type": "code",
   "execution_count": 3,
   "id": "f7c1a4ef",
   "metadata": {},
   "outputs": [],
   "source": [
    "stage, depo_device, pH_device, conn1, conn2, config = load_from_config(\"config.yaml\")"
   ]
  },
  {
   "cell_type": "code",
   "execution_count": null,
   "id": "25ba1a33",
   "metadata": {},
   "outputs": [],
   "source": [
    "# it is ok if this fails, just move on to the next code block\n",
    "sanity_check(stage=stage, pH_device=pH_device, depo_device=depo_device)"
   ]
  },
  {
   "cell_type": "code",
   "execution_count": 4,
   "id": "8e64d969",
   "metadata": {},
   "outputs": [
    {
     "name": "stdout",
     "output_type": "stream",
     "text": [
      "/dev/ttyACM0 ttyACM0 USB VID:PID=2341:0043 SER=9553034393435130E032 LOCATION=1-1.3:1.0\n",
      "/dev/ttyAMA0 ttyAMA0 fe201000.serial\n"
     ]
    }
   ],
   "source": [
    "# find the usb port if problem occur\n",
    "list_ports = conn1.modules['serial.tools.list_ports']\n",
    "\n",
    "ports=list_ports.comports()\n",
    "for port, desc, hwid in sorted(ports):\n",
    "    print(port, desc, hwid)"
   ]
  },
  {
   "cell_type": "code",
   "execution_count": 5,
   "id": "af6f243a",
   "metadata": {},
   "outputs": [],
   "source": [
    "# Go to Home Position\n",
    "reset(stage=stage, pH_device=pH_device, depo_device=depo_device)\n",
    "# stage.home()"
   ]
  },
  {
   "cell_type": "markdown",
   "id": "5c8f8ff3",
   "metadata": {},
   "source": [
    "## (1) Measurement Uncertainty\n",
    "\n",
    "**(a)** Write a script to create a sample with an equal amount of acid and base (Total volume should be 2 ml and each deposition sequence should not exceed 0.6 mL for LEGOLAS to function properly)\n",
    "\n",
    "**(b)** Write a script to follow these operations in a loop with 10 measurements:\n",
    "-  Dip the pH sensor in the DI water well\n",
    "-  Dip the pH sensor into the sample from (a), measure pH and record.\n",
    "\n",
    "**(c)** Plot the results from (b). \n",
    "\n",
    "What is the mean and variance of these measurements? Please include this information as markdown text in the Jupyter notebook.\n"
   ]
  },
  {
   "cell_type": "code",
   "execution_count": 14,
   "id": "2395f9de-3659-48b5-8b71-5dad21ffffe9",
   "metadata": {},
   "outputs": [
    {
     "data": {
      "text/plain": [
       "(750, -199)"
      ]
     },
     "execution_count": 14,
     "metadata": {},
     "output_type": "execute_result"
    }
   ],
   "source": [
    "pH_device.to_zpos(\"full_up\")\n",
    "depo_device.to_zpos(\"full_up\")\n",
    "depo_device.down()\n",
    "stage.home()"
   ]
  },
  {
   "cell_type": "code",
   "execution_count": 5,
   "id": "0d02c721-3a42-4ad7-a5dd-f108ef5aca05",
   "metadata": {},
   "outputs": [],
   "source": [
    "def clean():\n",
    "    pH_device.move_to_loc(\"clean\")\n",
    "    pH_device.to_zpos(\"full_down\")\n",
    "    pH_device.to_zpos(\"full_up\")\n",
    "\n",
    "def blot():\n",
    "    pH_device.move_to_loc(\"blot\")\n",
    "    pH_device.to_zpos(\"full_down\")\n",
    "    time.sleep(1)\n",
    "    pH_device.to_zpos(\"full_up\")\n",
    "    \n",
    "def measure(j,i):\n",
    "    pH_device.move_to_cell(row=j, col=i)\n",
    "    pH_device.to_zpos(\"full_down\")\n",
    "    k = pH_device.pH_measure(30)\n",
    "    pH_device.to_zpos(\"full_up\")\n",
    "    return k\n",
    "\n",
    "def depclean():\n",
    "    depo_device.move_to_loc(\"clean\")\n",
    "    depo_device.to_zpos(\"full_down\")\n",
    "    depo_device.to_zpos(\"full_up\")\n",
    "\n",
    "def get_row_col(count):\n",
    "    if count <= 5:\n",
    "        row = 0\n",
    "        col = count\n",
    "    elif count <= 11:\n",
    "        row = 1\n",
    "        col = count - 6\n",
    "    elif count <= 17:\n",
    "        row = 2\n",
    "        col = count - 12\n",
    "    elif count <= 23:\n",
    "        row = 3\n",
    "        col = count - 18\n",
    "    return row, col"
   ]
  },
  {
   "cell_type": "code",
   "execution_count": 23,
   "id": "39d897e0-efaf-4d95-8401-38f180be515b",
   "metadata": {},
   "outputs": [
    {
     "name": "stdout",
     "output_type": "stream",
     "text": [
      "Voltage is Measured as: 0.82\n",
      "Voltage is Measured as: 1.01\n",
      "Voltage is Measured as: 1.69\n",
      "Voltage is Measured as: 1.03\n",
      "Voltage is Measured as: 1.69\n",
      "Voltage is Measured as: 1.01\n",
      "slope: 2.3783808626513787, intercept: 2.6261231242962513\n"
     ]
    },
    {
     "data": {
      "text/plain": [
       "<function matplotlib.pyplot.show(close=None, block=None)>"
      ]
     },
     "execution_count": 23,
     "metadata": {},
     "output_type": "execute_result"
    },
    {
     "data": {
      "image/png": "[encoded data removed]",
      "text/plain": [
       "<Figure size 640x480 with 1 Axes>"
      ]
     },
     "metadata": {},
     "output_type": "display_data"
    }
   ],
   "source": [
    "stage.home()\n",
    "\n",
    "#pH SENSOR CALIBRATION\n",
    "\n",
    "y = [7, 4, 7, 4, 7, 4]\n",
    "x = []\n",
    "\n",
    "for i in range(6):\n",
    "    clean()\n",
    "    blot()\n",
    "    if i % 2 == 0:\n",
    "        m7 = measure(3,0)\n",
    "        x.append(m7)\n",
    "    else:\n",
    "        m4 = measure(3,1)\n",
    "        x.append(m4)\n",
    "        \n",
    "#PLOTTING FIT\n",
    "\n",
    "line = np.polyfit(x,y,1)\n",
    "print(f'slope: {line[0]}, intercept: {line[1]}')\n",
    "trend = np.poly1d(line)\n",
    "plt.plot(x,y, 'ro', x, trend(x), '-k')\n",
    "plt.show\n",
    "#time.sleep(5)\n"
   ]
  },
  {
   "cell_type": "code",
   "execution_count": 37,
   "id": "03c77e36-8afc-4232-9685-ba56c8658347",
   "metadata": {},
   "outputs": [
    {
     "name": "stdout",
     "output_type": "stream",
     "text": [
      "voltage is measured as: 1.90\n",
      "voltage is measured as: 1.25\n",
      "voltage is measured as: 1.89\n",
      "voltage is measured as: 1.28\n",
      "voltage is measured as: 1.89\n",
      "voltage is measured as: 1.25\n",
      "slope: 4.731599335915886, intercept: -1.960154952960713\n"
     ]
    },
    {
     "data": {
      "text/plain": [
       "<function matplotlib.pyplot.show(close=None, block=None)>"
      ]
     },
     "execution_count": 37,
     "metadata": {},
     "output_type": "execute_result"
    },
    {
     "data": {
      "image/png": "[encoded data removed]",
      "text/plain": [
       "<Figure size 640x480 with 1 Axes>"
      ]
     },
     "metadata": {},
     "output_type": "display_data"
    }
   ],
   "source": [
    "stage.home()\n",
    "\n",
    "#CALIBRATION WITHOUT CLEANING\n",
    "\n",
    "y = [7, 4, 7, 4, 7, 4]\n",
    "x = []\n",
    "\n",
    "for i in range(6):\n",
    "    time.sleep(10)\n",
    "    m7 = pH_device.pH_measure(30)\n",
    "    x.append(m7)\n",
    "    stage.home()\n",
    "        \n",
    "#PLOTTING FIT\n",
    "\n",
    "line = np.polyfit(x,y,1)\n",
    "print(f'slope: {line[0]}, intercept: {line[1]}')\n",
    "trend = np.poly1d(line)\n",
    "plt.plot(x,y, 'ro', x, trend(x), '-k')\n",
    "plt.show"
   ]
  },
  {
   "cell_type": "code",
   "execution_count": 6,
   "id": "1e5dcc39-464a-4c05-b5f8-7097bf039a4c",
   "metadata": {},
   "outputs": [
    {
     "name": "stdout",
     "output_type": "stream",
     "text": [
      "slope: 4.453699167074966, intercept: -0.527339539441451\n"
     ]
    },
    {
     "data": {
      "text/plain": [
       "<function matplotlib.pyplot.show(close=None, block=None)>"
      ]
     },
     "execution_count": 6,
     "metadata": {},
     "output_type": "execute_result"
    },
    {
     "data": {
      "image/png": "[encoded data removed]",
      "text/plain": [
       "<Figure size 640x480 with 1 Axes>"
      ]
     },
     "metadata": {},
     "output_type": "display_data"
    }
   ],
   "source": [
    "#MANUALLY ADJUSTED DATA PLOTTING\n",
    "\n",
    "y = [7, 4, 7, 4, 7, 4]\n",
    "x = [1.69, 1.01, 1.69, 1.03, 1.69, 1.01]\n",
    "\n",
    "line = np.polyfit(x,y,1)\n",
    "print(f'slope: {line[0]}, intercept: {line[1]}')\n",
    "trend = np.poly1d(line)\n",
    "plt.plot(x,y, 'ro', x, trend(x), '-k')\n",
    "plt.show"
   ]
  },
  {
   "cell_type": "code",
   "execution_count": 11,
   "id": "385913f7-5e2c-408d-ab0c-172aa9b1ebc7",
   "metadata": {},
   "outputs": [
    {
     "data": {
      "text/plain": [
       "'\\n#depclean()\\n\\ndepo_device.acquire(0.5, location=\"base\")\\ndepo_device.deposition(0.5, row=0, col=0)\\n\\ndepo_device.acquire(0.5, location=\"base\")\\ndepo_device.deposition(0.5, row=0, col=0)\\n'"
      ]
     },
     "execution_count": 11,
     "metadata": {},
     "output_type": "execute_result"
    }
   ],
   "source": [
    "#PIPETTE TESTING\n",
    "\n",
    "#stage.home()\n",
    "#depclean()\n",
    "\n",
    "depo_device.acquire(0.3, location=\"acid\")\n",
    "depo_device.deposition(0.3, row=0, col=0)\n",
    "\n",
    "depo_device.acquire(0.4, location=\"acid\")\n",
    "depo_device.deposition(0.4, row=0, col=0)\n",
    "\n",
    "#depclean()\n",
    "\n",
    "depo_device.acquire(0.5, location=\"base\")\n",
    "depo_device.deposition(0.5, row=0, col=0)\n",
    "\n",
    "depo_device.acquire(0.5, location=\"base\")\n",
    "depo_device.deposition(0.5, row=0, col=0)"
   ]
  },
  {
   "cell_type": "code",
   "execution_count": 21,
   "id": "66df4b3c-0df7-4623-a2b5-dcfdd57802c5",
   "metadata": {},
   "outputs": [
    {
     "name": "stdout",
     "output_type": "stream",
     "text": [
      "Voltage is Measured as: 0.91\n",
      "Voltage is Measured as: 0.94\n",
      "Voltage is Measured as: 1.01\n",
      "Voltage is Measured as: 1.08\n",
      "Voltage is Measured as: 1.15\n",
      "Voltage is Measured as: 1.21\n",
      "Voltage is Measured as: 1.31\n",
      "Voltage is Measured as: 1.37\n",
      "pH [0]= 3.4097307221542215\n",
      "pH [1]= 3.546052631578945\n",
      "pH [2]= 3.8641370869033036\n",
      "pH [3]= 4.182221542227661\n",
      "pH [4]= 4.500305997552018\n",
      "pH [5]= 4.772949816401468\n",
      "pH [6]= 5.227356181150551\n",
      "pH [7]= 5.500000000000001\n"
     ]
    }
   ],
   "source": [
    "#MEASURING pH OF ACID/BASE\n",
    "\n",
    "m = []\n",
    "\n",
    "for count in range(8):\n",
    "    row, col = get_row_col(count)\n",
    "    clean()\n",
    "    blot()\n",
    "    mx = measure(row, col)\n",
    "    m.append(mx)\n",
    "\n",
    "'''\n",
    "for count in range(7, -1, -1):\n",
    "    row, col = get_row_col(count)\n",
    "    clean()\n",
    "    blot()\n",
    "    mx = measure(row, col)\n",
    "    m.append(mx)\n",
    "'''\n",
    "\n",
    "r = [0.1, 0.2, 0.4, 0.8, 1.6, 3.2, 6.4, 12.8]\n",
    "\n",
    "index = 0\n",
    "for ratio in r:\n",
    "    print(f'pH [{ratio}]= {line[0]*m[index]+line[1]}')\n",
    "    index +=1"
   ]
  },
  {
   "cell_type": "code",
   "execution_count": 24,
   "id": "559ce31a-9f04-499e-9233-38327a908ea8",
   "metadata": {},
   "outputs": [
    {
     "name": "stdout",
     "output_type": "stream",
     "text": [
      "Voltage is Measured as: 1.01\n",
      "pH 4= 3.8641370869033036\n",
      "Voltage is Measured as: 1.66\n",
      "pH 7= 6.817778457772339\n"
     ]
    }
   ],
   "source": [
    "#REMEASURING STANDARDS FOR COMPARISON\n",
    "\n",
    "clean()\n",
    "blot()\n",
    "m4x = measure(3,1)\n",
    "\n",
    "print(f'pH 4= {line[0]*m4x+line[1]}')\n",
    "\n",
    "clean()\n",
    "blot()\n",
    "m7x = measure(3,0)\n",
    "\n",
    "print(f'pH 7= {line[0]*m7x+line[1]}')"
   ]
  },
  {
   "cell_type": "code",
   "execution_count": null,
   "id": "87473ac5-1733-4f2c-bd29-a78dadafd64c",
   "metadata": {},
   "outputs": [],
   "source": [
    "#GETTING MEAN AND VARIANCE FOR ONE SOLUTION\n",
    "\n",
    "measurements = []\n",
    "\n",
    "#number of trials per well\n",
    "n=5\n",
    "\n",
    "for i in range(n):\n",
    "    clean()\n",
    "    blot()\n",
    "    g = line[0]*measure(3, n)+line[1]\n",
    "    print(f'pH: {g}')\n",
    "    measurements.append(g)\n",
    "\n",
    "sum = 0\n",
    "for x in measurements:\n",
    "    sum += x\n",
    "\n",
    "mean = sum/n\n",
    "print(f'mean = {mean}')\n",
    "\n",
    "sum = 0\n",
    "for x in measurements:\n",
    "    sum += pow(abs(x-mean),2)\n",
    "\n",
    "variance = sum/(n-1)\n",
    "print(f'variance = {variance}')"
   ]
  },
  {
   "cell_type": "markdown",
   "id": "c6800637",
   "metadata": {},
   "source": [
    "## (2) The Henderson Hasselbach Equation\n",
    "\n",
    "The HH equation is given as:\n",
    "$pH = pK - log(\\frac{[Acid]}{[Base]})$\n",
    "\n",
    "The output gives the pH of the sample, pK is a constant, and [Acid] and [Base] are the **concentrations** of acid and base.  For these experiments we will work with the percentage of acid in the sample to create samples varying in composition from a percentage of acid of 10% through 80%.  \n",
    "\n",
    "**(a)** Write code that will create 8 samples of mixture amounts: acid [10%, 20%, ... 80%]\n",
    "\n",
    "**(b)** After each sample is made, have the system dip the pH sensor in the DI water well, and then measure the pH of the sample.  Plot the measured pH as a function of the [acid]/[base] **ratio**.  \n",
    "\n",
    "**(c)** Run the code created during steps (a) and (b) (this should be one for loop accomplishing both tasks together).  Then plot the results.  \n",
    "\n",
    "**(d)** We will now fit the HH equation to the data.  Write a function that takes in the [acid]/[base] ratio **x** and returns the **pH**, following this equation:\n",
    "-  Func(x, pK) = pK - log(x), where x = [acid]/[base]\n",
    "\n",
    "**(e)** Follow the example for the scipy function \"curve_fit\" to fit this function to the data you have measured: \n",
    "\n",
    "https://docs.scipy.org/doc/scipy/reference/generated/scipy.optimize.curve_fit.html\n",
    "\n",
    "(use default method and no optional parameters)\n",
    "\n",
    "**(f)** What is the pK value discovered?\n"
   ]
  },
  {
   "cell_type": "code",
   "execution_count": null,
   "id": "0c538d8d-278b-47ad-aa55-956979c359e9",
   "metadata": {},
   "outputs": [],
   "source": [
    "pH_device.to_zpos(\"full_up\")\n",
    "depo_device.to_zpos(\"full_up\")\n",
    "stage.home()"
   ]
  },
  {
   "cell_type": "code",
   "execution_count": 10,
   "id": "9a464235-f031-425c-b4ea-93a48e6a923a",
   "metadata": {},
   "outputs": [],
   "source": [
    "#PIPETTING THE SOLUTIONS\n",
    "\n",
    "def mix(r,j,i):\n",
    "    a = 2 * r/(r + 1)\n",
    "    if a <= 0.5:\n",
    "        b = 0.5 - a\n",
    "        depo_device.acquire(a, location=\"acid\")\n",
    "        depo_device.deposition(a, row=j, col=i)\n",
    "        depclean()\n",
    "        \n",
    "        for n in range(3):            \n",
    "            depo_device.acquire(0.5, location=\"base\")\n",
    "            depo_device.deposition(0.5, row=j, col=i)            \n",
    "        depo_device.acquire(b, location=\"base\")\n",
    "        depo_device.deposition(b, row=j, col=i)\n",
    "        depclean()\n",
    "\n",
    "    elif a <= 1:\n",
    "        a = a - 0.5\n",
    "        b = 0.5 - a\n",
    "        depo_device.acquire(0.5, location=\"acid\")\n",
    "        depo_device.deposition(0.5, row=j, col=i)\n",
    "        depo_device.acquire(a, location=\"acid\")\n",
    "        depo_device.deposition(a, row=j, col=i)\n",
    "        depclean()\n",
    "        \n",
    "        for n in range(2):\n",
    "            depo_device.acquire(0.5, location=\"base\")\n",
    "            depo_device.deposition(0.5, row=j, col=i)       \n",
    "        depo_device.acquire(b, location=\"base\")\n",
    "        depo_device.deposition(b, row=j, col=i)\n",
    "        depclean()\n",
    "\n",
    "    elif a <= 1.5:\n",
    "        a = a - 1\n",
    "        b = 0.5 - a\n",
    "        for n in range(2):\n",
    "            depo_device.acquire(0.5, location=\"acid\")\n",
    "            depo_device.deposition(0.5, row=j, col=i)\n",
    "        depo_device.acquire(a, location=\"acid\")\n",
    "        depo_device.deposition(a, row=j, col=i)\n",
    "        depclean()\n",
    "\n",
    "        depo_device.acquire(0.5, location=\"base\")\n",
    "        depo_device.deposition(0.5, row=j, col=i)       \n",
    "        depo_device.acquire(b, location=\"base\")\n",
    "        depo_device.deposition(b, row=j, col=i)\n",
    "        depclean()\n",
    "\n",
    "    elif a <= 2:\n",
    "        a = a - 1.5\n",
    "        b = 0.5 - a\n",
    "        for n in range(3):\n",
    "            depo_device.acquire(0.5, location=\"acid\")\n",
    "            depo_device.deposition(0.5, row=j, col=i)\n",
    "        depo_device.acquire(a, location=\"acid\")\n",
    "        depo_device.deposition(a, row=j, col=i)\n",
    "        depclean()\n",
    "\n",
    "        depo_device.acquire(b, location=\"base\")\n",
    "        depo_device.deposition(b, row=j, col=i)\n",
    "        depclean()\n",
    "\n",
    "def HH(r, pKa):\n",
    "    hh = pKa - np.log10(r)\n",
    "    return hh"
   ]
  },
  {
   "cell_type": "code",
   "execution_count": 15,
   "id": "29c8e75e-91b9-43b7-bc1d-e3db9912e264",
   "metadata": {},
   "outputs": [
    {
     "name": "stdout",
     "output_type": "stream",
     "text": [
      "Voltage is Measured as: 1.17\n",
      "pH [0.4]= 4.683488486036259\n",
      "HH pH [0.4]= 5.137940008672038\n",
      "Voltage is Measured as: 1.15\n",
      "pH [0.8]= 4.594414502694759\n",
      "HH pH [0.8]= 4.8369100130080565\n",
      "Voltage is Measured as: 1.07\n",
      "pH [1.6]= 4.238118569328763\n",
      "HH pH [1.6]= 4.535880017344075\n",
      "Voltage is Measured as: 0.99\n",
      "pH [3.2]= 3.881822635962765\n",
      "HH pH [3.2]= 4.234850021680094\n",
      "Voltage is Measured as: 0.92\n",
      "pH [6.4]= 3.5700636942675175\n",
      "HH pH [6.4]= 3.933820026016113\n",
      "Voltage is Measured as: 0.87\n",
      "pH [12.8]= 3.347378735913769\n",
      "HH pH [12.8]= 3.632790030352132\n"
     ]
    }
   ],
   "source": [
    "#RUNNING EXPERIMENT (PIPETTING & MEASURING)\n",
    "\n",
    "r = [0.1, 0.2, 0.4, 0.8, 1.6, 3.2, 6.4, 12.8]\n",
    "measurement = []\n",
    "ph = []\n",
    "hh = []\n",
    "count = 0\n",
    "for ratio in r:\n",
    "    row, col = get_row_col(count)\n",
    "    mix(ratio, row, col)\n",
    "    clean()\n",
    "    blot()\n",
    "    measurement.append(measure(row, col))\n",
    "    ph.append(line[0]*measurement[count]+line[1])\n",
    "    hh.append(HH(ratio, 4.74))\n",
    "    print(f'pH [{ratio}]= {ph[count]}')\n",
    "    print(f'HH pH [{ratio}]= {hh[count]}')\n",
    "    count +=1\n",
    "    index +=1\n",
    "    \n",
    "plt.plot(r,ph, '-ro')\n",
    "plt.xlabel('acid/c_base')\n",
    "plt.ylabel('pH')\n",
    "plt.show\n",
    "\n",
    "plt.plot(r,hh, '-ko')\n",
    "plt.xlabel('acid/c_base')\n",
    "plt.ylabel('pH')\n",
    "plt.show"
   ]
  },
  {
   "cell_type": "code",
   "execution_count": null,
   "id": "1cfe1bae-0d04-4914-bb81-e1b8083160c8",
   "metadata": {},
   "outputs": [],
   "source": [
    "#FITTING A STRAIGHT LINE TO LOGARIGHTMIC DATA\n",
    "\n",
    "y = [3.41, 3.55, 3.86, 4.18, 4.50, 4.77, 5.23, 5.50]\n",
    "x = [np.log10(12.8), np.log10(6.4), np.log10(3.2), np.log10(1.6), np.log10(0.8), np.log10(0.4), np.log10(0.2), np.log10(0.1)]\n",
    "\n",
    "line2 = np.polyfit(x,y,1)\n",
    "print(f'slope (exponent): {line2[0]}, intercept (pKa): {line2[1]}')\n",
    "trend = np.poly1d(line2)\n",
    "plt.plot(x,y, 'ro', x, trend(x), '-k')\n",
    "plt.xlabel('log10(acid/c_base)')\n",
    "plt.ylabel('pH')\n",
    "plt.show"
   ]
  },
  {
   "cell_type": "markdown",
   "id": "b99b2149",
   "metadata": {},
   "source": [
    "## (3) Gaussian Process \n",
    "\n",
    "**(a)** Fit the data with Gaussian process regression using an RBF kernel.  Optimize the hyperparameters and plot the results.  Output the GP hyperparameters: kernel length scale, kernel variance, noise variance.\n",
    "\n",
    "**(b)** Do the same, but this time with the data for x = [10%,...,60%]\n",
    "\n",
    "**(c)** Bad assumptions:\n",
    "-  In (a) and (b) we optimized to find the best values for the hyperparameters. Let’s see what happens when we pick a poor value. Here we again will use the partial data used in (b). Using the following lines of code, fix the kernel length scale to first a value of 0.1 and then 10. For each case, optimize the rest of the parameters and plot the results. What is the impact of fixing a small or large value for the length scale?(m.rbf.lengthscale = 0.1, m.rbf.lengthscale.fix())\n",
    "- Now let’s see what happens when we make a poor assumption for the kernel. Again use the partial data from (b). Let’s set the kernel to the standard periodic: StdPeriodic(1)\n",
    "- This imposes the assumption that the pH function is periodic. Optimize all the hyperparameters and plot the result."
   ]
  },
  {
   "cell_type": "code",
   "execution_count": null,
   "id": "0f99a930",
   "metadata": {},
   "outputs": [],
   "source": []
  },
  {
   "cell_type": "markdown",
   "id": "5ec3d25e",
   "metadata": {},
   "source": [
    "## (4) Active Learning: Optimizing \n",
    "\n",
    "In this section we will combine the GP of (3a) with active learning.\n",
    "\n",
    "**(a)** We would like to find the value of x where pH = 4.75\n",
    "Define an acquisition function and discuss with the TA or a professor. For this challenge combine exploitation and exploration.\n",
    "\n",
    "**(b)** Combine the acquisition function with the GP of (3a). Hint: use the demo code from the active learning lecture. Allow active learning to select any 5% increment value of the acid percentage (5% through 95%). Have active learning make 8 samples in sequence, following the GP and active learning loop. What result do you get?\n",
    "\n"
   ]
  },
  {
   "cell_type": "code",
   "execution_count": null,
   "id": "50b2d456",
   "metadata": {},
   "outputs": [],
   "source": []
  }
 ],
 "metadata": {
  "kernelspec": {
   "display_name": "Legolas_2024-kernel",
   "language": "python",
   "name": "legolas_2024-kernel"
  },
  "language_info": {
   "codemirror_mode": {
    "name": "ipython",
    "version": 3
   },
   "file_extension": ".py",
   "mimetype": "text/x-python",
   "name": "python",
   "nbconvert_exporter": "python",
   "pygments_lexer": "ipython3",
   "version": "3.11.7"
  },
  "vscode": {
   "interpreter": {
    "hash": "0095c6ec66f02ae1bc8a134f6078f14ee669be44a5c4ac33d7f267434e255fcc"
   }
  }
 },
 "nbformat": 4,
 "nbformat_minor": 5
}
